{
 "cells": [
  {
   "cell_type": "code",
   "execution_count": 1,
   "metadata": {
    "execution": {
     "iopub.execute_input": "2023-11-29T06:54:04.653893Z",
     "iopub.status.busy": "2023-11-29T06:54:04.652893Z",
     "iopub.status.idle": "2023-11-29T06:54:04.667932Z",
     "shell.execute_reply": "2023-11-29T06:54:04.667011Z",
     "shell.execute_reply.started": "2023-11-29T06:54:04.653893Z"
    }
   },
   "outputs": [],
   "source": [
    "import os"
   ]
  },
  {
   "cell_type": "code",
   "execution_count": 2,
   "metadata": {
    "execution": {
     "iopub.execute_input": "2023-11-29T06:54:04.671951Z",
     "iopub.status.busy": "2023-11-29T06:54:04.670951Z",
     "iopub.status.idle": "2023-11-29T06:54:04.682950Z",
     "shell.execute_reply": "2023-11-29T06:54:04.682950Z",
     "shell.execute_reply.started": "2023-11-29T06:54:04.671951Z"
    }
   },
   "outputs": [],
   "source": [
    "# os.environ[\"OPENBLAS_NUM_THREADS\"] = \"1\"  # For implicit ALS"
   ]
  },
  {
   "cell_type": "code",
   "execution_count": 3,
   "metadata": {
    "execution": {
     "iopub.execute_input": "2023-11-29T06:54:04.684950Z",
     "iopub.status.busy": "2023-11-29T06:54:04.684950Z",
     "iopub.status.idle": "2023-11-29T06:54:04.698949Z",
     "shell.execute_reply": "2023-11-29T06:54:04.698949Z",
     "shell.execute_reply.started": "2023-11-29T06:54:04.684950Z"
    }
   },
   "outputs": [],
   "source": [
    "import warnings\n",
    "warnings.filterwarnings('ignore')"
   ]
  },
  {
   "cell_type": "code",
   "execution_count": 4,
   "metadata": {
    "execution": {
     "iopub.execute_input": "2023-11-29T06:54:04.700948Z",
     "iopub.status.busy": "2023-11-29T06:54:04.699950Z",
     "iopub.status.idle": "2023-11-29T06:54:06.157361Z",
     "shell.execute_reply": "2023-11-29T06:54:06.157361Z",
     "shell.execute_reply.started": "2023-11-29T06:54:04.700948Z"
    }
   },
   "outputs": [],
   "source": [
    "import pandas as pd\n",
    "import numpy as np\n",
    "\n",
    "from implicit.als import AlternatingLeastSquares\n",
    "\n",
    "from rectools.metrics import Precision, Recall, MAP, calc_metrics\n",
    "from rectools.models import PopularModel, RandomModel, ImplicitALSWrapperModel\n",
    "from rectools import Columns\n",
    "from rectools.dataset import Dataset\n",
    "from rectools.models import ImplicitALSWrapperModel, LightFMWrapperModel\n",
    "\n",
    "import matplotlib.pyplot as plt\n",
    "# import seaborn as sns\n",
    "\n",
    "import matplotlib.pyplot as plt\n",
    "from pathlib import Path\n",
    "import typing as tp\n",
    "from tqdm import tqdm\n",
    "\n",
    "from lightfm import LightFM\n",
    "\n",
    "from implicit.bpr import BayesianPersonalizedRanking\n",
    "\n",
    "from implicit.lmf import LogisticMatrixFactorization"
   ]
  },
  {
   "cell_type": "code",
   "execution_count": 5,
   "metadata": {
    "execution": {
     "iopub.execute_input": "2023-11-29T06:54:06.159361Z",
     "iopub.status.busy": "2023-11-29T06:54:06.158362Z",
     "iopub.status.idle": "2023-11-29T06:54:06.174361Z",
     "shell.execute_reply": "2023-11-29T06:54:06.173361Z",
     "shell.execute_reply.started": "2023-11-29T06:54:06.159361Z"
    }
   },
   "outputs": [],
   "source": [
    "DATA_PATH = Path(\"/mnt/88fdd009-dda3-49d8-9888-cfd9d9d5910a/ITMO/RecomendationsService/DATA\")"
   ]
  },
  {
   "cell_type": "markdown",
   "metadata": {},
   "source": [
    "# LOAD DATA "
   ]
  },
  {
   "cell_type": "code",
   "execution_count": 6,
   "metadata": {
    "execution": {
     "iopub.execute_input": "2023-11-29T06:54:06.175361Z",
     "iopub.status.busy": "2023-11-29T06:54:06.175361Z",
     "iopub.status.idle": "2023-11-29T06:54:08.982371Z",
     "shell.execute_reply": "2023-11-29T06:54:08.982371Z",
     "shell.execute_reply.started": "2023-11-29T06:54:06.175361Z"
    }
   },
   "outputs": [],
   "source": [
    "users = pd.read_csv(DATA_PATH / 'users.csv')\n",
    "items = pd.read_csv(DATA_PATH / 'items.csv')\n",
    "interactions = pd.read_csv(DATA_PATH / 'interactions.csv')"
   ]
  },
  {
   "cell_type": "code",
   "execution_count": 7,
   "metadata": {},
   "outputs": [
    {
     "data": {
      "text/html": [
       "<div>\n",
       "<style scoped>\n",
       "    .dataframe tbody tr th:only-of-type {\n",
       "        vertical-align: middle;\n",
       "    }\n",
       "\n",
       "    .dataframe tbody tr th {\n",
       "        vertical-align: top;\n",
       "    }\n",
       "\n",
       "    .dataframe thead th {\n",
       "        text-align: right;\n",
       "    }\n",
       "</style>\n",
       "<table border=\"1\" class=\"dataframe\">\n",
       "  <thead>\n",
       "    <tr style=\"text-align: right;\">\n",
       "      <th></th>\n",
       "      <th>user_id</th>\n",
       "      <th>item_id</th>\n",
       "      <th>last_watch_dt</th>\n",
       "      <th>total_dur</th>\n",
       "      <th>watched_pct</th>\n",
       "    </tr>\n",
       "  </thead>\n",
       "  <tbody>\n",
       "    <tr>\n",
       "      <th>0</th>\n",
       "      <td>176549</td>\n",
       "      <td>9506</td>\n",
       "      <td>2021-05-11</td>\n",
       "      <td>4250</td>\n",
       "      <td>72.0</td>\n",
       "    </tr>\n",
       "    <tr>\n",
       "      <th>1</th>\n",
       "      <td>699317</td>\n",
       "      <td>1659</td>\n",
       "      <td>2021-05-29</td>\n",
       "      <td>8317</td>\n",
       "      <td>100.0</td>\n",
       "    </tr>\n",
       "    <tr>\n",
       "      <th>2</th>\n",
       "      <td>656683</td>\n",
       "      <td>7107</td>\n",
       "      <td>2021-05-09</td>\n",
       "      <td>10</td>\n",
       "      <td>0.0</td>\n",
       "    </tr>\n",
       "    <tr>\n",
       "      <th>3</th>\n",
       "      <td>864613</td>\n",
       "      <td>7638</td>\n",
       "      <td>2021-07-05</td>\n",
       "      <td>14483</td>\n",
       "      <td>100.0</td>\n",
       "    </tr>\n",
       "    <tr>\n",
       "      <th>4</th>\n",
       "      <td>964868</td>\n",
       "      <td>9506</td>\n",
       "      <td>2021-04-30</td>\n",
       "      <td>6725</td>\n",
       "      <td>100.0</td>\n",
       "    </tr>\n",
       "    <tr>\n",
       "      <th>...</th>\n",
       "      <td>...</td>\n",
       "      <td>...</td>\n",
       "      <td>...</td>\n",
       "      <td>...</td>\n",
       "      <td>...</td>\n",
       "    </tr>\n",
       "    <tr>\n",
       "      <th>5476246</th>\n",
       "      <td>648596</td>\n",
       "      <td>12225</td>\n",
       "      <td>2021-08-13</td>\n",
       "      <td>76</td>\n",
       "      <td>0.0</td>\n",
       "    </tr>\n",
       "    <tr>\n",
       "      <th>5476247</th>\n",
       "      <td>546862</td>\n",
       "      <td>9673</td>\n",
       "      <td>2021-04-13</td>\n",
       "      <td>2308</td>\n",
       "      <td>49.0</td>\n",
       "    </tr>\n",
       "    <tr>\n",
       "      <th>5476248</th>\n",
       "      <td>697262</td>\n",
       "      <td>15297</td>\n",
       "      <td>2021-08-20</td>\n",
       "      <td>18307</td>\n",
       "      <td>63.0</td>\n",
       "    </tr>\n",
       "    <tr>\n",
       "      <th>5476249</th>\n",
       "      <td>384202</td>\n",
       "      <td>16197</td>\n",
       "      <td>2021-04-19</td>\n",
       "      <td>6203</td>\n",
       "      <td>100.0</td>\n",
       "    </tr>\n",
       "    <tr>\n",
       "      <th>5476250</th>\n",
       "      <td>319709</td>\n",
       "      <td>4436</td>\n",
       "      <td>2021-08-15</td>\n",
       "      <td>3921</td>\n",
       "      <td>45.0</td>\n",
       "    </tr>\n",
       "  </tbody>\n",
       "</table>\n",
       "<p>5476251 rows × 5 columns</p>\n",
       "</div>"
      ],
      "text/plain": [
       "         user_id  item_id last_watch_dt  total_dur  watched_pct\n",
       "0         176549     9506    2021-05-11       4250         72.0\n",
       "1         699317     1659    2021-05-29       8317        100.0\n",
       "2         656683     7107    2021-05-09         10          0.0\n",
       "3         864613     7638    2021-07-05      14483        100.0\n",
       "4         964868     9506    2021-04-30       6725        100.0\n",
       "...          ...      ...           ...        ...          ...\n",
       "5476246   648596    12225    2021-08-13         76          0.0\n",
       "5476247   546862     9673    2021-04-13       2308         49.0\n",
       "5476248   697262    15297    2021-08-20      18307         63.0\n",
       "5476249   384202    16197    2021-04-19       6203        100.0\n",
       "5476250   319709     4436    2021-08-15       3921         45.0\n",
       "\n",
       "[5476251 rows x 5 columns]"
      ]
     },
     "execution_count": 7,
     "metadata": {},
     "output_type": "execute_result"
    }
   ],
   "source": [
    "interactions"
   ]
  },
  {
   "cell_type": "markdown",
   "metadata": {},
   "source": [
    "# Preprocess"
   ]
  },
  {
   "cell_type": "code",
   "execution_count": 8,
   "metadata": {
    "execution": {
     "iopub.execute_input": "2023-11-29T06:54:08.985371Z",
     "iopub.status.busy": "2023-11-29T06:54:08.985371Z",
     "iopub.status.idle": "2023-11-29T06:54:08.999401Z",
     "shell.execute_reply": "2023-11-29T06:54:08.998401Z",
     "shell.execute_reply.started": "2023-11-29T06:54:08.985371Z"
    }
   },
   "outputs": [],
   "source": [
    "Columns.Datetime = 'last_watch_dt'"
   ]
  },
  {
   "cell_type": "code",
   "execution_count": 9,
   "metadata": {
    "execution": {
     "iopub.execute_input": "2023-11-29T06:54:09.000402Z",
     "iopub.status.busy": "2023-11-29T06:54:09.000402Z",
     "iopub.status.idle": "2023-11-29T06:54:10.690252Z",
     "shell.execute_reply": "2023-11-29T06:54:10.689252Z",
     "shell.execute_reply.started": "2023-11-29T06:54:09.000402Z"
    }
   },
   "outputs": [],
   "source": [
    "interactions.drop(interactions[interactions[Columns.Datetime].str.len() != 10].index, inplace=True)"
   ]
  },
  {
   "cell_type": "code",
   "execution_count": 10,
   "metadata": {
    "execution": {
     "iopub.execute_input": "2023-11-29T06:54:10.691252Z",
     "iopub.status.busy": "2023-11-29T06:54:10.690252Z",
     "iopub.status.idle": "2023-11-29T06:54:11.344252Z",
     "shell.execute_reply": "2023-11-29T06:54:11.343252Z",
     "shell.execute_reply.started": "2023-11-29T06:54:10.691252Z"
    }
   },
   "outputs": [],
   "source": [
    "interactions[Columns.Datetime] = pd.to_datetime(interactions[Columns.Datetime], format='%Y-%m-%d')"
   ]
  },
  {
   "cell_type": "code",
   "execution_count": 11,
   "metadata": {
    "execution": {
     "iopub.execute_input": "2023-11-29T06:54:11.345252Z",
     "iopub.status.busy": "2023-11-29T06:54:11.345252Z",
     "iopub.status.idle": "2023-11-29T06:54:11.374252Z",
     "shell.execute_reply": "2023-11-29T06:54:11.374252Z",
     "shell.execute_reply.started": "2023-11-29T06:54:11.345252Z"
    }
   },
   "outputs": [],
   "source": [
    "max_date = interactions[Columns.Datetime].max()"
   ]
  },
  {
   "cell_type": "code",
   "execution_count": 12,
   "metadata": {
    "execution": {
     "iopub.execute_input": "2023-11-29T06:54:11.376252Z",
     "iopub.status.busy": "2023-11-29T06:54:11.376252Z",
     "iopub.status.idle": "2023-11-29T06:54:11.405252Z",
     "shell.execute_reply": "2023-11-29T06:54:11.405252Z",
     "shell.execute_reply.started": "2023-11-29T06:54:11.376252Z"
    }
   },
   "outputs": [],
   "source": [
    "interactions[Columns.Weight] = np.where(interactions['watched_pct'] > 10, 3, 1)"
   ]
  },
  {
   "cell_type": "code",
   "execution_count": 13,
   "metadata": {
    "execution": {
     "iopub.execute_input": "2023-11-29T06:54:11.407252Z",
     "iopub.status.busy": "2023-11-29T06:54:11.406252Z",
     "iopub.status.idle": "2023-11-29T06:54:11.628252Z",
     "shell.execute_reply": "2023-11-29T06:54:11.627252Z",
     "shell.execute_reply.started": "2023-11-29T06:54:11.407252Z"
    }
   },
   "outputs": [
    {
     "name": "stdout",
     "output_type": "stream",
     "text": [
      "train: (4985269, 6)\n",
      "test: (490982, 6)\n"
     ]
    }
   ],
   "source": [
    "train = interactions[interactions[Columns.Datetime] < max_date - pd.Timedelta(days=7)].copy()\n",
    "test = interactions[interactions[Columns.Datetime] >= max_date - pd.Timedelta(days=7)].copy()\n",
    "\n",
    "print(f\"train: {train.shape}\")\n",
    "print(f\"test: {test.shape}\")"
   ]
  },
  {
   "cell_type": "code",
   "execution_count": 14,
   "metadata": {
    "execution": {
     "iopub.execute_input": "2023-11-29T06:54:11.629254Z",
     "iopub.status.busy": "2023-11-29T06:54:11.629254Z",
     "iopub.status.idle": "2023-11-29T06:54:12.075251Z",
     "shell.execute_reply": "2023-11-29T06:54:12.075251Z",
     "shell.execute_reply.started": "2023-11-29T06:54:11.629254Z"
    }
   },
   "outputs": [],
   "source": [
    "train.drop(train.query(\"total_dur < 300\").index, inplace=True)"
   ]
  },
  {
   "cell_type": "code",
   "execution_count": 15,
   "metadata": {
    "execution": {
     "iopub.execute_input": "2023-11-29T06:54:12.077252Z",
     "iopub.status.busy": "2023-11-29T06:54:12.076252Z",
     "iopub.status.idle": "2023-11-29T06:54:13.166062Z",
     "shell.execute_reply": "2023-11-29T06:54:13.166062Z",
     "shell.execute_reply.started": "2023-11-29T06:54:12.077252Z"
    }
   },
   "outputs": [],
   "source": [
    "# отфильтруем холодных пользователей из теста\n",
    "cold_users = set(test[Columns.User]) - set(train[Columns.User])"
   ]
  },
  {
   "cell_type": "code",
   "execution_count": 16,
   "metadata": {
    "execution": {
     "iopub.execute_input": "2023-11-29T06:54:13.168063Z",
     "iopub.status.busy": "2023-11-29T06:54:13.167063Z",
     "iopub.status.idle": "2023-11-29T06:54:13.246063Z",
     "shell.execute_reply": "2023-11-29T06:54:13.246063Z",
     "shell.execute_reply.started": "2023-11-29T06:54:13.168063Z"
    }
   },
   "outputs": [],
   "source": [
    "test.drop(test[test[Columns.User].isin(cold_users)].index, inplace=True)"
   ]
  },
  {
   "cell_type": "markdown",
   "metadata": {},
   "source": [
    "# Prepare features"
   ]
  },
  {
   "cell_type": "markdown",
   "metadata": {},
   "source": [
    "## User features"
   ]
  },
  {
   "cell_type": "code",
   "execution_count": 17,
   "metadata": {
    "execution": {
     "iopub.execute_input": "2023-11-29T06:54:13.248063Z",
     "iopub.status.busy": "2023-11-29T06:54:13.247063Z",
     "iopub.status.idle": "2023-11-29T06:54:13.546063Z",
     "shell.execute_reply": "2023-11-29T06:54:13.546063Z",
     "shell.execute_reply.started": "2023-11-29T06:54:13.248063Z"
    }
   },
   "outputs": [
    {
     "data": {
      "text/plain": [
       "user_id         0\n",
       "age         14095\n",
       "income      14776\n",
       "sex         13831\n",
       "kids_flg        0\n",
       "dtype: int64"
      ]
     },
     "execution_count": 17,
     "metadata": {},
     "output_type": "execute_result"
    }
   ],
   "source": [
    "users.isnull().sum()"
   ]
  },
  {
   "cell_type": "code",
   "execution_count": 18,
   "metadata": {
    "execution": {
     "iopub.execute_input": "2023-11-29T06:54:13.548063Z",
     "iopub.status.busy": "2023-11-29T06:54:13.547063Z",
     "iopub.status.idle": "2023-11-29T06:54:13.862063Z",
     "shell.execute_reply": "2023-11-29T06:54:13.862063Z",
     "shell.execute_reply.started": "2023-11-29T06:54:13.548063Z"
    }
   },
   "outputs": [],
   "source": [
    "users.fillna('Unknown', inplace=True)"
   ]
  },
  {
   "cell_type": "code",
   "execution_count": 19,
   "metadata": {
    "execution": {
     "iopub.execute_input": "2023-11-29T06:54:13.864063Z",
     "iopub.status.busy": "2023-11-29T06:54:13.863063Z",
     "iopub.status.idle": "2023-11-29T06:54:14.007831Z",
     "shell.execute_reply": "2023-11-29T06:54:14.007831Z",
     "shell.execute_reply.started": "2023-11-29T06:54:13.864063Z"
    }
   },
   "outputs": [
    {
     "data": {
      "text/plain": [
       "user_id     840197\n",
       "age              7\n",
       "income           7\n",
       "sex              3\n",
       "kids_flg         2\n",
       "dtype: int64"
      ]
     },
     "execution_count": 19,
     "metadata": {},
     "output_type": "execute_result"
    }
   ],
   "source": [
    "users.nunique()"
   ]
  },
  {
   "cell_type": "code",
   "execution_count": 20,
   "metadata": {
    "execution": {
     "iopub.execute_input": "2023-11-29T06:54:14.009831Z",
     "iopub.status.busy": "2023-11-29T06:54:14.008831Z",
     "iopub.status.idle": "2023-11-29T06:54:14.136831Z",
     "shell.execute_reply": "2023-11-29T06:54:14.135831Z",
     "shell.execute_reply.started": "2023-11-29T06:54:14.009831Z"
    }
   },
   "outputs": [],
   "source": [
    "users = users.loc[users[Columns.User].isin(train[Columns.User])].copy()"
   ]
  },
  {
   "cell_type": "code",
   "execution_count": 21,
   "metadata": {
    "execution": {
     "iopub.execute_input": "2023-11-29T06:54:14.137831Z",
     "iopub.status.busy": "2023-11-29T06:54:14.137831Z",
     "iopub.status.idle": "2023-11-29T06:54:14.168831Z",
     "shell.execute_reply": "2023-11-29T06:54:14.167831Z",
     "shell.execute_reply.started": "2023-11-29T06:54:14.137831Z"
    }
   },
   "outputs": [
    {
     "data": {
      "text/html": [
       "<div>\n",
       "<style scoped>\n",
       "    .dataframe tbody tr th:only-of-type {\n",
       "        vertical-align: middle;\n",
       "    }\n",
       "\n",
       "    .dataframe tbody tr th {\n",
       "        vertical-align: top;\n",
       "    }\n",
       "\n",
       "    .dataframe thead th {\n",
       "        text-align: right;\n",
       "    }\n",
       "</style>\n",
       "<table border=\"1\" class=\"dataframe\">\n",
       "  <thead>\n",
       "    <tr style=\"text-align: right;\">\n",
       "      <th></th>\n",
       "      <th>user_id</th>\n",
       "      <th>age</th>\n",
       "      <th>income</th>\n",
       "      <th>sex</th>\n",
       "      <th>kids_flg</th>\n",
       "    </tr>\n",
       "  </thead>\n",
       "  <tbody>\n",
       "    <tr>\n",
       "      <th>0</th>\n",
       "      <td>973171</td>\n",
       "      <td>age_25_34</td>\n",
       "      <td>income_60_90</td>\n",
       "      <td>М</td>\n",
       "      <td>1</td>\n",
       "    </tr>\n",
       "    <tr>\n",
       "      <th>1</th>\n",
       "      <td>962099</td>\n",
       "      <td>age_18_24</td>\n",
       "      <td>income_20_40</td>\n",
       "      <td>М</td>\n",
       "      <td>0</td>\n",
       "    </tr>\n",
       "    <tr>\n",
       "      <th>3</th>\n",
       "      <td>721985</td>\n",
       "      <td>age_45_54</td>\n",
       "      <td>income_20_40</td>\n",
       "      <td>Ж</td>\n",
       "      <td>0</td>\n",
       "    </tr>\n",
       "    <tr>\n",
       "      <th>4</th>\n",
       "      <td>704055</td>\n",
       "      <td>age_35_44</td>\n",
       "      <td>income_60_90</td>\n",
       "      <td>Ж</td>\n",
       "      <td>0</td>\n",
       "    </tr>\n",
       "    <tr>\n",
       "      <th>5</th>\n",
       "      <td>1037719</td>\n",
       "      <td>age_45_54</td>\n",
       "      <td>income_60_90</td>\n",
       "      <td>М</td>\n",
       "      <td>0</td>\n",
       "    </tr>\n",
       "    <tr>\n",
       "      <th>...</th>\n",
       "      <td>...</td>\n",
       "      <td>...</td>\n",
       "      <td>...</td>\n",
       "      <td>...</td>\n",
       "      <td>...</td>\n",
       "    </tr>\n",
       "    <tr>\n",
       "      <th>840184</th>\n",
       "      <td>529394</td>\n",
       "      <td>age_25_34</td>\n",
       "      <td>income_40_60</td>\n",
       "      <td>Ж</td>\n",
       "      <td>0</td>\n",
       "    </tr>\n",
       "    <tr>\n",
       "      <th>840186</th>\n",
       "      <td>80113</td>\n",
       "      <td>age_25_34</td>\n",
       "      <td>income_40_60</td>\n",
       "      <td>Ж</td>\n",
       "      <td>0</td>\n",
       "    </tr>\n",
       "    <tr>\n",
       "      <th>840188</th>\n",
       "      <td>312839</td>\n",
       "      <td>age_65_inf</td>\n",
       "      <td>income_60_90</td>\n",
       "      <td>Ж</td>\n",
       "      <td>0</td>\n",
       "    </tr>\n",
       "    <tr>\n",
       "      <th>840189</th>\n",
       "      <td>191349</td>\n",
       "      <td>age_45_54</td>\n",
       "      <td>income_40_60</td>\n",
       "      <td>М</td>\n",
       "      <td>1</td>\n",
       "    </tr>\n",
       "    <tr>\n",
       "      <th>840190</th>\n",
       "      <td>393868</td>\n",
       "      <td>age_25_34</td>\n",
       "      <td>income_20_40</td>\n",
       "      <td>М</td>\n",
       "      <td>0</td>\n",
       "    </tr>\n",
       "  </tbody>\n",
       "</table>\n",
       "<p>586668 rows × 5 columns</p>\n",
       "</div>"
      ],
      "text/plain": [
       "        user_id         age        income sex  kids_flg\n",
       "0        973171   age_25_34  income_60_90   М         1\n",
       "1        962099   age_18_24  income_20_40   М         0\n",
       "3        721985   age_45_54  income_20_40   Ж         0\n",
       "4        704055   age_35_44  income_60_90   Ж         0\n",
       "5       1037719   age_45_54  income_60_90   М         0\n",
       "...         ...         ...           ...  ..       ...\n",
       "840184   529394   age_25_34  income_40_60   Ж         0\n",
       "840186    80113   age_25_34  income_40_60   Ж         0\n",
       "840188   312839  age_65_inf  income_60_90   Ж         0\n",
       "840189   191349   age_45_54  income_40_60   М         1\n",
       "840190   393868   age_25_34  income_20_40   М         0\n",
       "\n",
       "[586668 rows x 5 columns]"
      ]
     },
     "execution_count": 21,
     "metadata": {},
     "output_type": "execute_result"
    }
   ],
   "source": [
    "users"
   ]
  },
  {
   "cell_type": "code",
   "execution_count": 22,
   "metadata": {
    "execution": {
     "iopub.execute_input": "2023-11-29T06:54:14.169831Z",
     "iopub.status.busy": "2023-11-29T06:54:14.169831Z",
     "iopub.status.idle": "2023-11-29T06:54:14.215831Z",
     "shell.execute_reply": "2023-11-29T06:54:14.215831Z",
     "shell.execute_reply.started": "2023-11-29T06:54:14.169831Z"
    }
   },
   "outputs": [
    {
     "data": {
      "text/html": [
       "<div>\n",
       "<style scoped>\n",
       "    .dataframe tbody tr th:only-of-type {\n",
       "        vertical-align: middle;\n",
       "    }\n",
       "\n",
       "    .dataframe tbody tr th {\n",
       "        vertical-align: top;\n",
       "    }\n",
       "\n",
       "    .dataframe thead th {\n",
       "        text-align: right;\n",
       "    }\n",
       "</style>\n",
       "<table border=\"1\" class=\"dataframe\">\n",
       "  <thead>\n",
       "    <tr style=\"text-align: right;\">\n",
       "      <th></th>\n",
       "      <th>id</th>\n",
       "      <th>value</th>\n",
       "      <th>feature</th>\n",
       "    </tr>\n",
       "  </thead>\n",
       "  <tbody>\n",
       "    <tr>\n",
       "      <th>0</th>\n",
       "      <td>973171</td>\n",
       "      <td>М</td>\n",
       "      <td>sex</td>\n",
       "    </tr>\n",
       "    <tr>\n",
       "      <th>1</th>\n",
       "      <td>962099</td>\n",
       "      <td>М</td>\n",
       "      <td>sex</td>\n",
       "    </tr>\n",
       "    <tr>\n",
       "      <th>3</th>\n",
       "      <td>721985</td>\n",
       "      <td>Ж</td>\n",
       "      <td>sex</td>\n",
       "    </tr>\n",
       "    <tr>\n",
       "      <th>4</th>\n",
       "      <td>704055</td>\n",
       "      <td>Ж</td>\n",
       "      <td>sex</td>\n",
       "    </tr>\n",
       "    <tr>\n",
       "      <th>5</th>\n",
       "      <td>1037719</td>\n",
       "      <td>М</td>\n",
       "      <td>sex</td>\n",
       "    </tr>\n",
       "  </tbody>\n",
       "</table>\n",
       "</div>"
      ],
      "text/plain": [
       "        id value feature\n",
       "0   973171     М     sex\n",
       "1   962099     М     sex\n",
       "3   721985     Ж     sex\n",
       "4   704055     Ж     sex\n",
       "5  1037719     М     sex"
      ]
     },
     "execution_count": 22,
     "metadata": {},
     "output_type": "execute_result"
    }
   ],
   "source": [
    "user_features_frames = []\n",
    "for feature in [\"sex\", \"age\", \"income\"]:\n",
    "    feature_frame = users.reindex(columns=[Columns.User, feature])\n",
    "    feature_frame.columns = [\"id\", \"value\"]\n",
    "    feature_frame[\"feature\"] = feature\n",
    "    user_features_frames.append(feature_frame)\n",
    "user_features = pd.concat(user_features_frames)\n",
    "user_features.head()"
   ]
  },
  {
   "cell_type": "code",
   "execution_count": 23,
   "metadata": {
    "execution": {
     "iopub.execute_input": "2023-11-29T06:54:14.221831Z",
     "iopub.status.busy": "2023-11-29T06:54:14.221831Z",
     "iopub.status.idle": "2023-11-29T06:54:14.264831Z",
     "shell.execute_reply": "2023-11-29T06:54:14.263831Z",
     "shell.execute_reply.started": "2023-11-29T06:54:14.221831Z"
    }
   },
   "outputs": [
    {
     "data": {
      "text/html": [
       "<div>\n",
       "<style scoped>\n",
       "    .dataframe tbody tr th:only-of-type {\n",
       "        vertical-align: middle;\n",
       "    }\n",
       "\n",
       "    .dataframe tbody tr th {\n",
       "        vertical-align: top;\n",
       "    }\n",
       "\n",
       "    .dataframe thead th {\n",
       "        text-align: right;\n",
       "    }\n",
       "</style>\n",
       "<table border=\"1\" class=\"dataframe\">\n",
       "  <thead>\n",
       "    <tr style=\"text-align: right;\">\n",
       "      <th></th>\n",
       "      <th>id</th>\n",
       "      <th>value</th>\n",
       "      <th>feature</th>\n",
       "    </tr>\n",
       "  </thead>\n",
       "  <tbody>\n",
       "    <tr>\n",
       "      <th>0</th>\n",
       "      <td>973171</td>\n",
       "      <td>М</td>\n",
       "      <td>sex</td>\n",
       "    </tr>\n",
       "    <tr>\n",
       "      <th>0</th>\n",
       "      <td>973171</td>\n",
       "      <td>age_25_34</td>\n",
       "      <td>age</td>\n",
       "    </tr>\n",
       "    <tr>\n",
       "      <th>0</th>\n",
       "      <td>973171</td>\n",
       "      <td>income_60_90</td>\n",
       "      <td>income</td>\n",
       "    </tr>\n",
       "  </tbody>\n",
       "</table>\n",
       "</div>"
      ],
      "text/plain": [
       "       id         value feature\n",
       "0  973171             М     sex\n",
       "0  973171     age_25_34     age\n",
       "0  973171  income_60_90  income"
      ]
     },
     "execution_count": 23,
     "metadata": {},
     "output_type": "execute_result"
    }
   ],
   "source": [
    "user_features.query(f\"id == 973171\")"
   ]
  },
  {
   "cell_type": "markdown",
   "metadata": {},
   "source": [
    "# Item features"
   ]
  },
  {
   "cell_type": "code",
   "execution_count": 24,
   "metadata": {
    "execution": {
     "iopub.execute_input": "2023-11-29T06:54:14.265831Z",
     "iopub.status.busy": "2023-11-29T06:54:14.265831Z",
     "iopub.status.idle": "2023-11-29T06:54:14.297849Z",
     "shell.execute_reply": "2023-11-29T06:54:14.295847Z",
     "shell.execute_reply.started": "2023-11-29T06:54:14.265831Z"
    }
   },
   "outputs": [
    {
     "data": {
      "text/plain": [
       "item_id             0\n",
       "content_type        0\n",
       "title               0\n",
       "title_orig       4745\n",
       "release_year       98\n",
       "genres              0\n",
       "countries          37\n",
       "for_kids        15397\n",
       "age_rating          2\n",
       "studios         14898\n",
       "directors        1509\n",
       "actors           2619\n",
       "description         2\n",
       "keywords          423\n",
       "dtype: int64"
      ]
     },
     "execution_count": 24,
     "metadata": {},
     "output_type": "execute_result"
    }
   ],
   "source": [
    "items.isnull().sum()"
   ]
  },
  {
   "cell_type": "code",
   "execution_count": 25,
   "metadata": {
    "execution": {
     "iopub.execute_input": "2023-11-29T06:54:14.298842Z",
     "iopub.status.busy": "2023-11-29T06:54:14.298842Z",
     "iopub.status.idle": "2023-11-29T06:54:14.344831Z",
     "shell.execute_reply": "2023-11-29T06:54:14.343831Z",
     "shell.execute_reply.started": "2023-11-29T06:54:14.298842Z"
    }
   },
   "outputs": [],
   "source": [
    "items = items.loc[items[Columns.Item].isin(train[Columns.Item])].copy()"
   ]
  },
  {
   "cell_type": "code",
   "execution_count": 26,
   "metadata": {
    "execution": {
     "iopub.execute_input": "2023-11-29T06:54:14.345831Z",
     "iopub.status.busy": "2023-11-29T06:54:14.345831Z",
     "iopub.status.idle": "2023-11-29T06:54:14.360831Z",
     "shell.execute_reply": "2023-11-29T06:54:14.359831Z",
     "shell.execute_reply.started": "2023-11-29T06:54:14.345831Z"
    }
   },
   "outputs": [
    {
     "data": {
      "text/html": [
       "<div>\n",
       "<style scoped>\n",
       "    .dataframe tbody tr th:only-of-type {\n",
       "        vertical-align: middle;\n",
       "    }\n",
       "\n",
       "    .dataframe tbody tr th {\n",
       "        vertical-align: top;\n",
       "    }\n",
       "\n",
       "    .dataframe thead th {\n",
       "        text-align: right;\n",
       "    }\n",
       "</style>\n",
       "<table border=\"1\" class=\"dataframe\">\n",
       "  <thead>\n",
       "    <tr style=\"text-align: right;\">\n",
       "      <th></th>\n",
       "      <th>item_id</th>\n",
       "      <th>content_type</th>\n",
       "      <th>title</th>\n",
       "      <th>title_orig</th>\n",
       "      <th>release_year</th>\n",
       "      <th>genres</th>\n",
       "      <th>countries</th>\n",
       "      <th>for_kids</th>\n",
       "      <th>age_rating</th>\n",
       "      <th>studios</th>\n",
       "      <th>directors</th>\n",
       "      <th>actors</th>\n",
       "      <th>description</th>\n",
       "      <th>keywords</th>\n",
       "    </tr>\n",
       "  </thead>\n",
       "  <tbody>\n",
       "    <tr>\n",
       "      <th>0</th>\n",
       "      <td>10711</td>\n",
       "      <td>film</td>\n",
       "      <td>Поговори с ней</td>\n",
       "      <td>Hable con ella</td>\n",
       "      <td>2002.0</td>\n",
       "      <td>драмы, зарубежные, детективы, мелодрамы</td>\n",
       "      <td>Испания</td>\n",
       "      <td>NaN</td>\n",
       "      <td>16.0</td>\n",
       "      <td>NaN</td>\n",
       "      <td>Педро Альмодовар</td>\n",
       "      <td>Адольфо Фернандес, Ана Фернандес, Дарио Гранди...</td>\n",
       "      <td>Мелодрама легендарного Педро Альмодовара «Пого...</td>\n",
       "      <td>Поговори, ней, 2002, Испания, друзья, любовь, ...</td>\n",
       "    </tr>\n",
       "    <tr>\n",
       "      <th>1</th>\n",
       "      <td>2508</td>\n",
       "      <td>film</td>\n",
       "      <td>Голые перцы</td>\n",
       "      <td>Search Party</td>\n",
       "      <td>2014.0</td>\n",
       "      <td>зарубежные, приключения, комедии</td>\n",
       "      <td>США</td>\n",
       "      <td>NaN</td>\n",
       "      <td>16.0</td>\n",
       "      <td>NaN</td>\n",
       "      <td>Скот Армстронг</td>\n",
       "      <td>Адам Палли, Брайан Хаски, Дж.Б. Смув, Джейсон ...</td>\n",
       "      <td>Уморительная современная комедия на популярную...</td>\n",
       "      <td>Голые, перцы, 2014, США, друзья, свадьбы, прео...</td>\n",
       "    </tr>\n",
       "    <tr>\n",
       "      <th>2</th>\n",
       "      <td>10716</td>\n",
       "      <td>film</td>\n",
       "      <td>Тактическая сила</td>\n",
       "      <td>Tactical Force</td>\n",
       "      <td>2011.0</td>\n",
       "      <td>криминал, зарубежные, триллеры, боевики, комедии</td>\n",
       "      <td>Канада</td>\n",
       "      <td>NaN</td>\n",
       "      <td>16.0</td>\n",
       "      <td>NaN</td>\n",
       "      <td>Адам П. Калтраро</td>\n",
       "      <td>Адриан Холмс, Даррен Шалави, Джерри Вассерман,...</td>\n",
       "      <td>Профессиональный рестлер Стив Остин («Все или ...</td>\n",
       "      <td>Тактическая, сила, 2011, Канада, бандиты, ганг...</td>\n",
       "    </tr>\n",
       "    <tr>\n",
       "      <th>3</th>\n",
       "      <td>7868</td>\n",
       "      <td>film</td>\n",
       "      <td>45 лет</td>\n",
       "      <td>45 Years</td>\n",
       "      <td>2015.0</td>\n",
       "      <td>драмы, зарубежные, мелодрамы</td>\n",
       "      <td>Великобритания</td>\n",
       "      <td>NaN</td>\n",
       "      <td>16.0</td>\n",
       "      <td>NaN</td>\n",
       "      <td>Эндрю Хэй</td>\n",
       "      <td>Александра Риддлстон-Барретт, Джеральдин Джейм...</td>\n",
       "      <td>Шарлотта Рэмплинг, Том Кортни, Джеральдин Джей...</td>\n",
       "      <td>45, лет, 2015, Великобритания, брак, жизнь, лю...</td>\n",
       "    </tr>\n",
       "    <tr>\n",
       "      <th>4</th>\n",
       "      <td>16268</td>\n",
       "      <td>film</td>\n",
       "      <td>Все решает мгновение</td>\n",
       "      <td>NaN</td>\n",
       "      <td>1978.0</td>\n",
       "      <td>драмы, спорт, советские, мелодрамы</td>\n",
       "      <td>СССР</td>\n",
       "      <td>NaN</td>\n",
       "      <td>12.0</td>\n",
       "      <td>Ленфильм</td>\n",
       "      <td>Виктор Садовский</td>\n",
       "      <td>Александр Абдулов, Александр Демьяненко, Алекс...</td>\n",
       "      <td>Расчетливая чаровница из советского кинохита «...</td>\n",
       "      <td>Все, решает, мгновение, 1978, СССР, сильные, ж...</td>\n",
       "    </tr>\n",
       "  </tbody>\n",
       "</table>\n",
       "</div>"
      ],
      "text/plain": [
       "   item_id content_type                 title      title_orig  release_year  \\\n",
       "0    10711         film        Поговори с ней  Hable con ella        2002.0   \n",
       "1     2508         film           Голые перцы    Search Party        2014.0   \n",
       "2    10716         film      Тактическая сила  Tactical Force        2011.0   \n",
       "3     7868         film                45 лет        45 Years        2015.0   \n",
       "4    16268         film  Все решает мгновение             NaN        1978.0   \n",
       "\n",
       "                                             genres       countries  for_kids  \\\n",
       "0           драмы, зарубежные, детективы, мелодрамы         Испания       NaN   \n",
       "1                  зарубежные, приключения, комедии             США       NaN   \n",
       "2  криминал, зарубежные, триллеры, боевики, комедии          Канада       NaN   \n",
       "3                      драмы, зарубежные, мелодрамы  Великобритания       NaN   \n",
       "4                драмы, спорт, советские, мелодрамы            СССР       NaN   \n",
       "\n",
       "   age_rating   studios         directors  \\\n",
       "0        16.0       NaN  Педро Альмодовар   \n",
       "1        16.0       NaN    Скот Армстронг   \n",
       "2        16.0       NaN  Адам П. Калтраро   \n",
       "3        16.0       NaN         Эндрю Хэй   \n",
       "4        12.0  Ленфильм  Виктор Садовский   \n",
       "\n",
       "                                              actors  \\\n",
       "0  Адольфо Фернандес, Ана Фернандес, Дарио Гранди...   \n",
       "1  Адам Палли, Брайан Хаски, Дж.Б. Смув, Джейсон ...   \n",
       "2  Адриан Холмс, Даррен Шалави, Джерри Вассерман,...   \n",
       "3  Александра Риддлстон-Барретт, Джеральдин Джейм...   \n",
       "4  Александр Абдулов, Александр Демьяненко, Алекс...   \n",
       "\n",
       "                                         description  \\\n",
       "0  Мелодрама легендарного Педро Альмодовара «Пого...   \n",
       "1  Уморительная современная комедия на популярную...   \n",
       "2  Профессиональный рестлер Стив Остин («Все или ...   \n",
       "3  Шарлотта Рэмплинг, Том Кортни, Джеральдин Джей...   \n",
       "4  Расчетливая чаровница из советского кинохита «...   \n",
       "\n",
       "                                            keywords  \n",
       "0  Поговори, ней, 2002, Испания, друзья, любовь, ...  \n",
       "1  Голые, перцы, 2014, США, друзья, свадьбы, прео...  \n",
       "2  Тактическая, сила, 2011, Канада, бандиты, ганг...  \n",
       "3  45, лет, 2015, Великобритания, брак, жизнь, лю...  \n",
       "4  Все, решает, мгновение, 1978, СССР, сильные, ж...  "
      ]
     },
     "execution_count": 26,
     "metadata": {},
     "output_type": "execute_result"
    }
   ],
   "source": [
    "items.head()"
   ]
  },
  {
   "cell_type": "code",
   "execution_count": 27,
   "metadata": {
    "execution": {
     "iopub.execute_input": "2023-11-29T06:54:14.361831Z",
     "iopub.status.busy": "2023-11-29T06:54:14.361831Z",
     "iopub.status.idle": "2023-11-29T06:54:14.465910Z",
     "shell.execute_reply": "2023-11-29T06:54:14.464909Z",
     "shell.execute_reply.started": "2023-11-29T06:54:14.361831Z"
    }
   },
   "outputs": [
    {
     "data": {
      "text/plain": [
       "item_id         14019\n",
       "content_type        2\n",
       "title           13454\n",
       "title_orig       9724\n",
       "release_year      104\n",
       "genres           2559\n",
       "countries         666\n",
       "for_kids            2\n",
       "age_rating          6\n",
       "studios            38\n",
       "directors        7414\n",
       "actors          11830\n",
       "description     13791\n",
       "keywords        13583\n",
       "dtype: int64"
      ]
     },
     "execution_count": 27,
     "metadata": {},
     "output_type": "execute_result"
    }
   ],
   "source": [
    "items.nunique()"
   ]
  },
  {
   "cell_type": "markdown",
   "metadata": {},
   "source": [
    "### Genre"
   ]
  },
  {
   "cell_type": "code",
   "execution_count": 28,
   "metadata": {
    "execution": {
     "iopub.execute_input": "2023-11-29T06:54:14.466909Z",
     "iopub.status.busy": "2023-11-29T06:54:14.466909Z",
     "iopub.status.idle": "2023-11-29T06:54:14.512909Z",
     "shell.execute_reply": "2023-11-29T06:54:14.512909Z",
     "shell.execute_reply.started": "2023-11-29T06:54:14.466909Z"
    }
   },
   "outputs": [
    {
     "data": {
      "text/html": [
       "<div>\n",
       "<style scoped>\n",
       "    .dataframe tbody tr th:only-of-type {\n",
       "        vertical-align: middle;\n",
       "    }\n",
       "\n",
       "    .dataframe tbody tr th {\n",
       "        vertical-align: top;\n",
       "    }\n",
       "\n",
       "    .dataframe thead th {\n",
       "        text-align: right;\n",
       "    }\n",
       "</style>\n",
       "<table border=\"1\" class=\"dataframe\">\n",
       "  <thead>\n",
       "    <tr style=\"text-align: right;\">\n",
       "      <th></th>\n",
       "      <th>id</th>\n",
       "      <th>value</th>\n",
       "      <th>feature</th>\n",
       "    </tr>\n",
       "  </thead>\n",
       "  <tbody>\n",
       "    <tr>\n",
       "      <th>0</th>\n",
       "      <td>10711</td>\n",
       "      <td>драмы</td>\n",
       "      <td>genre</td>\n",
       "    </tr>\n",
       "    <tr>\n",
       "      <th>0</th>\n",
       "      <td>10711</td>\n",
       "      <td>зарубежные</td>\n",
       "      <td>genre</td>\n",
       "    </tr>\n",
       "    <tr>\n",
       "      <th>0</th>\n",
       "      <td>10711</td>\n",
       "      <td>детективы</td>\n",
       "      <td>genre</td>\n",
       "    </tr>\n",
       "    <tr>\n",
       "      <th>0</th>\n",
       "      <td>10711</td>\n",
       "      <td>мелодрамы</td>\n",
       "      <td>genre</td>\n",
       "    </tr>\n",
       "    <tr>\n",
       "      <th>1</th>\n",
       "      <td>2508</td>\n",
       "      <td>зарубежные</td>\n",
       "      <td>genre</td>\n",
       "    </tr>\n",
       "  </tbody>\n",
       "</table>\n",
       "</div>"
      ],
      "text/plain": [
       "      id       value feature\n",
       "0  10711       драмы   genre\n",
       "0  10711  зарубежные   genre\n",
       "0  10711   детективы   genre\n",
       "0  10711   мелодрамы   genre\n",
       "1   2508  зарубежные   genre"
      ]
     },
     "execution_count": 28,
     "metadata": {},
     "output_type": "execute_result"
    }
   ],
   "source": [
    "# Explode genres to flatten table\n",
    "items[\"genre\"] = items[\"genres\"].str.lower().str.replace(\", \", \",\", regex=False).str.split(\",\")\n",
    "genre_feature = items[[\"item_id\", \"genre\"]].explode(\"genre\")\n",
    "genre_feature.columns = [\"id\", \"value\"]\n",
    "genre_feature[\"feature\"] = \"genre\"\n",
    "genre_feature.head()"
   ]
  },
  {
   "cell_type": "code",
   "execution_count": 29,
   "metadata": {
    "execution": {
     "iopub.execute_input": "2023-11-29T06:54:14.513909Z",
     "iopub.status.busy": "2023-11-29T06:54:14.513909Z",
     "iopub.status.idle": "2023-11-29T06:54:14.529909Z",
     "shell.execute_reply": "2023-11-29T06:54:14.528909Z",
     "shell.execute_reply.started": "2023-11-29T06:54:14.513909Z"
    }
   },
   "outputs": [
    {
     "data": {
      "text/plain": [
       "драмы                 4923\n",
       "комедии               3479\n",
       "зарубежные            3055\n",
       "мелодрамы             2533\n",
       "триллеры              2297\n",
       "                      ... \n",
       "токшоу                   2\n",
       "красота и здоровье       2\n",
       "передачи                 1\n",
       "образование              1\n",
       "рекомендуем              1\n",
       "Name: value, Length: 94, dtype: int64"
      ]
     },
     "execution_count": 29,
     "metadata": {},
     "output_type": "execute_result"
    }
   ],
   "source": [
    "genre_feature[\"value\"].value_counts()"
   ]
  },
  {
   "cell_type": "markdown",
   "metadata": {},
   "source": [
    "### Content"
   ]
  },
  {
   "cell_type": "code",
   "execution_count": 30,
   "metadata": {
    "execution": {
     "iopub.execute_input": "2023-11-29T06:54:14.530909Z",
     "iopub.status.busy": "2023-11-29T06:54:14.530909Z",
     "iopub.status.idle": "2023-11-29T06:54:14.545909Z",
     "shell.execute_reply": "2023-11-29T06:54:14.544909Z",
     "shell.execute_reply.started": "2023-11-29T06:54:14.530909Z"
    }
   },
   "outputs": [],
   "source": [
    "content_feature = items.reindex(columns=[Columns.Item, \"content_type\"])\n",
    "content_feature.columns = [\"id\", \"value\"]\n",
    "content_feature[\"feature\"] = \"content_type\""
   ]
  },
  {
   "cell_type": "code",
   "execution_count": 31,
   "metadata": {
    "execution": {
     "iopub.execute_input": "2023-11-29T06:54:14.546909Z",
     "iopub.status.busy": "2023-11-29T06:54:14.546909Z",
     "iopub.status.idle": "2023-11-29T06:54:14.561910Z",
     "shell.execute_reply": "2023-11-29T06:54:14.560909Z",
     "shell.execute_reply.started": "2023-11-29T06:54:14.546909Z"
    }
   },
   "outputs": [
    {
     "data": {
      "text/html": [
       "<div>\n",
       "<style scoped>\n",
       "    .dataframe tbody tr th:only-of-type {\n",
       "        vertical-align: middle;\n",
       "    }\n",
       "\n",
       "    .dataframe tbody tr th {\n",
       "        vertical-align: top;\n",
       "    }\n",
       "\n",
       "    .dataframe thead th {\n",
       "        text-align: right;\n",
       "    }\n",
       "</style>\n",
       "<table border=\"1\" class=\"dataframe\">\n",
       "  <thead>\n",
       "    <tr style=\"text-align: right;\">\n",
       "      <th></th>\n",
       "      <th>id</th>\n",
       "      <th>value</th>\n",
       "      <th>feature</th>\n",
       "    </tr>\n",
       "  </thead>\n",
       "  <tbody>\n",
       "    <tr>\n",
       "      <th>0</th>\n",
       "      <td>10711</td>\n",
       "      <td>film</td>\n",
       "      <td>content_type</td>\n",
       "    </tr>\n",
       "    <tr>\n",
       "      <th>1</th>\n",
       "      <td>2508</td>\n",
       "      <td>film</td>\n",
       "      <td>content_type</td>\n",
       "    </tr>\n",
       "    <tr>\n",
       "      <th>2</th>\n",
       "      <td>10716</td>\n",
       "      <td>film</td>\n",
       "      <td>content_type</td>\n",
       "    </tr>\n",
       "    <tr>\n",
       "      <th>3</th>\n",
       "      <td>7868</td>\n",
       "      <td>film</td>\n",
       "      <td>content_type</td>\n",
       "    </tr>\n",
       "    <tr>\n",
       "      <th>4</th>\n",
       "      <td>16268</td>\n",
       "      <td>film</td>\n",
       "      <td>content_type</td>\n",
       "    </tr>\n",
       "    <tr>\n",
       "      <th>...</th>\n",
       "      <td>...</td>\n",
       "      <td>...</td>\n",
       "      <td>...</td>\n",
       "    </tr>\n",
       "    <tr>\n",
       "      <th>15958</th>\n",
       "      <td>6443</td>\n",
       "      <td>series</td>\n",
       "      <td>content_type</td>\n",
       "    </tr>\n",
       "    <tr>\n",
       "      <th>15959</th>\n",
       "      <td>2367</td>\n",
       "      <td>series</td>\n",
       "      <td>content_type</td>\n",
       "    </tr>\n",
       "    <tr>\n",
       "      <th>15960</th>\n",
       "      <td>10632</td>\n",
       "      <td>series</td>\n",
       "      <td>content_type</td>\n",
       "    </tr>\n",
       "    <tr>\n",
       "      <th>15961</th>\n",
       "      <td>4538</td>\n",
       "      <td>series</td>\n",
       "      <td>content_type</td>\n",
       "    </tr>\n",
       "    <tr>\n",
       "      <th>15962</th>\n",
       "      <td>3206</td>\n",
       "      <td>series</td>\n",
       "      <td>content_type</td>\n",
       "    </tr>\n",
       "  </tbody>\n",
       "</table>\n",
       "<p>14019 rows × 3 columns</p>\n",
       "</div>"
      ],
      "text/plain": [
       "          id   value       feature\n",
       "0      10711    film  content_type\n",
       "1       2508    film  content_type\n",
       "2      10716    film  content_type\n",
       "3       7868    film  content_type\n",
       "4      16268    film  content_type\n",
       "...      ...     ...           ...\n",
       "15958   6443  series  content_type\n",
       "15959   2367  series  content_type\n",
       "15960  10632  series  content_type\n",
       "15961   4538  series  content_type\n",
       "15962   3206  series  content_type\n",
       "\n",
       "[14019 rows x 3 columns]"
      ]
     },
     "execution_count": 31,
     "metadata": {},
     "output_type": "execute_result"
    }
   ],
   "source": [
    "content_feature"
   ]
  },
  {
   "cell_type": "code",
   "execution_count": 32,
   "metadata": {
    "execution": {
     "iopub.execute_input": "2023-11-29T06:54:14.562909Z",
     "iopub.status.busy": "2023-11-29T06:54:14.561910Z",
     "iopub.status.idle": "2023-11-29T06:54:14.576909Z",
     "shell.execute_reply": "2023-11-29T06:54:14.576909Z",
     "shell.execute_reply.started": "2023-11-29T06:54:14.562909Z"
    }
   },
   "outputs": [
    {
     "data": {
      "text/plain": [
       "film      10662\n",
       "series     3357\n",
       "Name: value, dtype: int64"
      ]
     },
     "execution_count": 32,
     "metadata": {},
     "output_type": "execute_result"
    }
   ],
   "source": [
    "content_feature['value'].value_counts()"
   ]
  },
  {
   "cell_type": "code",
   "execution_count": 33,
   "metadata": {
    "execution": {
     "iopub.execute_input": "2023-11-29T06:54:14.578909Z",
     "iopub.status.busy": "2023-11-29T06:54:14.577909Z",
     "iopub.status.idle": "2023-11-29T06:54:14.592909Z",
     "shell.execute_reply": "2023-11-29T06:54:14.592909Z",
     "shell.execute_reply.started": "2023-11-29T06:54:14.578909Z"
    },
    "tags": []
   },
   "outputs": [],
   "source": [
    "item_features = pd.concat((genre_feature, content_feature))"
   ]
  },
  {
   "cell_type": "code",
   "execution_count": 34,
   "metadata": {
    "execution": {
     "iopub.execute_input": "2023-11-29T06:54:14.594909Z",
     "iopub.status.busy": "2023-11-29T06:54:14.594909Z",
     "iopub.status.idle": "2023-11-29T06:54:14.609910Z",
     "shell.execute_reply": "2023-11-29T06:54:14.608909Z",
     "shell.execute_reply.started": "2023-11-29T06:54:14.594909Z"
    },
    "tags": []
   },
   "outputs": [
    {
     "data": {
      "text/html": [
       "<div>\n",
       "<style scoped>\n",
       "    .dataframe tbody tr th:only-of-type {\n",
       "        vertical-align: middle;\n",
       "    }\n",
       "\n",
       "    .dataframe tbody tr th {\n",
       "        vertical-align: top;\n",
       "    }\n",
       "\n",
       "    .dataframe thead th {\n",
       "        text-align: right;\n",
       "    }\n",
       "</style>\n",
       "<table border=\"1\" class=\"dataframe\">\n",
       "  <thead>\n",
       "    <tr style=\"text-align: right;\">\n",
       "      <th></th>\n",
       "      <th>id</th>\n",
       "      <th>value</th>\n",
       "      <th>feature</th>\n",
       "    </tr>\n",
       "  </thead>\n",
       "  <tbody>\n",
       "    <tr>\n",
       "      <th>0</th>\n",
       "      <td>10711</td>\n",
       "      <td>драмы</td>\n",
       "      <td>genre</td>\n",
       "    </tr>\n",
       "    <tr>\n",
       "      <th>0</th>\n",
       "      <td>10711</td>\n",
       "      <td>зарубежные</td>\n",
       "      <td>genre</td>\n",
       "    </tr>\n",
       "    <tr>\n",
       "      <th>0</th>\n",
       "      <td>10711</td>\n",
       "      <td>детективы</td>\n",
       "      <td>genre</td>\n",
       "    </tr>\n",
       "    <tr>\n",
       "      <th>0</th>\n",
       "      <td>10711</td>\n",
       "      <td>мелодрамы</td>\n",
       "      <td>genre</td>\n",
       "    </tr>\n",
       "    <tr>\n",
       "      <th>1</th>\n",
       "      <td>2508</td>\n",
       "      <td>зарубежные</td>\n",
       "      <td>genre</td>\n",
       "    </tr>\n",
       "    <tr>\n",
       "      <th>...</th>\n",
       "      <td>...</td>\n",
       "      <td>...</td>\n",
       "      <td>...</td>\n",
       "    </tr>\n",
       "    <tr>\n",
       "      <th>15958</th>\n",
       "      <td>6443</td>\n",
       "      <td>series</td>\n",
       "      <td>content_type</td>\n",
       "    </tr>\n",
       "    <tr>\n",
       "      <th>15959</th>\n",
       "      <td>2367</td>\n",
       "      <td>series</td>\n",
       "      <td>content_type</td>\n",
       "    </tr>\n",
       "    <tr>\n",
       "      <th>15960</th>\n",
       "      <td>10632</td>\n",
       "      <td>series</td>\n",
       "      <td>content_type</td>\n",
       "    </tr>\n",
       "    <tr>\n",
       "      <th>15961</th>\n",
       "      <td>4538</td>\n",
       "      <td>series</td>\n",
       "      <td>content_type</td>\n",
       "    </tr>\n",
       "    <tr>\n",
       "      <th>15962</th>\n",
       "      <td>3206</td>\n",
       "      <td>series</td>\n",
       "      <td>content_type</td>\n",
       "    </tr>\n",
       "  </tbody>\n",
       "</table>\n",
       "<p>50224 rows × 3 columns</p>\n",
       "</div>"
      ],
      "text/plain": [
       "          id       value       feature\n",
       "0      10711       драмы         genre\n",
       "0      10711  зарубежные         genre\n",
       "0      10711   детективы         genre\n",
       "0      10711   мелодрамы         genre\n",
       "1       2508  зарубежные         genre\n",
       "...      ...         ...           ...\n",
       "15958   6443      series  content_type\n",
       "15959   2367      series  content_type\n",
       "15960  10632      series  content_type\n",
       "15961   4538      series  content_type\n",
       "15962   3206      series  content_type\n",
       "\n",
       "[50224 rows x 3 columns]"
      ]
     },
     "execution_count": 34,
     "metadata": {},
     "output_type": "execute_result"
    }
   ],
   "source": [
    "item_features"
   ]
  },
  {
   "cell_type": "markdown",
   "metadata": {},
   "source": [
    "# Metrics"
   ]
  },
  {
   "cell_type": "code",
   "execution_count": 35,
   "metadata": {
    "execution": {
     "iopub.execute_input": "2023-11-29T06:54:14.610909Z",
     "iopub.status.busy": "2023-11-29T06:54:14.610909Z",
     "iopub.status.idle": "2023-11-29T06:54:14.625909Z",
     "shell.execute_reply": "2023-11-29T06:54:14.624909Z",
     "shell.execute_reply.started": "2023-11-29T06:54:14.610909Z"
    }
   },
   "outputs": [],
   "source": [
    "metrics_name = {\n",
    "    'Precision': Precision,\n",
    "    'Recall': Recall,\n",
    "    'MAP': MAP,\n",
    "}\n",
    "\n",
    "metrics = {}\n",
    "for metric_name, metric in metrics_name.items():\n",
    "    for k in range(1, 11):\n",
    "        metrics[f'{metric_name}@{k}'] = metric(k=k)"
   ]
  },
  {
   "cell_type": "code",
   "execution_count": 36,
   "metadata": {
    "execution": {
     "iopub.execute_input": "2023-11-29T06:54:14.626909Z",
     "iopub.status.busy": "2023-11-29T06:54:14.626909Z",
     "iopub.status.idle": "2023-11-29T06:54:14.640909Z",
     "shell.execute_reply": "2023-11-29T06:54:14.640909Z",
     "shell.execute_reply.started": "2023-11-29T06:54:14.626909Z"
    }
   },
   "outputs": [
    {
     "data": {
      "text/plain": [
       "{'Precision@1': Precision(k=1),\n",
       " 'Precision@2': Precision(k=2),\n",
       " 'Precision@3': Precision(k=3),\n",
       " 'Precision@4': Precision(k=4),\n",
       " 'Precision@5': Precision(k=5),\n",
       " 'Precision@6': Precision(k=6),\n",
       " 'Precision@7': Precision(k=7),\n",
       " 'Precision@8': Precision(k=8),\n",
       " 'Precision@9': Precision(k=9),\n",
       " 'Precision@10': Precision(k=10),\n",
       " 'Recall@1': Recall(k=1),\n",
       " 'Recall@2': Recall(k=2),\n",
       " 'Recall@3': Recall(k=3),\n",
       " 'Recall@4': Recall(k=4),\n",
       " 'Recall@5': Recall(k=5),\n",
       " 'Recall@6': Recall(k=6),\n",
       " 'Recall@7': Recall(k=7),\n",
       " 'Recall@8': Recall(k=8),\n",
       " 'Recall@9': Recall(k=9),\n",
       " 'Recall@10': Recall(k=10),\n",
       " 'MAP@1': MAP(k=1, divide_by_k=False),\n",
       " 'MAP@2': MAP(k=2, divide_by_k=False),\n",
       " 'MAP@3': MAP(k=3, divide_by_k=False),\n",
       " 'MAP@4': MAP(k=4, divide_by_k=False),\n",
       " 'MAP@5': MAP(k=5, divide_by_k=False),\n",
       " 'MAP@6': MAP(k=6, divide_by_k=False),\n",
       " 'MAP@7': MAP(k=7, divide_by_k=False),\n",
       " 'MAP@8': MAP(k=8, divide_by_k=False),\n",
       " 'MAP@9': MAP(k=9, divide_by_k=False),\n",
       " 'MAP@10': MAP(k=10, divide_by_k=False)}"
      ]
     },
     "execution_count": 36,
     "metadata": {},
     "output_type": "execute_result"
    }
   ],
   "source": [
    "metrics"
   ]
  },
  {
   "cell_type": "markdown",
   "metadata": {},
   "source": [
    "# Models"
   ]
  },
  {
   "cell_type": "code",
   "execution_count": 37,
   "metadata": {
    "execution": {
     "iopub.execute_input": "2023-11-29T06:54:14.642909Z",
     "iopub.status.busy": "2023-11-29T06:54:14.642909Z",
     "iopub.status.idle": "2023-11-29T06:54:14.656909Z",
     "shell.execute_reply": "2023-11-29T06:54:14.656909Z",
     "shell.execute_reply.started": "2023-11-29T06:54:14.642909Z"
    }
   },
   "outputs": [],
   "source": [
    "K_RECOS = 10\n",
    "RANDOM_STATE = 42\n",
    "NUM_THREADS = 8\n",
    "N_FACTORS = (32,)\n",
    "N_EPOCHS = 1 # Lightfm\n",
    "USER_ALPHA = 0 # Lightfm\n",
    "ITEM_ALPHA = 0 # Lightfm\n",
    "LEARNING_RATE = 0.05 # Lightfm"
   ]
  },
  {
   "cell_type": "code",
   "execution_count": 38,
   "metadata": {
    "execution": {
     "iopub.execute_input": "2023-11-29T06:54:14.658909Z",
     "iopub.status.busy": "2023-11-29T06:54:14.657909Z",
     "iopub.status.idle": "2023-11-29T06:54:14.673910Z",
     "shell.execute_reply": "2023-11-29T06:54:14.672909Z",
     "shell.execute_reply.started": "2023-11-29T06:54:14.658909Z"
    }
   },
   "outputs": [],
   "source": [
    "models = {\n",
    "    'popular': PopularModel(),\n",
    "}"
   ]
  },
  {
   "cell_type": "code",
   "execution_count": 39,
   "metadata": {
    "execution": {
     "iopub.execute_input": "2023-11-29T06:54:14.674909Z",
     "iopub.status.busy": "2023-11-29T06:54:14.674909Z",
     "iopub.status.idle": "2023-11-29T06:54:14.735909Z",
     "shell.execute_reply": "2023-11-29T06:54:14.734909Z",
     "shell.execute_reply.started": "2023-11-29T06:54:14.674909Z"
    }
   },
   "outputs": [],
   "source": [
    "implicit_models = {\n",
    "    'ALS': AlternatingLeastSquares,\n",
    "}\n",
    "for implicit_name, implicit_model in implicit_models.items():\n",
    "    for is_fitting_features in (True, False):\n",
    "        for n_factors in N_FACTORS:\n",
    "            models[f\"{implicit_name}_{n_factors}_{is_fitting_features}\"] = (\n",
    "                ImplicitALSWrapperModel(\n",
    "                    model=implicit_model(\n",
    "                        factors=n_factors, \n",
    "                        random_state=RANDOM_STATE, \n",
    "                        num_threads=NUM_THREADS,\n",
    "                    ),\n",
    "                    fit_features_together=is_fitting_features,\n",
    "                )\n",
    "            )"
   ]
  },
  {
   "cell_type": "code",
   "execution_count": 40,
   "metadata": {
    "execution": {
     "iopub.execute_input": "2023-11-29T06:54:14.736909Z",
     "iopub.status.busy": "2023-11-29T06:54:14.736909Z",
     "iopub.status.idle": "2023-11-29T06:54:14.751909Z",
     "shell.execute_reply": "2023-11-29T06:54:14.750909Z",
     "shell.execute_reply.started": "2023-11-29T06:54:14.736909Z"
    }
   },
   "outputs": [],
   "source": [
    "lightfm_losses = ('logistic', 'bpr', 'warp')\n",
    "\n",
    "for loss in lightfm_losses:\n",
    "    for n_factors in N_FACTORS:\n",
    "        models[f\"LightFM_{loss}_{n_factors}\"] = LightFMWrapperModel(\n",
    "            LightFM(\n",
    "                no_components=n_factors, \n",
    "                loss=loss, \n",
    "                random_state=RANDOM_STATE,\n",
    "                learning_rate=LEARNING_RATE,\n",
    "                user_alpha=USER_ALPHA,\n",
    "                item_alpha=ITEM_ALPHA,\n",
    "            ),\n",
    "            epochs=N_EPOCHS,\n",
    "            num_threads=NUM_THREADS,\n",
    "        )"
   ]
  },
  {
   "cell_type": "code",
   "execution_count": 41,
   "metadata": {
    "execution": {
     "iopub.execute_input": "2023-11-29T06:54:14.752909Z",
     "iopub.status.busy": "2023-11-29T06:54:14.752909Z",
     "iopub.status.idle": "2023-11-29T06:54:14.767910Z",
     "shell.execute_reply": "2023-11-29T06:54:14.766909Z",
     "shell.execute_reply.started": "2023-11-29T06:54:14.752909Z"
    }
   },
   "outputs": [
    {
     "data": {
      "text/plain": [
       "{'popular': <rectools.models.popular.PopularModel at 0x7ff964dfb7f0>,\n",
       " 'ALS_32_True': <rectools.models.implicit_als.ImplicitALSWrapperModel at 0x7ff96842a530>,\n",
       " 'ALS_32_False': <rectools.models.implicit_als.ImplicitALSWrapperModel at 0x7ff964df94b0>,\n",
       " 'LightFM_logistic_32': <rectools.models.lightfm.LightFMWrapperModel at 0x7ff964dfa860>,\n",
       " 'LightFM_bpr_32': <rectools.models.lightfm.LightFMWrapperModel at 0x7ff964dfbd60>,\n",
       " 'LightFM_warp_32': <rectools.models.lightfm.LightFMWrapperModel at 0x7ff964dfaaa0>}"
      ]
     },
     "execution_count": 41,
     "metadata": {},
     "output_type": "execute_result"
    }
   ],
   "source": [
    "models"
   ]
  },
  {
   "cell_type": "code",
   "execution_count": 42,
   "metadata": {
    "execution": {
     "iopub.execute_input": "2023-11-29T06:54:14.768909Z",
     "iopub.status.busy": "2023-11-29T06:54:14.768909Z",
     "iopub.status.idle": "2023-11-29T06:54:15.765593Z",
     "shell.execute_reply": "2023-11-29T06:54:15.764595Z",
     "shell.execute_reply.started": "2023-11-29T06:54:14.768909Z"
    }
   },
   "outputs": [],
   "source": [
    "# %%time\n",
    "dataset = Dataset.construct(\n",
    "    interactions_df=train,\n",
    "    user_features_df=user_features,\n",
    "    cat_user_features=[\"sex\", \"age\", \"income\"],\n",
    "    item_features_df=item_features,\n",
    "    cat_item_features=[\"genre\", \"content_type\"],\n",
    ")"
   ]
  },
  {
   "cell_type": "code",
   "execution_count": 98,
   "metadata": {},
   "outputs": [
    {
     "data": {
      "text/html": [
       "<div>\n",
       "<style scoped>\n",
       "    .dataframe tbody tr th:only-of-type {\n",
       "        vertical-align: middle;\n",
       "    }\n",
       "\n",
       "    .dataframe tbody tr th {\n",
       "        vertical-align: top;\n",
       "    }\n",
       "\n",
       "    .dataframe thead th {\n",
       "        text-align: right;\n",
       "    }\n",
       "</style>\n",
       "<table border=\"1\" class=\"dataframe\">\n",
       "  <thead>\n",
       "    <tr style=\"text-align: right;\">\n",
       "      <th></th>\n",
       "      <th>id</th>\n",
       "      <th>value</th>\n",
       "      <th>feature</th>\n",
       "    </tr>\n",
       "  </thead>\n",
       "  <tbody>\n",
       "    <tr>\n",
       "      <th>0</th>\n",
       "      <td>973171</td>\n",
       "      <td>М</td>\n",
       "      <td>sex</td>\n",
       "    </tr>\n",
       "    <tr>\n",
       "      <th>1</th>\n",
       "      <td>962099</td>\n",
       "      <td>М</td>\n",
       "      <td>sex</td>\n",
       "    </tr>\n",
       "    <tr>\n",
       "      <th>3</th>\n",
       "      <td>721985</td>\n",
       "      <td>Ж</td>\n",
       "      <td>sex</td>\n",
       "    </tr>\n",
       "    <tr>\n",
       "      <th>4</th>\n",
       "      <td>704055</td>\n",
       "      <td>Ж</td>\n",
       "      <td>sex</td>\n",
       "    </tr>\n",
       "    <tr>\n",
       "      <th>5</th>\n",
       "      <td>1037719</td>\n",
       "      <td>М</td>\n",
       "      <td>sex</td>\n",
       "    </tr>\n",
       "    <tr>\n",
       "      <th>...</th>\n",
       "      <td>...</td>\n",
       "      <td>...</td>\n",
       "      <td>...</td>\n",
       "    </tr>\n",
       "    <tr>\n",
       "      <th>840184</th>\n",
       "      <td>529394</td>\n",
       "      <td>income_40_60</td>\n",
       "      <td>income</td>\n",
       "    </tr>\n",
       "    <tr>\n",
       "      <th>840186</th>\n",
       "      <td>80113</td>\n",
       "      <td>income_40_60</td>\n",
       "      <td>income</td>\n",
       "    </tr>\n",
       "    <tr>\n",
       "      <th>840188</th>\n",
       "      <td>312839</td>\n",
       "      <td>income_60_90</td>\n",
       "      <td>income</td>\n",
       "    </tr>\n",
       "    <tr>\n",
       "      <th>840189</th>\n",
       "      <td>191349</td>\n",
       "      <td>income_40_60</td>\n",
       "      <td>income</td>\n",
       "    </tr>\n",
       "    <tr>\n",
       "      <th>840190</th>\n",
       "      <td>393868</td>\n",
       "      <td>income_20_40</td>\n",
       "      <td>income</td>\n",
       "    </tr>\n",
       "  </tbody>\n",
       "</table>\n",
       "<p>1760004 rows × 3 columns</p>\n",
       "</div>"
      ],
      "text/plain": [
       "             id         value feature\n",
       "0        973171             М     sex\n",
       "1        962099             М     sex\n",
       "3        721985             Ж     sex\n",
       "4        704055             Ж     sex\n",
       "5       1037719             М     sex\n",
       "...         ...           ...     ...\n",
       "840184   529394  income_40_60  income\n",
       "840186    80113  income_40_60  income\n",
       "840188   312839  income_60_90  income\n",
       "840189   191349  income_40_60  income\n",
       "840190   393868  income_20_40  income\n",
       "\n",
       "[1760004 rows x 3 columns]"
      ]
     },
     "execution_count": 98,
     "metadata": {},
     "output_type": "execute_result"
    }
   ],
   "source": [
    "user_features\n",
    "dataset.user_id_map.convert_to_external"
   ]
  },
  {
   "cell_type": "code",
   "execution_count": 99,
   "metadata": {},
   "outputs": [
    {
     "data": {
      "text/plain": [
       "IdMap(external_ids=array([ 176549,  699317,  864613, ...,   92876, 1007900,  882138]))"
      ]
     },
     "execution_count": 99,
     "metadata": {},
     "output_type": "execute_result"
    }
   ],
   "source": [
    "dataset.user_id_map.convert_to_external"
   ]
  },
  {
   "cell_type": "code",
   "execution_count": 101,
   "metadata": {},
   "outputs": [
    {
     "data": {
      "text/plain": [
       "756562"
      ]
     },
     "execution_count": 101,
     "metadata": {},
     "output_type": "execute_result"
    }
   ],
   "source": [
    "len(train[Columns.User].unique())"
   ]
  },
  {
   "cell_type": "code",
   "execution_count": 44,
   "metadata": {
    "execution": {
     "iopub.execute_input": "2023-11-29T06:54:15.766593Z",
     "iopub.status.busy": "2023-11-29T06:54:15.766593Z",
     "iopub.status.idle": "2023-11-29T06:54:15.781593Z",
     "shell.execute_reply": "2023-11-29T06:54:15.780593Z",
     "shell.execute_reply.started": "2023-11-29T06:54:15.766593Z"
    }
   },
   "outputs": [],
   "source": [
    "TEST_USERS = test[Columns.User].unique()"
   ]
  },
  {
   "cell_type": "code",
   "execution_count": 45,
   "metadata": {
    "execution": {
     "iopub.execute_input": "2023-11-29T06:54:15.782596Z",
     "iopub.status.busy": "2023-11-29T06:54:15.782596Z",
     "iopub.status.idle": "2023-11-29T07:00:14.143065Z",
     "shell.execute_reply": "2023-11-29T07:00:14.142064Z",
     "shell.execute_reply.started": "2023-11-29T06:54:15.782596Z"
    }
   },
   "outputs": [
    {
     "name": "stdout",
     "output_type": "stream",
     "text": [
      "Fitting model popular...\n",
      "Fitting model ALS_32_True...\n",
      "Fitting model ALS_32_False...\n"
     ]
    },
    {
     "data": {
      "application/vnd.jupyter.widget-view+json": {
       "model_id": "2ada3774340240e28b9f408c130a05d6",
       "version_major": 2,
       "version_minor": 0
      },
      "text/plain": [
       "  0%|          | 0/1 [00:00<?, ?it/s]"
      ]
     },
     "metadata": {},
     "output_type": "display_data"
    },
    {
     "data": {
      "application/vnd.jupyter.widget-view+json": {
       "model_id": "9dd11659d93340b69f0b255611ac2a95",
       "version_major": 2,
       "version_minor": 0
      },
      "text/plain": [
       "  0%|          | 0/1 [00:00<?, ?it/s]"
      ]
     },
     "metadata": {},
     "output_type": "display_data"
    },
    {
     "name": "stdout",
     "output_type": "stream",
     "text": [
      "Fitting model LightFM_logistic_32...\n",
      "Fitting model LightFM_bpr_32...\n",
      "Fitting model LightFM_warp_32...\n",
      "CPU times: user 39min 49s, sys: 58min 20s, total: 1h 38min 10s\n",
      "Wall time: 7min 9s\n"
     ]
    }
   ],
   "source": [
    "%%time\n",
    "results = []\n",
    "for model_name, model in models.items():\n",
    "    print(f\"Fitting model {model_name}...\")\n",
    "    model_quality = {'model': model_name}\n",
    "\n",
    "    model.fit(dataset)\n",
    "    recos = model.recommend(\n",
    "        users=TEST_USERS,\n",
    "        dataset=dataset,\n",
    "        k=K_RECOS,\n",
    "        filter_viewed=True,\n",
    "    )\n",
    "    metric_values = calc_metrics(metrics, recos, test, train)\n",
    "    model_quality.update(metric_values)\n",
    "    results.append(model_quality)"
   ]
  },
  {
   "cell_type": "code",
   "execution_count": 46,
   "metadata": {
    "execution": {
     "iopub.execute_input": "2023-11-29T07:00:14.144063Z",
     "iopub.status.busy": "2023-11-29T07:00:14.144063Z",
     "iopub.status.idle": "2023-11-29T07:00:14.159067Z",
     "shell.execute_reply": "2023-11-29T07:00:14.158065Z",
     "shell.execute_reply.started": "2023-11-29T07:00:14.144063Z"
    },
    "tags": []
   },
   "outputs": [],
   "source": [
    "df_quality = pd.DataFrame(results).T\n",
    "\n",
    "df_quality.columns = df_quality.iloc[0]\n",
    "\n",
    "df_quality.drop('model', inplace=True)"
   ]
  },
  {
   "cell_type": "code",
   "execution_count": 47,
   "metadata": {
    "execution": {
     "iopub.execute_input": "2023-11-29T07:00:14.160068Z",
     "iopub.status.busy": "2023-11-29T07:00:14.160068Z",
     "iopub.status.idle": "2023-11-29T07:00:14.267065Z",
     "shell.execute_reply": "2023-11-29T07:00:14.266064Z",
     "shell.execute_reply.started": "2023-11-29T07:00:14.160068Z"
    }
   },
   "outputs": [
    {
     "data": {
      "text/html": [
       "<style type=\"text/css\">\n",
       "#T_e1e37_row0_col1, #T_e1e37_row1_col1, #T_e1e37_row2_col1, #T_e1e37_row3_col1, #T_e1e37_row4_col5, #T_e1e37_row5_col5, #T_e1e37_row6_col0, #T_e1e37_row7_col0, #T_e1e37_row8_col0, #T_e1e37_row9_col0, #T_e1e37_row10_col0, #T_e1e37_row11_col0, #T_e1e37_row12_col5, #T_e1e37_row13_col0, #T_e1e37_row14_col5, #T_e1e37_row15_col0, #T_e1e37_row16_col5, #T_e1e37_row17_col0, #T_e1e37_row18_col5, #T_e1e37_row19_col0, #T_e1e37_row20_col1, #T_e1e37_row21_col1, #T_e1e37_row22_col1, #T_e1e37_row23_col1, #T_e1e37_row24_col5, #T_e1e37_row25_col5, #T_e1e37_row26_col5, #T_e1e37_row27_col5, #T_e1e37_row28_col5, #T_e1e37_row29_col5 {\n",
       "  background-color: lightgreen;\n",
       "}\n",
       "</style>\n",
       "<table id=\"T_e1e37\">\n",
       "  <thead>\n",
       "    <tr>\n",
       "      <th class=\"index_name level0\" >model</th>\n",
       "      <th id=\"T_e1e37_level0_col0\" class=\"col_heading level0 col0\" >popular</th>\n",
       "      <th id=\"T_e1e37_level0_col1\" class=\"col_heading level0 col1\" >ALS_32_True</th>\n",
       "      <th id=\"T_e1e37_level0_col2\" class=\"col_heading level0 col2\" >ALS_32_False</th>\n",
       "      <th id=\"T_e1e37_level0_col3\" class=\"col_heading level0 col3\" >LightFM_logistic_32</th>\n",
       "      <th id=\"T_e1e37_level0_col4\" class=\"col_heading level0 col4\" >LightFM_bpr_32</th>\n",
       "      <th id=\"T_e1e37_level0_col5\" class=\"col_heading level0 col5\" >LightFM_warp_32</th>\n",
       "    </tr>\n",
       "  </thead>\n",
       "  <tbody>\n",
       "    <tr>\n",
       "      <th id=\"T_e1e37_level0_row0\" class=\"row_heading level0 row0\" >Precision@1</th>\n",
       "      <td id=\"T_e1e37_row0_col0\" class=\"data row0 col0\" >0.069368</td>\n",
       "      <td id=\"T_e1e37_row0_col1\" class=\"data row0 col1\" >0.081539</td>\n",
       "      <td id=\"T_e1e37_row0_col2\" class=\"data row0 col2\" >0.060950</td>\n",
       "      <td id=\"T_e1e37_row0_col3\" class=\"data row0 col3\" >0.000363</td>\n",
       "      <td id=\"T_e1e37_row0_col4\" class=\"data row0 col4\" >0.035512</td>\n",
       "      <td id=\"T_e1e37_row0_col5\" class=\"data row0 col5\" >0.080946</td>\n",
       "    </tr>\n",
       "    <tr>\n",
       "      <th id=\"T_e1e37_level0_row1\" class=\"row_heading level0 row1\" >Recall@1</th>\n",
       "      <td id=\"T_e1e37_row1_col0\" class=\"data row1 col0\" >0.035863</td>\n",
       "      <td id=\"T_e1e37_row1_col1\" class=\"data row1 col1\" >0.042035</td>\n",
       "      <td id=\"T_e1e37_row1_col2\" class=\"data row1 col2\" >0.030516</td>\n",
       "      <td id=\"T_e1e37_row1_col3\" class=\"data row1 col3\" >0.000116</td>\n",
       "      <td id=\"T_e1e37_row1_col4\" class=\"data row1 col4\" >0.019990</td>\n",
       "      <td id=\"T_e1e37_row1_col5\" class=\"data row1 col5\" >0.041207</td>\n",
       "    </tr>\n",
       "    <tr>\n",
       "      <th id=\"T_e1e37_level0_row2\" class=\"row_heading level0 row2\" >Precision@2</th>\n",
       "      <td id=\"T_e1e37_row2_col0\" class=\"data row2 col0\" >0.063681</td>\n",
       "      <td id=\"T_e1e37_row2_col1\" class=\"data row2 col1\" >0.069200</td>\n",
       "      <td id=\"T_e1e37_row2_col2\" class=\"data row2 col2\" >0.054060</td>\n",
       "      <td id=\"T_e1e37_row2_col3\" class=\"data row2 col3\" >0.000469</td>\n",
       "      <td id=\"T_e1e37_row2_col4\" class=\"data row2 col4\" >0.025673</td>\n",
       "      <td id=\"T_e1e37_row2_col5\" class=\"data row2 col5\" >0.068434</td>\n",
       "    </tr>\n",
       "    <tr>\n",
       "      <th id=\"T_e1e37_level0_row3\" class=\"row_heading level0 row3\" >Recall@2</th>\n",
       "      <td id=\"T_e1e37_row3_col0\" class=\"data row3 col0\" >0.064597</td>\n",
       "      <td id=\"T_e1e37_row3_col1\" class=\"data row3 col1\" >0.069700</td>\n",
       "      <td id=\"T_e1e37_row3_col2\" class=\"data row3 col2\" >0.052987</td>\n",
       "      <td id=\"T_e1e37_row3_col3\" class=\"data row3 col3\" >0.000301</td>\n",
       "      <td id=\"T_e1e37_row3_col4\" class=\"data row3 col4\" >0.028270</td>\n",
       "      <td id=\"T_e1e37_row3_col5\" class=\"data row3 col5\" >0.067291</td>\n",
       "    </tr>\n",
       "    <tr>\n",
       "      <th id=\"T_e1e37_level0_row4\" class=\"row_heading level0 row4\" >Precision@3</th>\n",
       "      <td id=\"T_e1e37_row4_col0\" class=\"data row4 col0\" >0.059233</td>\n",
       "      <td id=\"T_e1e37_row4_col1\" class=\"data row4 col1\" >0.059564</td>\n",
       "      <td id=\"T_e1e37_row4_col2\" class=\"data row4 col2\" >0.049863</td>\n",
       "      <td id=\"T_e1e37_row4_col3\" class=\"data row4 col3\" >0.000313</td>\n",
       "      <td id=\"T_e1e37_row4_col4\" class=\"data row4 col4\" >0.020662</td>\n",
       "      <td id=\"T_e1e37_row4_col5\" class=\"data row4 col5\" >0.060555</td>\n",
       "    </tr>\n",
       "    <tr>\n",
       "      <th id=\"T_e1e37_level0_row5\" class=\"row_heading level0 row5\" >Recall@3</th>\n",
       "      <td id=\"T_e1e37_row5_col0\" class=\"data row5 col0\" >0.088080</td>\n",
       "      <td id=\"T_e1e37_row5_col1\" class=\"data row5 col1\" >0.088042</td>\n",
       "      <td id=\"T_e1e37_row5_col2\" class=\"data row5 col2\" >0.072278</td>\n",
       "      <td id=\"T_e1e37_row5_col3\" class=\"data row5 col3\" >0.000301</td>\n",
       "      <td id=\"T_e1e37_row5_col4\" class=\"data row5 col4\" >0.033614</td>\n",
       "      <td id=\"T_e1e37_row5_col5\" class=\"data row5 col5\" >0.088113</td>\n",
       "    </tr>\n",
       "    <tr>\n",
       "      <th id=\"T_e1e37_level0_row6\" class=\"row_heading level0 row6\" >Precision@4</th>\n",
       "      <td id=\"T_e1e37_row6_col0\" class=\"data row6 col0\" >0.057348</td>\n",
       "      <td id=\"T_e1e37_row6_col1\" class=\"data row6 col1\" >0.052674</td>\n",
       "      <td id=\"T_e1e37_row6_col2\" class=\"data row6 col2\" >0.046266</td>\n",
       "      <td id=\"T_e1e37_row6_col3\" class=\"data row6 col3\" >0.000237</td>\n",
       "      <td id=\"T_e1e37_row6_col4\" class=\"data row6 col4\" >0.017174</td>\n",
       "      <td id=\"T_e1e37_row6_col5\" class=\"data row6 col5\" >0.054551</td>\n",
       "    </tr>\n",
       "    <tr>\n",
       "      <th id=\"T_e1e37_level0_row7\" class=\"row_heading level0 row7\" >Recall@4</th>\n",
       "      <td id=\"T_e1e37_row7_col0\" class=\"data row7 col0\" >0.112881</td>\n",
       "      <td id=\"T_e1e37_row7_col1\" class=\"data row7 col1\" >0.102603</td>\n",
       "      <td id=\"T_e1e37_row7_col2\" class=\"data row7 col2\" >0.088341</td>\n",
       "      <td id=\"T_e1e37_row7_col3\" class=\"data row7 col3\" >0.000302</td>\n",
       "      <td id=\"T_e1e37_row7_col4\" class=\"data row7 col4\" >0.036885</td>\n",
       "      <td id=\"T_e1e37_row7_col5\" class=\"data row7 col5\" >0.105148</td>\n",
       "    </tr>\n",
       "    <tr>\n",
       "      <th id=\"T_e1e37_level0_row8\" class=\"row_heading level0 row8\" >Precision@5</th>\n",
       "      <td id=\"T_e1e37_row8_col0\" class=\"data row8 col0\" >0.051035</td>\n",
       "      <td id=\"T_e1e37_row8_col1\" class=\"data row8 col1\" >0.047010</td>\n",
       "      <td id=\"T_e1e37_row8_col2\" class=\"data row8 col2\" >0.042770</td>\n",
       "      <td id=\"T_e1e37_row8_col3\" class=\"data row8 col3\" >0.000200</td>\n",
       "      <td id=\"T_e1e37_row8_col4\" class=\"data row8 col4\" >0.014842</td>\n",
       "      <td id=\"T_e1e37_row8_col5\" class=\"data row8 col5\" >0.049683</td>\n",
       "    </tr>\n",
       "    <tr>\n",
       "      <th id=\"T_e1e37_level0_row9\" class=\"row_heading level0 row9\" >Recall@5</th>\n",
       "      <td id=\"T_e1e37_row9_col0\" class=\"data row9 col0\" >0.124184</td>\n",
       "      <td id=\"T_e1e37_row9_col1\" class=\"data row9 col1\" >0.113129</td>\n",
       "      <td id=\"T_e1e37_row9_col2\" class=\"data row9 col2\" >0.100520</td>\n",
       "      <td id=\"T_e1e37_row9_col3\" class=\"data row9 col3\" >0.000314</td>\n",
       "      <td id=\"T_e1e37_row9_col4\" class=\"data row9 col4\" >0.039362</td>\n",
       "      <td id=\"T_e1e37_row9_col5\" class=\"data row9 col5\" >0.118886</td>\n",
       "    </tr>\n",
       "    <tr>\n",
       "      <th id=\"T_e1e37_level0_row10\" class=\"row_heading level0 row10\" >Precision@6</th>\n",
       "      <td id=\"T_e1e37_row10_col0\" class=\"data row10 col0\" >0.045992</td>\n",
       "      <td id=\"T_e1e37_row10_col1\" class=\"data row10 col1\" >0.042177</td>\n",
       "      <td id=\"T_e1e37_row10_col2\" class=\"data row10 col2\" >0.039688</td>\n",
       "      <td id=\"T_e1e37_row10_col3\" class=\"data row10 col3\" >0.000179</td>\n",
       "      <td id=\"T_e1e37_row10_col4\" class=\"data row10 col4\" >0.013171</td>\n",
       "      <td id=\"T_e1e37_row10_col5\" class=\"data row10 col5\" >0.045331</td>\n",
       "    </tr>\n",
       "    <tr>\n",
       "      <th id=\"T_e1e37_level0_row11\" class=\"row_heading level0 row11\" >Recall@6</th>\n",
       "      <td id=\"T_e1e37_row11_col0\" class=\"data row11 col0\" >0.132959</td>\n",
       "      <td id=\"T_e1e37_row11_col1\" class=\"data row11 col1\" >0.120528</td>\n",
       "      <td id=\"T_e1e37_row11_col2\" class=\"data row11 col2\" >0.110530</td>\n",
       "      <td id=\"T_e1e37_row11_col3\" class=\"data row11 col3\" >0.000322</td>\n",
       "      <td id=\"T_e1e37_row11_col4\" class=\"data row11 col4\" >0.041493</td>\n",
       "      <td id=\"T_e1e37_row11_col5\" class=\"data row11 col5\" >0.128796</td>\n",
       "    </tr>\n",
       "    <tr>\n",
       "      <th id=\"T_e1e37_level0_row12\" class=\"row_heading level0 row12\" >Precision@7</th>\n",
       "      <td id=\"T_e1e37_row12_col0\" class=\"data row12 col0\" >0.041242</td>\n",
       "      <td id=\"T_e1e37_row12_col1\" class=\"data row12 col1\" >0.038476</td>\n",
       "      <td id=\"T_e1e37_row12_col2\" class=\"data row12 col2\" >0.036959</td>\n",
       "      <td id=\"T_e1e37_row12_col3\" class=\"data row12 col3\" >0.000197</td>\n",
       "      <td id=\"T_e1e37_row12_col4\" class=\"data row12 col4\" >0.011970</td>\n",
       "      <td id=\"T_e1e37_row12_col5\" class=\"data row12 col5\" >0.041551</td>\n",
       "    </tr>\n",
       "    <tr>\n",
       "      <th id=\"T_e1e37_level0_row13\" class=\"row_heading level0 row13\" >Recall@7</th>\n",
       "      <td id=\"T_e1e37_row13_col0\" class=\"data row13 col0\" >0.138390</td>\n",
       "      <td id=\"T_e1e37_row13_col1\" class=\"data row13 col1\" >0.127251</td>\n",
       "      <td id=\"T_e1e37_row13_col2\" class=\"data row13 col2\" >0.118799</td>\n",
       "      <td id=\"T_e1e37_row13_col3\" class=\"data row13 col3\" >0.000407</td>\n",
       "      <td id=\"T_e1e37_row13_col4\" class=\"data row13 col4\" >0.043590</td>\n",
       "      <td id=\"T_e1e37_row13_col5\" class=\"data row13 col5\" >0.136569</td>\n",
       "    </tr>\n",
       "    <tr>\n",
       "      <th id=\"T_e1e37_level0_row14\" class=\"row_heading level0 row14\" >Precision@8</th>\n",
       "      <td id=\"T_e1e37_row14_col0\" class=\"data row14 col0\" >0.037793</td>\n",
       "      <td id=\"T_e1e37_row14_col1\" class=\"data row14 col1\" >0.035398</td>\n",
       "      <td id=\"T_e1e37_row14_col2\" class=\"data row14 col2\" >0.034829</td>\n",
       "      <td id=\"T_e1e37_row14_col3\" class=\"data row14 col3\" >0.000181</td>\n",
       "      <td id=\"T_e1e37_row14_col4\" class=\"data row14 col4\" >0.010946</td>\n",
       "      <td id=\"T_e1e37_row14_col5\" class=\"data row14 col5\" >0.038420</td>\n",
       "    </tr>\n",
       "    <tr>\n",
       "      <th id=\"T_e1e37_level0_row15\" class=\"row_heading level0 row15\" >Recall@8</th>\n",
       "      <td id=\"T_e1e37_row15_col0\" class=\"data row15 col0\" >0.144335</td>\n",
       "      <td id=\"T_e1e37_row15_col1\" class=\"data row15 col1\" >0.132985</td>\n",
       "      <td id=\"T_e1e37_row15_col2\" class=\"data row15 col2\" >0.126580</td>\n",
       "      <td id=\"T_e1e37_row15_col3\" class=\"data row15 col3\" >0.000440</td>\n",
       "      <td id=\"T_e1e37_row15_col4\" class=\"data row15 col4\" >0.045120</td>\n",
       "      <td id=\"T_e1e37_row15_col5\" class=\"data row15 col5\" >0.143262</td>\n",
       "    </tr>\n",
       "    <tr>\n",
       "      <th id=\"T_e1e37_level0_row16\" class=\"row_heading level0 row16\" >Precision@9</th>\n",
       "      <td id=\"T_e1e37_row16_col0\" class=\"data row16 col0\" >0.035072</td>\n",
       "      <td id=\"T_e1e37_row16_col1\" class=\"data row16 col1\" >0.033045</td>\n",
       "      <td id=\"T_e1e37_row16_col2\" class=\"data row16 col2\" >0.033025</td>\n",
       "      <td id=\"T_e1e37_row16_col3\" class=\"data row16 col3\" >0.000209</td>\n",
       "      <td id=\"T_e1e37_row16_col4\" class=\"data row16 col4\" >0.010149</td>\n",
       "      <td id=\"T_e1e37_row16_col5\" class=\"data row16 col5\" >0.035866</td>\n",
       "    </tr>\n",
       "    <tr>\n",
       "      <th id=\"T_e1e37_level0_row17\" class=\"row_heading level0 row17\" >Recall@9</th>\n",
       "      <td id=\"T_e1e37_row17_col0\" class=\"data row17 col0\" >0.150372</td>\n",
       "      <td id=\"T_e1e37_row17_col1\" class=\"data row17 col1\" >0.138718</td>\n",
       "      <td id=\"T_e1e37_row17_col2\" class=\"data row17 col2\" >0.134071</td>\n",
       "      <td id=\"T_e1e37_row17_col3\" class=\"data row17 col3\" >0.000646</td>\n",
       "      <td id=\"T_e1e37_row17_col4\" class=\"data row17 col4\" >0.046670</td>\n",
       "      <td id=\"T_e1e37_row17_col5\" class=\"data row17 col5\" >0.149486</td>\n",
       "    </tr>\n",
       "    <tr>\n",
       "      <th id=\"T_e1e37_level0_row18\" class=\"row_heading level0 row18\" >Precision@10</th>\n",
       "      <td id=\"T_e1e37_row18_col0\" class=\"data row18 col0\" >0.032803</td>\n",
       "      <td id=\"T_e1e37_row18_col1\" class=\"data row18 col1\" >0.030988</td>\n",
       "      <td id=\"T_e1e37_row18_col2\" class=\"data row18 col2\" >0.031436</td>\n",
       "      <td id=\"T_e1e37_row18_col3\" class=\"data row18 col3\" >0.000211</td>\n",
       "      <td id=\"T_e1e37_row18_col4\" class=\"data row18 col4\" >0.009498</td>\n",
       "      <td id=\"T_e1e37_row18_col5\" class=\"data row18 col5\" >0.033669</td>\n",
       "    </tr>\n",
       "    <tr>\n",
       "      <th id=\"T_e1e37_level0_row19\" class=\"row_heading level0 row19\" >Recall@10</th>\n",
       "      <td id=\"T_e1e37_row19_col0\" class=\"data row19 col0\" >0.156070</td>\n",
       "      <td id=\"T_e1e37_row19_col1\" class=\"data row19 col1\" >0.143883</td>\n",
       "      <td id=\"T_e1e37_row19_col2\" class=\"data row19 col2\" >0.140668</td>\n",
       "      <td id=\"T_e1e37_row19_col3\" class=\"data row19 col3\" >0.000687</td>\n",
       "      <td id=\"T_e1e37_row19_col4\" class=\"data row19 col4\" >0.048191</td>\n",
       "      <td id=\"T_e1e37_row19_col5\" class=\"data row19 col5\" >0.155127</td>\n",
       "    </tr>\n",
       "    <tr>\n",
       "      <th id=\"T_e1e37_level0_row20\" class=\"row_heading level0 row20\" >MAP@1</th>\n",
       "      <td id=\"T_e1e37_row20_col0\" class=\"data row20 col0\" >0.035863</td>\n",
       "      <td id=\"T_e1e37_row20_col1\" class=\"data row20 col1\" >0.042035</td>\n",
       "      <td id=\"T_e1e37_row20_col2\" class=\"data row20 col2\" >0.030516</td>\n",
       "      <td id=\"T_e1e37_row20_col3\" class=\"data row20 col3\" >0.000116</td>\n",
       "      <td id=\"T_e1e37_row20_col4\" class=\"data row20 col4\" >0.019990</td>\n",
       "      <td id=\"T_e1e37_row20_col5\" class=\"data row20 col5\" >0.041207</td>\n",
       "    </tr>\n",
       "    <tr>\n",
       "      <th id=\"T_e1e37_level0_row21\" class=\"row_heading level0 row21\" >MAP@2</th>\n",
       "      <td id=\"T_e1e37_row21_col0\" class=\"data row21 col0\" >0.050787</td>\n",
       "      <td id=\"T_e1e37_row21_col1\" class=\"data row21 col1\" >0.056559</td>\n",
       "      <td id=\"T_e1e37_row21_col2\" class=\"data row21 col2\" >0.042244</td>\n",
       "      <td id=\"T_e1e37_row21_col3\" class=\"data row21 col3\" >0.000208</td>\n",
       "      <td id=\"T_e1e37_row21_col4\" class=\"data row21 col4\" >0.024303</td>\n",
       "      <td id=\"T_e1e37_row21_col5\" class=\"data row21 col5\" >0.054914</td>\n",
       "    </tr>\n",
       "    <tr>\n",
       "      <th id=\"T_e1e37_level0_row22\" class=\"row_heading level0 row22\" >MAP@3</th>\n",
       "      <td id=\"T_e1e37_row22_col0\" class=\"data row22 col0\" >0.059216</td>\n",
       "      <td id=\"T_e1e37_row22_col1\" class=\"data row22 col1\" >0.063203</td>\n",
       "      <td id=\"T_e1e37_row22_col2\" class=\"data row22 col2\" >0.049123</td>\n",
       "      <td id=\"T_e1e37_row22_col3\" class=\"data row22 col3\" >0.000208</td>\n",
       "      <td id=\"T_e1e37_row22_col4\" class=\"data row22 col4\" >0.026201</td>\n",
       "      <td id=\"T_e1e37_row22_col5\" class=\"data row22 col5\" >0.062431</td>\n",
       "    </tr>\n",
       "    <tr>\n",
       "      <th id=\"T_e1e37_level0_row23\" class=\"row_heading level0 row23\" >MAP@4</th>\n",
       "      <td id=\"T_e1e37_row23_col0\" class=\"data row23 col0\" >0.066049</td>\n",
       "      <td id=\"T_e1e37_row23_col1\" class=\"data row23 col1\" >0.067265</td>\n",
       "      <td id=\"T_e1e37_row23_col2\" class=\"data row23 col2\" >0.053520</td>\n",
       "      <td id=\"T_e1e37_row23_col3\" class=\"data row23 col3\" >0.000209</td>\n",
       "      <td id=\"T_e1e37_row23_col4\" class=\"data row23 col4\" >0.027064</td>\n",
       "      <td id=\"T_e1e37_row23_col5\" class=\"data row23 col5\" >0.067179</td>\n",
       "    </tr>\n",
       "    <tr>\n",
       "      <th id=\"T_e1e37_level0_row24\" class=\"row_heading level0 row24\" >MAP@5</th>\n",
       "      <td id=\"T_e1e37_row24_col0\" class=\"data row24 col0\" >0.068720</td>\n",
       "      <td id=\"T_e1e37_row24_col1\" class=\"data row24 col1\" >0.069688</td>\n",
       "      <td id=\"T_e1e37_row24_col2\" class=\"data row24 col2\" >0.056290</td>\n",
       "      <td id=\"T_e1e37_row24_col3\" class=\"data row24 col3\" >0.000211</td>\n",
       "      <td id=\"T_e1e37_row24_col4\" class=\"data row24 col4\" >0.027592</td>\n",
       "      <td id=\"T_e1e37_row24_col5\" class=\"data row24 col5\" >0.070310</td>\n",
       "    </tr>\n",
       "    <tr>\n",
       "      <th id=\"T_e1e37_level0_row25\" class=\"row_heading level0 row25\" >MAP@6</th>\n",
       "      <td id=\"T_e1e37_row25_col0\" class=\"data row25 col0\" >0.070471</td>\n",
       "      <td id=\"T_e1e37_row25_col1\" class=\"data row25 col1\" >0.071146</td>\n",
       "      <td id=\"T_e1e37_row25_col2\" class=\"data row25 col2\" >0.058222</td>\n",
       "      <td id=\"T_e1e37_row25_col3\" class=\"data row25 col3\" >0.000212</td>\n",
       "      <td id=\"T_e1e37_row25_col4\" class=\"data row25 col4\" >0.027982</td>\n",
       "      <td id=\"T_e1e37_row25_col5\" class=\"data row25 col5\" >0.072255</td>\n",
       "    </tr>\n",
       "    <tr>\n",
       "      <th id=\"T_e1e37_level0_row26\" class=\"row_heading level0 row26\" >MAP@7</th>\n",
       "      <td id=\"T_e1e37_row26_col0\" class=\"data row26 col0\" >0.071412</td>\n",
       "      <td id=\"T_e1e37_row26_col1\" class=\"data row26 col1\" >0.072306</td>\n",
       "      <td id=\"T_e1e37_row26_col2\" class=\"data row26 col2\" >0.059610</td>\n",
       "      <td id=\"T_e1e37_row26_col3\" class=\"data row26 col3\" >0.000225</td>\n",
       "      <td id=\"T_e1e37_row26_col4\" class=\"data row26 col4\" >0.028305</td>\n",
       "      <td id=\"T_e1e37_row26_col5\" class=\"data row26 col5\" >0.073577</td>\n",
       "    </tr>\n",
       "    <tr>\n",
       "      <th id=\"T_e1e37_level0_row27\" class=\"row_heading level0 row27\" >MAP@8</th>\n",
       "      <td id=\"T_e1e37_row27_col0\" class=\"data row27 col0\" >0.072334</td>\n",
       "      <td id=\"T_e1e37_row27_col1\" class=\"data row27 col1\" >0.073162</td>\n",
       "      <td id=\"T_e1e37_row27_col2\" class=\"data row27 col2\" >0.060771</td>\n",
       "      <td id=\"T_e1e37_row27_col3\" class=\"data row27 col3\" >0.000229</td>\n",
       "      <td id=\"T_e1e37_row27_col4\" class=\"data row27 col4\" >0.028512</td>\n",
       "      <td id=\"T_e1e37_row27_col5\" class=\"data row27 col5\" >0.074590</td>\n",
       "    </tr>\n",
       "    <tr>\n",
       "      <th id=\"T_e1e37_level0_row28\" class=\"row_heading level0 row28\" >MAP@9</th>\n",
       "      <td id=\"T_e1e37_row28_col0\" class=\"data row28 col0\" >0.073142</td>\n",
       "      <td id=\"T_e1e37_row28_col1\" class=\"data row28 col1\" >0.073944</td>\n",
       "      <td id=\"T_e1e37_row28_col2\" class=\"data row28 col2\" >0.061773</td>\n",
       "      <td id=\"T_e1e37_row28_col3\" class=\"data row28 col3\" >0.000252</td>\n",
       "      <td id=\"T_e1e37_row28_col4\" class=\"data row28 col4\" >0.028696</td>\n",
       "      <td id=\"T_e1e37_row28_col5\" class=\"data row28 col5\" >0.075427</td>\n",
       "    </tr>\n",
       "    <tr>\n",
       "      <th id=\"T_e1e37_level0_row29\" class=\"row_heading level0 row29\" >MAP@10</th>\n",
       "      <td id=\"T_e1e37_row29_col0\" class=\"data row29 col0\" >0.073836</td>\n",
       "      <td id=\"T_e1e37_row29_col1\" class=\"data row29 col1\" >0.074567</td>\n",
       "      <td id=\"T_e1e37_row29_col2\" class=\"data row29 col2\" >0.062585</td>\n",
       "      <td id=\"T_e1e37_row29_col3\" class=\"data row29 col3\" >0.000256</td>\n",
       "      <td id=\"T_e1e37_row29_col4\" class=\"data row29 col4\" >0.028860</td>\n",
       "      <td id=\"T_e1e37_row29_col5\" class=\"data row29 col5\" >0.076117</td>\n",
       "    </tr>\n",
       "  </tbody>\n",
       "</table>\n"
      ],
      "text/plain": [
       "<pandas.io.formats.style.Styler at 0x7ff964557c70>"
      ]
     },
     "execution_count": 47,
     "metadata": {},
     "output_type": "execute_result"
    }
   ],
   "source": [
    "df_quality.style.highlight_max(color='lightgreen', axis=1)"
   ]
  },
  {
   "cell_type": "markdown",
   "metadata": {},
   "source": [
    "# Approximate Nearest Neighbors "
   ]
  },
  {
   "cell_type": "code",
   "execution_count": 48,
   "metadata": {
    "execution": {
     "iopub.execute_input": "2023-11-29T07:00:14.268066Z",
     "iopub.status.busy": "2023-11-29T07:00:14.268066Z",
     "iopub.status.idle": "2023-11-29T07:00:14.300069Z",
     "shell.execute_reply": "2023-11-29T07:00:14.297066Z",
     "shell.execute_reply.started": "2023-11-29T07:00:14.268066Z"
    }
   },
   "outputs": [],
   "source": [
    "import nmslib"
   ]
  },
  {
   "cell_type": "markdown",
   "metadata": {},
   "source": [
    "# HNSW algorithm parameters\n",
    "\n",
    "## Search parameters:\n",
    "* ```ef``` - the size of the dynamic list for the nearest neighbors (used during the search). Higher ```ef```\n",
    "leads to more accurate but slower search. ```ef``` cannot be set lower than the number of queried nearest neighbors\n",
    "```k```. The value ```ef``` of can be anything between ```k``` and the size of the dataset.\n",
    "* ```k``` number of nearest neighbors to be returned as the result.\n",
    "The ```knn_query``` function returns two numpy arrays, containing labels and distances to the k found nearest \n",
    "elements for the queries. Note that in case the algorithm is not be able to find ```k``` neighbors to all of the queries,\n",
    "(this can be due to problems with graph or ```k```>size of the dataset) an exception is thrown.\n",
    "\n",
    "\n",
    "## Construction parameters:\n",
    "* ```M``` - the number of bi-directional links created for every new element during construction. Reasonable range for ```M``` \n",
    "is 2-100. Higher ```M``` work better on datasets with high intrinsic dimensionality and/or high recall, while low ```M``` work \n",
    "better for datasets with low intrinsic dimensionality and/or low recalls. The parameter also determines the algorithm's memory \n",
    "consumption, which is roughly ```M * 8-10``` bytes per stored element.  \n",
    "As an example for ```dim```=4 random vectors optimal ```M``` for search is somewhere around 6, while for high dimensional datasets \n",
    "(word embeddings, good face descriptors), higher ```M``` are required (e.g. ```M```=48-64) for optimal performance at high recall. \n",
    "The range ```M```=12-48 is ok for the most of the use cases. When ```M``` is changed one has to update the other parameters. \n",
    "Nonetheless, ef and ef_construction parameters can be roughly estimated by assuming that ```M```*```ef_{construction}``` is \n",
    "a constant.\n",
    "\n",
    "* ```ef_construction``` - the parameter has the same meaning as ```ef```, but controls the index_time/index_accuracy. Bigger \n",
    "ef_construction leads to longer construction, but better index quality. At some point, increasing ef_construction does\n",
    "not improve the quality of the index. One way to check if the selection of ef_construction was ok is to measure a recall \n",
    "for M nearest neighbor search when ```ef``` =```ef_construction```: if the recall is lower than 0.9, than there is room \n",
    "for improvement.\n",
    "* ```num_elements``` - defines the maximum number of elements in the index. The index can be extened by saving/loading(load_index\n",
    "function has a parameter which defines the new maximum number of elements).\n",
    "\n",
    "Еще источники: \n",
    "- [Nmslib Docs](https://github.com/nmslib/nmslib/blob/master/manual/methods.md)\n",
    "- [Pinecone Vector Indexes](https://www.pinecone.io/learn/vector-indexes/)"
   ]
  },
  {
   "cell_type": "markdown",
   "metadata": {},
   "source": [
    "<img src=\"https://d33wubrfki0l68.cloudfront.net/4c635fabb268a4af60109a506300a2dfda612063/d2535/images/similarity-search-indexes17.jpg\">"
   ]
  },
  {
   "cell_type": "markdown",
   "metadata": {},
   "source": [
    "<img src=\"https://d33wubrfki0l68.cloudfront.net/96d80cd46c2d12df99c044c860a8a5fb00cf6376/d59ca/images/similarity-search-indexes18.jpg\">"
   ]
  },
  {
   "cell_type": "code",
   "execution_count": 49,
   "metadata": {
    "execution": {
     "iopub.execute_input": "2023-11-29T07:00:14.302065Z",
     "iopub.status.busy": "2023-11-29T07:00:14.302065Z",
     "iopub.status.idle": "2023-11-29T07:00:14.313064Z",
     "shell.execute_reply": "2023-11-29T07:00:14.312062Z",
     "shell.execute_reply.started": "2023-11-29T07:00:14.302065Z"
    }
   },
   "outputs": [],
   "source": [
    "import time"
   ]
  },
  {
   "cell_type": "code",
   "execution_count": 90,
   "metadata": {
    "execution": {
     "iopub.execute_input": "2023-11-29T07:00:14.315064Z",
     "iopub.status.busy": "2023-11-29T07:00:14.314065Z",
     "iopub.status.idle": "2023-11-29T07:00:14.328064Z",
     "shell.execute_reply": "2023-11-29T07:00:14.327064Z",
     "shell.execute_reply.started": "2023-11-29T07:00:14.315064Z"
    }
   },
   "outputs": [
    {
     "data": {
      "text/plain": [
       "<rectools.models.lightfm.LightFMWrapperModel at 0x7ff964dfaaa0>"
      ]
     },
     "execution_count": 90,
     "metadata": {},
     "output_type": "execute_result"
    }
   ],
   "source": [
    "model"
   ]
  },
  {
   "cell_type": "code",
   "execution_count": 51,
   "metadata": {
    "execution": {
     "iopub.execute_input": "2023-11-29T07:00:14.330064Z",
     "iopub.status.busy": "2023-11-29T07:00:14.329064Z",
     "iopub.status.idle": "2023-11-29T07:00:14.469063Z",
     "shell.execute_reply": "2023-11-29T07:00:14.469063Z",
     "shell.execute_reply.started": "2023-11-29T07:00:14.330064Z"
    }
   },
   "outputs": [],
   "source": [
    "user_embeddings, item_embeddings = model.get_vectors(dataset)"
   ]
  },
  {
   "cell_type": "code",
   "execution_count": 52,
   "metadata": {
    "execution": {
     "iopub.execute_input": "2023-11-29T07:00:14.471066Z",
     "iopub.status.busy": "2023-11-29T07:00:14.471066Z",
     "iopub.status.idle": "2023-11-29T07:00:14.486068Z",
     "shell.execute_reply": "2023-11-29T07:00:14.485066Z",
     "shell.execute_reply.started": "2023-11-29T07:00:14.471066Z"
    }
   },
   "outputs": [
    {
     "data": {
      "text/plain": [
       "((756562, 34), (14019, 34))"
      ]
     },
     "execution_count": 52,
     "metadata": {},
     "output_type": "execute_result"
    }
   ],
   "source": [
    "user_embeddings.shape, item_embeddings.shape"
   ]
  },
  {
   "cell_type": "markdown",
   "metadata": {},
   "source": [
    "----"
   ]
  },
  {
   "cell_type": "code",
   "execution_count": 103,
   "metadata": {},
   "outputs": [
    {
     "data": {
      "text/plain": [
       "<rectools.models.implicit_als.ImplicitALSWrapperModel at 0x7ff96842a530>"
      ]
     },
     "execution_count": 103,
     "metadata": {},
     "output_type": "execute_result"
    }
   ],
   "source": [
    "models['ALS_32_True']"
   ]
  },
  {
   "cell_type": "code",
   "execution_count": 105,
   "metadata": {},
   "outputs": [],
   "source": [
    "user_embeddings_1, item_embeddings_1 = models['ALS_32_True'].get_vectors()"
   ]
  },
  {
   "cell_type": "code",
   "execution_count": 106,
   "metadata": {},
   "outputs": [
    {
     "data": {
      "text/plain": [
       "((756562, 145), (14019, 145))"
      ]
     },
     "execution_count": 106,
     "metadata": {},
     "output_type": "execute_result"
    }
   ],
   "source": [
    "user_embeddings_1.shape, item_embeddings_1.shape"
   ]
  },
  {
   "cell_type": "markdown",
   "metadata": {},
   "source": [
    "----"
   ]
  },
  {
   "cell_type": "code",
   "execution_count": 53,
   "metadata": {
    "execution": {
     "iopub.execute_input": "2023-11-29T07:00:14.487066Z",
     "iopub.status.busy": "2023-11-29T07:00:14.487066Z",
     "iopub.status.idle": "2023-11-29T07:00:14.502067Z",
     "shell.execute_reply": "2023-11-29T07:00:14.501068Z",
     "shell.execute_reply.started": "2023-11-29T07:00:14.487066Z"
    }
   },
   "outputs": [],
   "source": [
    "def augment_inner_product(factors):\n",
    "    normed_factors = np.linalg.norm(factors, axis=1)\n",
    "    max_norm = normed_factors.max()\n",
    "    \n",
    "    extra_dim = np.sqrt(max_norm ** 2 - normed_factors ** 2).reshape(-1, 1)\n",
    "    augmented_factors = np.append(factors, extra_dim, axis=1)\n",
    "    return max_norm, augmented_factors"
   ]
  },
  {
   "cell_type": "code",
   "execution_count": 54,
   "metadata": {
    "execution": {
     "iopub.execute_input": "2023-11-29T07:00:14.503066Z",
     "iopub.status.busy": "2023-11-29T07:00:14.503066Z",
     "iopub.status.idle": "2023-11-29T07:00:14.517062Z",
     "shell.execute_reply": "2023-11-29T07:00:14.517062Z",
     "shell.execute_reply.started": "2023-11-29T07:00:14.503066Z"
    }
   },
   "outputs": [
    {
     "name": "stdout",
     "output_type": "stream",
     "text": [
      "pre shape:  (14019, 34)\n"
     ]
    },
    {
     "data": {
      "text/plain": [
       "(14019, 35)"
      ]
     },
     "execution_count": 54,
     "metadata": {},
     "output_type": "execute_result"
    }
   ],
   "source": [
    "print('pre shape: ', item_embeddings.shape)\n",
    "max_norm, augmented_item_embeddings = augment_inner_product(item_embeddings)\n",
    "augmented_item_embeddings.shape"
   ]
  },
  {
   "cell_type": "code",
   "execution_count": 55,
   "metadata": {
    "execution": {
     "iopub.execute_input": "2023-11-29T07:00:14.519063Z",
     "iopub.status.busy": "2023-11-29T07:00:14.518063Z",
     "iopub.status.idle": "2023-11-29T07:00:14.566063Z",
     "shell.execute_reply": "2023-11-29T07:00:14.565063Z",
     "shell.execute_reply.started": "2023-11-29T07:00:14.519063Z"
    }
   },
   "outputs": [
    {
     "data": {
      "text/plain": [
       "(756562, 35)"
      ]
     },
     "execution_count": 55,
     "metadata": {},
     "output_type": "execute_result"
    }
   ],
   "source": [
    "extra_zero = np.zeros((user_embeddings.shape[0], 1))\n",
    "augmented_user_embeddings = np.append(user_embeddings, extra_zero, axis=1)\n",
    "augmented_user_embeddings.shape"
   ]
  },
  {
   "cell_type": "code",
   "execution_count": 56,
   "metadata": {
    "execution": {
     "iopub.execute_input": "2023-11-29T07:00:14.567064Z",
     "iopub.status.busy": "2023-11-29T07:00:14.566063Z",
     "iopub.status.idle": "2023-11-29T07:00:14.582066Z",
     "shell.execute_reply": "2023-11-29T07:00:14.581063Z",
     "shell.execute_reply.started": "2023-11-29T07:00:14.567064Z"
    }
   },
   "outputs": [],
   "source": [
    "user_id = 30"
   ]
  },
  {
   "cell_type": "code",
   "execution_count": 57,
   "metadata": {
    "execution": {
     "iopub.execute_input": "2023-11-29T07:00:14.583066Z",
     "iopub.status.busy": "2023-11-29T07:00:14.583066Z",
     "iopub.status.idle": "2023-11-29T07:00:14.597065Z",
     "shell.execute_reply": "2023-11-29T07:00:14.597065Z",
     "shell.execute_reply.started": "2023-11-29T07:00:14.583066Z"
    }
   },
   "outputs": [
    {
     "data": {
      "text/plain": [
       "array([-2.25456482e+02,  1.00000000e+00,  7.01399744e-02, -2.47256398e-01,\n",
       "        2.79070556e-01,  2.70212628e-02, -2.50095636e-01, -4.38749902e-02,\n",
       "        5.08583337e-03, -1.43794343e-04,  2.61061549e-01, -1.40316561e-01,\n",
       "        4.07728314e-01,  1.68389738e-01,  2.00082302e-01,  2.26111695e-01,\n",
       "       -2.01466441e-01,  1.94868207e-01,  3.69164795e-01, -1.19172722e-01,\n",
       "       -2.39566818e-01,  2.38857687e-01, -1.30120248e-01,  3.15435350e-01,\n",
       "       -4.02139485e-01, -1.92906931e-02,  2.98904359e-01, -3.48710239e-01,\n",
       "        2.26153322e-02, -2.67659992e-01, -3.34021747e-01,  2.10244745e-01,\n",
       "        2.73165613e-01,  1.41473964e-01])"
      ]
     },
     "execution_count": 57,
     "metadata": {},
     "output_type": "execute_result"
    }
   ],
   "source": [
    "user_embeddings[user_id]"
   ]
  },
  {
   "cell_type": "code",
   "execution_count": 58,
   "metadata": {
    "execution": {
     "iopub.execute_input": "2023-11-29T07:00:14.599062Z",
     "iopub.status.busy": "2023-11-29T07:00:14.598063Z",
     "iopub.status.idle": "2023-11-29T07:00:14.613062Z",
     "shell.execute_reply": "2023-11-29T07:00:14.613062Z",
     "shell.execute_reply.started": "2023-11-29T07:00:14.599062Z"
    }
   },
   "outputs": [
    {
     "data": {
      "text/plain": [
       "array([-2.25456482e+02,  1.00000000e+00,  7.01399744e-02, -2.47256398e-01,\n",
       "        2.79070556e-01,  2.70212628e-02, -2.50095636e-01, -4.38749902e-02,\n",
       "        5.08583337e-03, -1.43794343e-04,  2.61061549e-01, -1.40316561e-01,\n",
       "        4.07728314e-01,  1.68389738e-01,  2.00082302e-01,  2.26111695e-01,\n",
       "       -2.01466441e-01,  1.94868207e-01,  3.69164795e-01, -1.19172722e-01,\n",
       "       -2.39566818e-01,  2.38857687e-01, -1.30120248e-01,  3.15435350e-01,\n",
       "       -4.02139485e-01, -1.92906931e-02,  2.98904359e-01, -3.48710239e-01,\n",
       "        2.26153322e-02, -2.67659992e-01, -3.34021747e-01,  2.10244745e-01,\n",
       "        2.73165613e-01,  1.41473964e-01,  0.00000000e+00])"
      ]
     },
     "execution_count": 58,
     "metadata": {},
     "output_type": "execute_result"
    }
   ],
   "source": [
    "augmented_user_embeddings[user_id]"
   ]
  },
  {
   "cell_type": "code",
   "execution_count": 59,
   "metadata": {
    "execution": {
     "iopub.execute_input": "2023-11-29T07:00:14.615062Z",
     "iopub.status.busy": "2023-11-29T07:00:14.614063Z",
     "iopub.status.idle": "2023-11-29T07:00:14.630066Z",
     "shell.execute_reply": "2023-11-29T07:00:14.629066Z",
     "shell.execute_reply.started": "2023-11-29T07:00:14.615062Z"
    }
   },
   "outputs": [],
   "source": [
    "item_id = 0"
   ]
  },
  {
   "cell_type": "code",
   "execution_count": 60,
   "metadata": {
    "execution": {
     "iopub.execute_input": "2023-11-29T07:00:14.631066Z",
     "iopub.status.busy": "2023-11-29T07:00:14.631066Z",
     "iopub.status.idle": "2023-11-29T07:00:14.646066Z",
     "shell.execute_reply": "2023-11-29T07:00:14.645067Z",
     "shell.execute_reply.started": "2023-11-29T07:00:14.631066Z"
    }
   },
   "outputs": [
    {
     "data": {
      "text/plain": [
       "array([ 1.        ,  1.65007734, -0.20667538, -1.04957533,  0.84888887,\n",
       "       -0.04721972, -0.27385291, -0.40841329,  1.01407611, -0.10429232,\n",
       "       -0.01295139, -0.26090294, -0.23002586,  1.0479362 ,  0.93981457,\n",
       "        0.09367985, -0.4818188 ,  0.9489696 ,  0.72209001, -1.02999854,\n",
       "        0.06911039,  0.88899964, -0.44631544,  0.2837396 , -0.6621598 ,\n",
       "        0.45825192,  1.01752782, -1.43694818,  0.68702167, -0.61883521,\n",
       "       -1.35327554,  0.3081077 ,  0.24885717,  0.97186196])"
      ]
     },
     "execution_count": 60,
     "metadata": {},
     "output_type": "execute_result"
    }
   ],
   "source": [
    "item_embeddings[item_id]"
   ]
  },
  {
   "cell_type": "code",
   "execution_count": 61,
   "metadata": {
    "execution": {
     "iopub.execute_input": "2023-11-29T07:00:14.647065Z",
     "iopub.status.busy": "2023-11-29T07:00:14.647065Z",
     "iopub.status.idle": "2023-11-29T07:00:14.661064Z",
     "shell.execute_reply": "2023-11-29T07:00:14.661064Z",
     "shell.execute_reply.started": "2023-11-29T07:00:14.647065Z"
    }
   },
   "outputs": [
    {
     "data": {
      "text/plain": [
       "array([ 1.        ,  1.65007734, -0.20667538, -1.04957533,  0.84888887,\n",
       "       -0.04721972, -0.27385291, -0.40841329,  1.01407611, -0.10429232,\n",
       "       -0.01295139, -0.26090294, -0.23002586,  1.0479362 ,  0.93981457,\n",
       "        0.09367985, -0.4818188 ,  0.9489696 ,  0.72209001, -1.02999854,\n",
       "        0.06911039,  0.88899964, -0.44631544,  0.2837396 , -0.6621598 ,\n",
       "        0.45825192,  1.01752782, -1.43694818,  0.68702167, -0.61883521,\n",
       "       -1.35327554,  0.3081077 ,  0.24885717,  0.97186196,  3.77649645])"
      ]
     },
     "execution_count": 61,
     "metadata": {},
     "output_type": "execute_result"
    }
   ],
   "source": [
    "augmented_item_embeddings[item_id]"
   ]
  },
  {
   "cell_type": "code",
   "execution_count": 62,
   "metadata": {
    "execution": {
     "iopub.execute_input": "2023-11-29T07:00:14.663067Z",
     "iopub.status.busy": "2023-11-29T07:00:14.663067Z",
     "iopub.status.idle": "2023-11-29T07:00:14.677066Z",
     "shell.execute_reply": "2023-11-29T07:00:14.677066Z",
     "shell.execute_reply.started": "2023-11-29T07:00:14.663067Z"
    }
   },
   "outputs": [
    {
     "name": "stdout",
     "output_type": "stream",
     "text": [
      "Index-time parameters {'M': 48, 'indexThreadQty': 8, 'efConstruction': 100, 'post': 0}\n"
     ]
    }
   ],
   "source": [
    "# Set index parameters\n",
    "# These are the most important ones\n",
    "M = 48\n",
    "efC = 100\n",
    "\n",
    "num_threads = 8\n",
    "index_time_params = {'M': M, 'indexThreadQty': num_threads, 'efConstruction': efC, 'post' : 0}\n",
    "print('Index-time parameters', index_time_params)"
   ]
  },
  {
   "cell_type": "code",
   "execution_count": 63,
   "metadata": {
    "execution": {
     "iopub.execute_input": "2023-11-29T07:00:14.679066Z",
     "iopub.status.busy": "2023-11-29T07:00:14.678065Z",
     "iopub.status.idle": "2023-11-29T07:00:14.694066Z",
     "shell.execute_reply": "2023-11-29T07:00:14.693067Z",
     "shell.execute_reply.started": "2023-11-29T07:00:14.679066Z"
    }
   },
   "outputs": [],
   "source": [
    "# Number of neighbors \n",
    "K=10"
   ]
  },
  {
   "cell_type": "code",
   "execution_count": 64,
   "metadata": {
    "execution": {
     "iopub.execute_input": "2023-11-29T07:00:14.695066Z",
     "iopub.status.busy": "2023-11-29T07:00:14.695066Z",
     "iopub.status.idle": "2023-11-29T07:00:14.710067Z",
     "shell.execute_reply": "2023-11-29T07:00:14.709068Z",
     "shell.execute_reply.started": "2023-11-29T07:00:14.695066Z"
    }
   },
   "outputs": [],
   "source": [
    "# Space name should correspond to the space name \n",
    "# used for brute-force search\n",
    "space_name='negdotprod'"
   ]
  },
  {
   "cell_type": "code",
   "execution_count": 65,
   "metadata": {
    "execution": {
     "iopub.execute_input": "2023-11-29T07:00:14.711065Z",
     "iopub.status.busy": "2023-11-29T07:00:14.711065Z",
     "iopub.status.idle": "2023-11-29T07:00:14.726063Z",
     "shell.execute_reply": "2023-11-29T07:00:14.725067Z",
     "shell.execute_reply.started": "2023-11-29T07:00:14.711065Z"
    }
   },
   "outputs": [
    {
     "data": {
      "text/plain": [
       "14019"
      ]
     },
     "execution_count": 65,
     "metadata": {},
     "output_type": "execute_result"
    }
   ],
   "source": [
    "# Intitialize the library, specify the space, the type of the vector and add data points \n",
    "index = nmslib.init(method='hnsw', space=space_name, data_type=nmslib.DataType.DENSE_VECTOR) \n",
    "index.addDataPointBatch(augmented_item_embeddings) "
   ]
  },
  {
   "cell_type": "code",
   "execution_count": 67,
   "metadata": {
    "execution": {
     "iopub.execute_input": "2023-11-29T07:00:14.743065Z",
     "iopub.status.busy": "2023-11-29T07:00:14.743065Z",
     "iopub.status.idle": "2023-11-29T07:00:14.964062Z",
     "shell.execute_reply": "2023-11-29T07:00:14.964062Z",
     "shell.execute_reply.started": "2023-11-29T07:00:14.743065Z"
    }
   },
   "outputs": [
    {
     "name": "stdout",
     "output_type": "stream",
     "text": [
      "Index-time parameters {'M': 48, 'indexThreadQty': 8, 'efConstruction': 100}\n",
      "Indexing time = 0.160192\n"
     ]
    }
   ],
   "source": [
    "# Create an index\n",
    "start = time.time()\n",
    "index_time_params = {'M': M, 'indexThreadQty': num_threads, 'efConstruction': efC}\n",
    "index.createIndex(index_time_params) \n",
    "end = time.time() \n",
    "print('Index-time parameters', index_time_params)\n",
    "print('Indexing time = %f' % (end-start))"
   ]
  },
  {
   "cell_type": "code",
   "execution_count": 68,
   "metadata": {
    "execution": {
     "iopub.execute_input": "2023-11-29T07:00:14.966067Z",
     "iopub.status.busy": "2023-11-29T07:00:14.965063Z",
     "iopub.status.idle": "2023-11-29T07:00:14.980066Z",
     "shell.execute_reply": "2023-11-29T07:00:14.979067Z",
     "shell.execute_reply.started": "2023-11-29T07:00:14.966067Z"
    }
   },
   "outputs": [
    {
     "name": "stdout",
     "output_type": "stream",
     "text": [
      "Setting query-time parameters {'efSearch': 100}\n"
     ]
    }
   ],
   "source": [
    "# Setting query-time parameters\n",
    "efS = 100\n",
    "query_time_params = {'efSearch': efS}\n",
    "print('Setting query-time parameters', query_time_params)\n",
    "index.setQueryTimeParams(query_time_params)"
   ]
  },
  {
   "cell_type": "code",
   "execution_count": 69,
   "metadata": {
    "execution": {
     "iopub.execute_input": "2023-11-29T07:00:14.989063Z",
     "iopub.status.busy": "2023-11-29T07:00:14.988063Z",
     "iopub.status.idle": "2023-11-29T07:00:14.995069Z",
     "shell.execute_reply": "2023-11-29T07:00:14.994068Z",
     "shell.execute_reply.started": "2023-11-29T07:00:14.989063Z"
    }
   },
   "outputs": [],
   "source": [
    "query_matrix = augmented_user_embeddings[:1000, :]"
   ]
  },
  {
   "cell_type": "code",
   "execution_count": 70,
   "metadata": {
    "execution": {
     "iopub.execute_input": "2023-11-29T07:00:14.996066Z",
     "iopub.status.busy": "2023-11-29T07:00:14.996066Z",
     "iopub.status.idle": "2023-11-29T07:00:15.027067Z",
     "shell.execute_reply": "2023-11-29T07:00:15.026065Z",
     "shell.execute_reply.started": "2023-11-29T07:00:14.996066Z"
    }
   },
   "outputs": [
    {
     "name": "stdout",
     "output_type": "stream",
     "text": [
      "kNN time total=0.008845 (sec), per query=0.000009 (sec), per query adjusted for thread number=0.000071 (sec)\n"
     ]
    }
   ],
   "source": [
    "# Querying\n",
    "query_qty = query_matrix.shape[0]\n",
    "start = time.time() \n",
    "nbrs = index.knnQueryBatch(query_matrix, k = K, num_threads = num_threads)\n",
    "end = time.time() \n",
    "print('kNN time total=%f (sec), per query=%f (sec), per query adjusted for thread number=%f (sec)' % \n",
    "      (end-start, float(end-start)/query_qty, num_threads*float(end-start)/query_qty)) "
   ]
  },
  {
   "cell_type": "code",
   "execution_count": 71,
   "metadata": {
    "execution": {
     "iopub.execute_input": "2023-11-29T07:00:15.028066Z",
     "iopub.status.busy": "2023-11-29T07:00:15.028066Z",
     "iopub.status.idle": "2023-11-29T07:00:15.041067Z",
     "shell.execute_reply": "2023-11-29T07:00:15.041067Z",
     "shell.execute_reply.started": "2023-11-29T07:00:15.028066Z"
    }
   },
   "outputs": [
    {
     "data": {
      "text/plain": [
       "(array([ 43,  32,  62,  19,   8,  36, 347,  69, 528, 305], dtype=int32),\n",
       " array([194.95813, 195.12988, 195.55359, 195.59747, 195.66373, 195.72945,\n",
       "        195.7943 , 195.89827, 195.96326, 195.97185], dtype=float32))"
      ]
     },
     "execution_count": 71,
     "metadata": {},
     "output_type": "execute_result"
    }
   ],
   "source": [
    "nbrs[0]"
   ]
  },
  {
   "cell_type": "code",
   "execution_count": 72,
   "metadata": {
    "execution": {
     "iopub.execute_input": "2023-11-29T07:00:15.043065Z",
     "iopub.status.busy": "2023-11-29T07:00:15.042067Z",
     "iopub.status.idle": "2023-11-29T07:00:15.058067Z",
     "shell.execute_reply": "2023-11-29T07:00:15.057068Z",
     "shell.execute_reply.started": "2023-11-29T07:00:15.043065Z"
    }
   },
   "outputs": [
    {
     "data": {
      "text/plain": [
       "array([194.95813, 195.12988, 195.55359, 195.59747, 195.66373, 195.72945,\n",
       "       195.7943 , 195.89827, 195.96326, 195.97185], dtype=float32)"
      ]
     },
     "execution_count": 72,
     "metadata": {},
     "output_type": "execute_result"
    }
   ],
   "source": [
    "nbrs[0][1]"
   ]
  },
  {
   "cell_type": "code",
   "execution_count": 73,
   "metadata": {
    "execution": {
     "iopub.execute_input": "2023-11-29T07:00:15.059066Z",
     "iopub.status.busy": "2023-11-29T07:00:15.059066Z",
     "iopub.status.idle": "2023-11-29T07:00:15.073063Z",
     "shell.execute_reply": "2023-11-29T07:00:15.072062Z",
     "shell.execute_reply.started": "2023-11-29T07:00:15.059066Z"
    }
   },
   "outputs": [],
   "source": [
    "def recommend_all(query_factors, index_factors, topn=10):\n",
    "    output = query_factors.dot(index_factors.T)\n",
    "    argpartition_indices = np.argpartition(output, -topn)[:, -topn:]\n",
    "\n",
    "    x_indices = np.repeat(np.arange(output.shape[0]), topn)\n",
    "    y_indices = argpartition_indices.flatten()\n",
    "    top_value = output[x_indices, y_indices].reshape(output.shape[0], topn)\n",
    "    top_indices = np.argsort(top_value)[:, ::-1]\n",
    "\n",
    "    y_indices = top_indices.flatten()\n",
    "    top_indices = argpartition_indices[x_indices, y_indices]\n",
    "    labels = top_indices.reshape(-1, topn)\n",
    "    distances = output[x_indices, top_indices].reshape(-1, topn)\n",
    "    return labels, distances"
   ]
  },
  {
   "cell_type": "code",
   "execution_count": 74,
   "metadata": {
    "execution": {
     "iopub.execute_input": "2023-11-29T07:00:15.074064Z",
     "iopub.status.busy": "2023-11-29T07:00:15.073063Z",
     "iopub.status.idle": "2023-11-29T07:00:15.087065Z",
     "shell.execute_reply": "2023-11-29T07:00:15.087065Z",
     "shell.execute_reply.started": "2023-11-29T07:00:15.074064Z"
    }
   },
   "outputs": [
    {
     "data": {
      "text/plain": [
       "(array([[ 43,  32,  62,  19,   8,  36, 347,  69, 528, 305]]),\n",
       " array([[-194.95812062, -195.12985243, -195.5535836 , -195.59745774,\n",
       "         -195.66375784, -195.72943998, -195.79428444, -195.89827764,\n",
       "         -195.96325074, -195.97184353]]))"
      ]
     },
     "execution_count": 74,
     "metadata": {},
     "output_type": "execute_result"
    }
   ],
   "source": [
    "recommend_all(user_embeddings[[0], :], item_embeddings)"
   ]
  },
  {
   "cell_type": "code",
   "execution_count": 75,
   "metadata": {
    "execution": {
     "iopub.execute_input": "2023-11-29T07:00:15.089063Z",
     "iopub.status.busy": "2023-11-29T07:00:15.088062Z",
     "iopub.status.idle": "2023-11-29T07:00:15.103064Z",
     "shell.execute_reply": "2023-11-29T07:00:15.102062Z",
     "shell.execute_reply.started": "2023-11-29T07:00:15.089063Z"
    }
   },
   "outputs": [
    {
     "data": {
      "text/plain": [
       "((1000, 34), (756562, 34))"
      ]
     },
     "execution_count": 75,
     "metadata": {},
     "output_type": "execute_result"
    }
   ],
   "source": [
    "item_embeddings[:1000, :].shape, user_embeddings.shape"
   ]
  },
  {
   "cell_type": "code",
   "execution_count": 76,
   "metadata": {
    "execution": {
     "iopub.execute_input": "2023-11-29T07:00:15.104068Z",
     "iopub.status.busy": "2023-11-29T07:00:15.104068Z",
     "iopub.status.idle": "2023-11-29T07:00:15.112630Z",
     "shell.execute_reply": "2023-11-29T07:00:15.112513Z",
     "shell.execute_reply.started": "2023-11-29T07:00:15.104068Z"
    }
   },
   "outputs": [],
   "source": [
    "query_matrix_not_augmented = user_embeddings[:1000, :]"
   ]
  },
  {
   "cell_type": "code",
   "execution_count": 77,
   "metadata": {
    "execution": {
     "iopub.execute_input": "2023-11-29T07:00:15.114627Z",
     "iopub.status.busy": "2023-11-29T07:00:15.113629Z",
     "iopub.status.idle": "2023-11-29T07:00:27.810355Z",
     "shell.execute_reply": "2023-11-29T07:00:27.810355Z",
     "shell.execute_reply.started": "2023-11-29T07:00:15.114627Z"
    }
   },
   "outputs": [
    {
     "name": "stdout",
     "output_type": "stream",
     "text": [
      "146 ms ± 740 µs per loop (mean ± std. dev. of 7 runs, 10 loops each)\n"
     ]
    }
   ],
   "source": [
    "%%timeit\n",
    "recommend_all(query_matrix_not_augmented, item_embeddings)"
   ]
  },
  {
   "cell_type": "code",
   "execution_count": 78,
   "metadata": {
    "execution": {
     "iopub.execute_input": "2023-11-29T07:00:27.812357Z",
     "iopub.status.busy": "2023-11-29T07:00:27.811356Z",
     "iopub.status.idle": "2023-11-29T07:00:35.013463Z",
     "shell.execute_reply": "2023-11-29T07:00:35.012461Z",
     "shell.execute_reply.started": "2023-11-29T07:00:27.812357Z"
    }
   },
   "outputs": [
    {
     "name": "stdout",
     "output_type": "stream",
     "text": [
      "6.39 ms ± 796 µs per loop (mean ± std. dev. of 7 runs, 100 loops each)\n"
     ]
    }
   ],
   "source": [
    "%%timeit\n",
    "index.knnQueryBatch(query_matrix, k = K, num_threads=num_threads)"
   ]
  },
  {
   "cell_type": "code",
   "execution_count": 80,
   "metadata": {
    "execution": {
     "iopub.execute_input": "2023-11-29T07:00:35.044506Z",
     "iopub.status.busy": "2023-11-29T07:00:35.043504Z",
     "iopub.status.idle": "2023-11-29T07:00:35.122503Z",
     "shell.execute_reply": "2023-11-29T07:00:35.122503Z",
     "shell.execute_reply.started": "2023-11-29T07:00:35.044506Z"
    }
   },
   "outputs": [],
   "source": [
    "import hnswlib\n",
    "\n",
    "# %%time\n",
    "max_elements, dim = augmented_item_embeddings.shape\n",
    "hnsw = hnswlib.Index(\"ip\", dim) # possible options for space are l2, cosine or ip\n",
    "\n",
    "# Initing index - the maximum number of elements should be known beforehand\n",
    "hnsw.init_index(max_elements, M, efC)\n",
    "\n",
    "# Element insertion (can be called several times)\n",
    "hnsw.add_items(augmented_item_embeddings)\n",
    "\n",
    "# Controlling the recall by setting ef, should always be > k\n",
    "hnsw.set_ef(efS)\n",
    "\n",
    "label, distance = hnsw.knn_query(query_matrix, k=k)"
   ]
  },
  {
   "cell_type": "code",
   "execution_count": 81,
   "metadata": {
    "execution": {
     "iopub.execute_input": "2023-11-29T07:00:35.124505Z",
     "iopub.status.busy": "2023-11-29T07:00:35.123504Z",
     "iopub.status.idle": "2023-11-29T07:00:35.139507Z",
     "shell.execute_reply": "2023-11-29T07:00:35.138506Z",
     "shell.execute_reply.started": "2023-11-29T07:00:35.124505Z"
    }
   },
   "outputs": [],
   "source": [
    "# Controlling the recall by setting ef, should always be > k\n",
    "hnsw.set_ef(efS)"
   ]
  },
  {
   "cell_type": "code",
   "execution_count": 82,
   "metadata": {
    "execution": {
     "iopub.execute_input": "2023-11-29T07:00:35.140505Z",
     "iopub.status.busy": "2023-11-29T07:00:35.140505Z",
     "iopub.status.idle": "2023-11-29T07:00:35.155504Z",
     "shell.execute_reply": "2023-11-29T07:00:35.154504Z",
     "shell.execute_reply.started": "2023-11-29T07:00:35.140505Z"
    }
   },
   "outputs": [],
   "source": [
    "label, distance = hnsw.knn_query(query_matrix, k=k)"
   ]
  },
  {
   "cell_type": "code",
   "execution_count": 83,
   "metadata": {
    "execution": {
     "iopub.execute_input": "2023-11-29T07:00:35.156507Z",
     "iopub.status.busy": "2023-11-29T07:00:35.156507Z",
     "iopub.status.idle": "2023-11-29T07:00:35.170507Z",
     "shell.execute_reply": "2023-11-29T07:00:35.170507Z",
     "shell.execute_reply.started": "2023-11-29T07:00:35.156507Z"
    }
   },
   "outputs": [
    {
     "data": {
      "text/plain": [
       "array([[ 43,  32,  62, ...,  69, 528, 305],\n",
       "       [ 62,   8,  43, ..., 262,  49,  19],\n",
       "       [ 31,  19, 121, ...,  32,  12, 100],\n",
       "       ...,\n",
       "       [ 31,  19, 358, ..., 166, 173, 121],\n",
       "       [ 43,  19,  32, ..., 117,  62,  75],\n",
       "       [ 31,  32,  19, ...,   8, 173,  36]], dtype=uint64)"
      ]
     },
     "execution_count": 83,
     "metadata": {},
     "output_type": "execute_result"
    }
   ],
   "source": [
    "label"
   ]
  },
  {
   "cell_type": "code",
   "execution_count": 84,
   "metadata": {
    "execution": {
     "iopub.execute_input": "2023-11-29T07:00:35.172507Z",
     "iopub.status.busy": "2023-11-29T07:00:35.171510Z",
     "iopub.status.idle": "2023-11-29T07:00:35.187508Z",
     "shell.execute_reply": "2023-11-29T07:00:35.186509Z",
     "shell.execute_reply.started": "2023-11-29T07:00:35.172507Z"
    }
   },
   "outputs": [
    {
     "data": {
      "text/plain": [
       "array([[-194.95813  , -195.12988  , -195.55357  , ..., -195.89827  ,\n",
       "        -195.96324  , -195.97186  ],\n",
       "       [-195.5226   , -195.65256  , -195.96494  , ..., -196.24266  ,\n",
       "        -196.28024  , -196.32687  ],\n",
       "       [-181.90443  , -182.46126  , -182.9825   , ..., -183.28624  ,\n",
       "        -183.31169  , -183.32512  ],\n",
       "       ...,\n",
       "       [-218.01886  , -218.17645  , -218.25363  , ..., -218.60023  ,\n",
       "        -218.64053  , -218.67365  ],\n",
       "       [-198.77481  , -199.01605  , -199.17645  , ..., -199.52682  ,\n",
       "        -199.57887  , -199.66626  ],\n",
       "       [   6.0184584,    5.8763576,    5.6622257, ...,    5.3207345,\n",
       "           5.277447 ,    5.2311406]], dtype=float32)"
      ]
     },
     "execution_count": 84,
     "metadata": {},
     "output_type": "execute_result"
    }
   ],
   "source": [
    "1 - distance"
   ]
  },
  {
   "cell_type": "code",
   "execution_count": 85,
   "metadata": {
    "execution": {
     "iopub.execute_input": "2023-11-29T07:00:35.188510Z",
     "iopub.status.busy": "2023-11-29T07:00:35.188510Z",
     "iopub.status.idle": "2023-11-29T07:00:35.203509Z",
     "shell.execute_reply": "2023-11-29T07:00:35.202508Z",
     "shell.execute_reply.started": "2023-11-29T07:00:35.188510Z"
    }
   },
   "outputs": [
    {
     "data": {
      "text/plain": [
       "-203.00963453184738"
      ]
     },
     "execution_count": 85,
     "metadata": {},
     "output_type": "execute_result"
    }
   ],
   "source": [
    "item_embeddings[8867].dot(user_embeddings[0])"
   ]
  },
  {
   "cell_type": "code",
   "execution_count": 86,
   "metadata": {
    "execution": {
     "iopub.execute_input": "2023-11-29T07:00:35.204508Z",
     "iopub.status.busy": "2023-11-29T07:00:35.204508Z",
     "iopub.status.idle": "2023-11-29T07:00:35.376507Z",
     "shell.execute_reply": "2023-11-29T07:00:35.375507Z",
     "shell.execute_reply.started": "2023-11-29T07:00:35.204508Z"
    }
   },
   "outputs": [
    {
     "name": "stdout",
     "output_type": "stream",
     "text": [
      "[[ 43  32  62 ...  69 528 305]\n",
      " [ 62   8  43 ... 262  49  19]\n",
      " [ 31  19 121 ...  32  12 100]\n",
      " ...\n",
      " [ 31  19 358 ... 166 173 121]\n",
      " [ 43  19  32 ... 117  62  75]\n",
      " [ 31  32  19 ...   8 173  36]]\n",
      "[[-194.95812062 -195.12985243 -195.5535836  ... -195.89827764\n",
      "  -195.96325074 -195.97184353]\n",
      " [-195.52257311 -195.65258332 -195.964932   ... -196.24267365\n",
      "  -196.28023016 -196.32684488]\n",
      " [-181.90444136 -182.46127289 -182.98249042 ... -183.28621011\n",
      "  -183.31169729 -183.32510954]\n",
      " ...\n",
      " [-218.01888762 -218.17647516 -218.25363732 ... -218.60023105\n",
      "  -218.64053126 -218.67366424]\n",
      " [-198.77479336 -199.01605265 -199.17644531 ... -199.52682488\n",
      "  -199.57887019 -199.66625941]\n",
      " [   6.01845792    5.87635788    5.66222589 ...    5.32073475\n",
      "     5.27744772    5.2311401 ]]\n"
     ]
    }
   ],
   "source": [
    "labels, distances = recommend_all(user_embeddings[:1000, :], item_embeddings)\n",
    "print(labels)\n",
    "print(distances)"
   ]
  },
  {
   "cell_type": "markdown",
   "metadata": {},
   "source": [
    "## Домашнее задание \n",
    "### Основные пункты оценки\n",
    "1. значение метрики на лидерборде\n",
    "2. ревью кода в ноутбуке \n",
    "3. реализация сервиса для модели\n",
    "\n",
    "Вы можете сделать НЕ ВСЕ пункты и все равно получить 20 баллов. Получение > 20 баллов будет расцениваться как 20.\n",
    "\n",
    "### Подробности\n",
    "#### 1. Побейте метрику на лидерборде map@10 = 0.075 c моделью из implicit, lightfm или rectools, в том числе используя ANN **(5 баллов)**\n",
    "#### 2. Реализуйте эксперименты с кастомной моделю kNN с семинара. Результат - ноутбук(и) **(максимум 12 баллов)**\n",
    "Что можно сделать в ноутбуке:\n",
    "- Реализовать тюнинг гиперпараметров для моделей из implicit, lightfm или rectools **(3 балла)**\n",
    "  - Для перебора гиперпараметров можно использовать [`Optuna`](https://github.com/optuna/optuna), [`Hyperopt`](https://github.com/hyperopt/hyperopt)\n",
    "- Воспользоваться методом приближенного поиска соседей для выдачи рекомендаций. **(3 балла)**\n",
    "    - Можно использовать любые удобные: [`Annoy`](https://github.com/spotify/annoy), [`nmslib`](https://github.com/nmslib/nmslib) и.т.д\n",
    "- Сделать рекомендации для холодных пользователей используя их фичи (для кого нет фичей - там другим способом) **(3 балла)**\n",
    "- Провести эксперименты с параметрами оффлайн валидации и сделать выводы **(3 балла)**\n",
    "\n",
    "#### 3. Оберните модель в сервис **(максимум 12 баллов)**\n",
    "- предпочтительный онлайн вариант: обучаете модель в ноутбуке, сохраняете обученную модель (pickle, dill), при запуске сервиса ее поднимаете и запрашиваете рекомендации \"на лету\" **(12 баллов)**\n",
    "- или оффлайн вариант: предварительно посчитайте рекомендации для всех пользователей, сохраните и запрашивайте их **(6 баллов)**\n",
    "\n",
    "### Хороший pull request - это:\n",
    "- наличие описания (в идеале что сделано - по пунктам)\n",
    "- код по стандарту PEP8\n",
    "- легкая читаемость и воспроизводимость кода\n",
    "- комментарии и объяснения. В ipynb пользуйтесь силой маркдауна. В скриптах пишите комментарии и докстринг.\n",
    "- обоснование схемы валидации\n",
    "- анализ метрики качества"
   ]
  },
  {
   "cell_type": "code",
   "execution_count": 87,
   "metadata": {},
   "outputs": [],
   "source": [
    "import annoy\n",
    "import nmslib"
   ]
  },
  {
   "attachments": {
    "image.png": {
     "image/png": "[encoded data removed]"
    }
   },
   "cell_type": "markdown",
   "metadata": {},
   "source": [
    "#### Картинка зависимости точности от скорости работы разных алгоритмов\n",
    "Логичнее всего использовать nmslib\n",
    "![image.png](attachment:image.png)"
   ]
  },
  {
   "cell_type": "code",
   "execution_count": 88,
   "metadata": {},
   "outputs": [
    {
     "name": "stderr",
     "output_type": "stream",
     "text": [
      "\n",
      "0%   10   20   30   40   50   60   70   80   90   100%\n",
      "|----|----|----|----|----|----|----|----|----|----|\n",
      "***************************************************\n",
      "\n",
      "0%   10   20   30   40   50   60   70   80   90   100%\n",
      "|----|----|----|----|----|----|----|----|----|----|\n",
      "***************************************************"
     ]
    }
   ],
   "source": [
    "import nmslib\n",
    "import numpy\n",
    "\n",
    "# create a random matrix to index\n",
    "data = numpy.random.randn(10000, 100).astype(numpy.float32)\n",
    "\n",
    "# initialize a new index, using a HNSW index on Cosine Similarity\n",
    "index = nmslib.init(method='hnsw', space='cosinesimil')\n",
    "index.addDataPointBatch(data)\n",
    "index.createIndex({'post': 2}, print_progress=True)\n",
    "\n",
    "# query for the nearest neighbours of the first datapoint\n",
    "ids, distances = index.knnQuery(data[0], k=10)\n",
    "\n",
    "# get all nearest neighbours for all the datapoint\n",
    "# using a pool of 4 threads to compute\n",
    "neighbours = index.knnQueryBatch(data, k=10, num_threads=8)"
   ]
  },
  {
   "cell_type": "code",
   "execution_count": 89,
   "metadata": {},
   "outputs": [
    {
     "name": "stdout",
     "output_type": "stream",
     "text": [
      "CPU times: user 510 ms, sys: 0 ns, total: 510 ms\n",
      "Wall time: 77.5 ms\n"
     ]
    }
   ],
   "source": [
    "%%time\n",
    "\n",
    "neighbours = index.knnQueryBatch(data, k=10, num_threads=8)"
   ]
  },
  {
   "cell_type": "code",
   "execution_count": null,
   "metadata": {},
   "outputs": [],
   "source": [
    "class AnnRecommender():\n",
    "    def __init__(self, user_features, item_features, embedder: ImplicitALSWrapperModel | LightFMWrapperModel, n_recos: int = 10):\n",
    "        # self.user_features = user_features\n",
    "        # self.item_features = item_features\n",
    "        self.embedder = embedder\n",
    "        self.n_recos = n_recos\n",
    "        \n",
    "        self.user_id_map\n",
    "        \n",
    "    def fit(self, dataset: Dataset):\n",
    "        self.embedder.fit(dataset)\n",
    "        \n",
    "        self.user_id_map = dataset.user_id_map\n",
    "        self.item_id_map = dataset.item_id_map\n",
    "        \n",
    "        if type(self.embedder) == ImplicitALSWrapperModel:\n",
    "            self.user_embeddings, self.item_embeddings = models['ALS_32_True'].get_vectors()\n",
    "        else:\n",
    "            self.user_embeddings, self.item_embeddings = models['ALS_32_True'].get_vectors(dataset)\n",
    "        \n",
    "        \n",
    "        pass\n",
    "    \n",
    "    def recommend(self, ids, n_recos):\n",
    "        if k_recos is None:\n",
    "            k_recos = self.n_recos\n",
    "    \n",
    "    def recommend_single(self, id, n_recos=None):\n",
    "        if k_recos is None:\n",
    "            k_recos = self.n_recos\n",
    "        \n",
    "        pass"
   ]
  },
  {
   "cell_type": "code",
   "execution_count": 107,
   "metadata": {},
   "outputs": [
    {
     "data": {
      "text/plain": [
       "{'popular': <rectools.models.popular.PopularModel at 0x7ff964dfb7f0>,\n",
       " 'ALS_32_True': <rectools.models.implicit_als.ImplicitALSWrapperModel at 0x7ff96842a530>,\n",
       " 'ALS_32_False': <rectools.models.implicit_als.ImplicitALSWrapperModel at 0x7ff964df94b0>,\n",
       " 'LightFM_logistic_32': <rectools.models.lightfm.LightFMWrapperModel at 0x7ff964dfa860>,\n",
       " 'LightFM_bpr_32': <rectools.models.lightfm.LightFMWrapperModel at 0x7ff964dfbd60>,\n",
       " 'LightFM_warp_32': <rectools.models.lightfm.LightFMWrapperModel at 0x7ff964dfaaa0>}"
      ]
     },
     "execution_count": 107,
     "metadata": {},
     "output_type": "execute_result"
    }
   ],
   "source": [
    "models"
   ]
  },
  {
   "cell_type": "code",
   "execution_count": null,
   "metadata": {},
   "outputs": [],
   "source": [
    "implicit_models = {\n",
    "    'ALS': AlternatingLeastSquares,\n",
    "}\n",
    "for implicit_name, implicit_model in implicit_models.items():\n",
    "    for is_fitting_features in (True, False):\n",
    "        for n_factors in N_FACTORS:\n",
    "            models[f\"{implicit_name}_{n_factors}_{is_fitting_features}\"] = (\n",
    "                ImplicitALSWrapperModel(\n",
    "                    model=implicit_model(\n",
    "                        factors=n_factors, \n",
    "                        random_state=RANDOM_STATE, \n",
    "                        num_threads=NUM_THREADS,\n",
    "                    ),\n",
    "                    fit_features_together=is_fitting_features,\n",
    "                )\n",
    "            )\n",
    "\n",
    "\n",
    "lightfm_losses = ('logistic', 'bpr', 'warp')\n",
    "\n",
    "for loss in lightfm_losses:\n",
    "    for n_factors in N_FACTORS:\n",
    "        models[f\"LightFM_{loss}_{n_factors}\"] = LightFMWrapperModel(\n",
    "            LightFM(\n",
    "                no_components=n_factors, \n",
    "                loss=loss, \n",
    "                random_state=RANDOM_STATE,\n",
    "                learning_rate=LEARNING_RATE,\n",
    "                user_alpha=USER_ALPHA,\n",
    "                item_alpha=ITEM_ALPHA,\n",
    "            ),\n",
    "            epochs=N_EPOCHS,\n",
    "            num_threads=NUM_THREADS,\n",
    "        )\n",
    "\n",
    "\n",
    "%%time\n",
    "results = []\n",
    "for model_name, model in models.items():\n",
    "    print(f\"Fitting model {model_name}...\")\n",
    "    model_quality = {'model': model_name}\n",
    "\n",
    "    model.fit(dataset)\n",
    "    recos = model.recommend(\n",
    "        users=TEST_USERS,\n",
    "        dataset=dataset,\n",
    "        k=K_RECOS,\n",
    "        filter_viewed=True,\n",
    "    )\n",
    "    metric_values = calc_metrics(metrics, recos, test, train)\n",
    "    model_quality.update(metric_values)\n",
    "    results.append(model_quality)"
   ]
  },
  {
   "cell_type": "code",
   "execution_count": null,
   "metadata": {},
   "outputs": [],
   "source": [
    "user_features\n",
    "dataset.user_id_map.convert_to_external"
   ]
  },
  {
   "cell_type": "markdown",
   "metadata": {},
   "source": [
    "----"
   ]
  },
  {
   "cell_type": "code",
   "execution_count": null,
   "metadata": {},
   "outputs": [],
   "source": [
    "import optuna\n",
    "\n",
    "def objective(trial):\n",
    "    x = trial.suggest_float('x', -10, 10)\n",
    "    return (x - 2) ** 2\n",
    "\n",
    "study = optuna.create_study()\n",
    "study.optimize(objective, n_trials=100)\n",
    "\n",
    "study.best_params  # E.g. {'x': 2.002108042}"
   ]
  },
  {
   "cell_type": "code",
   "execution_count": 167,
   "metadata": {},
   "outputs": [],
   "source": [
    "from typing import Literal \n",
    "\n",
    "def transform_embeddings(embeddings, embedd_type: Literal['items', 'users']):\n",
    "    if embedd_type == 'items':\n",
    "        normed_embeddings = np.linalg.norm(embeddings, axis=1)\n",
    "        max_norm = normed_embeddings.max()\n",
    "        extra_dim = np.sqrt(max_norm ** 2 - normed_embeddings ** 2).reshape(-1, 1)\n",
    "    else:\n",
    "        extra_dim = np.zeros((user_embeddings.shape[0], 1))\n",
    "\n",
    "    augmented_factors = np.append(embeddings, extra_dim, axis=1)\n",
    "    return augmented_factors\n",
    "\n",
    "\n",
    "class HNSWrapper():\n",
    "    def __init__(self, dim_size, n_neighbours=10, **params_dict) -> None:\n",
    "        # space_type: Literal['l2', 'cosine', 'ip']='l2'\n",
    "        # M:int=48,\n",
    "        self.M = params_dict['M']\n",
    "        self.efc = params_dict['efConstruction']\n",
    "        space_type = params_dict['space_type']\n",
    "        self.n_neighbours = n_neighbours\n",
    "        self.hnsw = hnswlib.Index(space_type, dim_size)\n",
    "        \n",
    "        \n",
    "    def fit(self, vectors):\n",
    "        self.hnsw.init_index(len(vectors), self.M, self.efc)\n",
    "        self.hnsw.add_items(vectors)\n",
    "        self.hnsw.set_ef(efS)\n",
    "    \n",
    "    def predict(self, vector): \n",
    "        label, distance = self.hnsw.knn_query(vector, k=self.n_neighbours, num_threads=8)\n",
    "        return list(label[0])\n",
    "\n",
    "class AnnoyWrapper():\n",
    "    def __init__(self, dim_size, n_neighbours=10, **params_dict) -> None:\n",
    "        # metric='angular', n_trees=10\n",
    "        metric = params_dict['metric']\n",
    "        self.n_trees = params_dict['n_trees']\n",
    "        \n",
    "        self.index = AnnoyIndex(dim_size, metric)\n",
    "        self.n_neighbours = n_neighbours\n",
    "    \n",
    "    def fit(self, vectors):\n",
    "        for i in range(len(vectors)):\n",
    "            self.index.add_item(i, vectors[i])\n",
    "        self.index.build(self.n_trees)\n",
    "    \n",
    "    def predict(self, vector):\n",
    "        return(self.index.get_nns_by_vector(vector, self.n_neighbours))\n",
    "\n",
    "class NMSLIBWrapper():\n",
    "    def __init__(self, dim_size, n_neighbours=10, **params_dict) -> None:\n",
    "        # self.params_dict = {'M':48, 'efc':90}\n",
    "        self.n_neighbours = n_neighbours\n",
    "        self.params_dict = params_dict\n",
    "        self.params_dict.update({'indexThreadQty':8})\n",
    "        self.index = nmslib.init(method='hnsw', space='negdotprod', data_type=nmslib.DataType.DENSE_VECTOR)  \n",
    "        \n",
    "    def fit(self, vectors):\n",
    "        self.index.addDataPointBatch(vectors)\n",
    "        self.index.createIndex(self.params_dict, print_progress=False) \n",
    "        \n",
    "\n",
    "    def predict(self, vector):\n",
    "        ids, distances = self.index.knnQuery(vector, k=self.n_neighbours)\n",
    "        return list(ids)\n",
    "    \n",
    "    pass\n",
    "\n",
    "index_time_params = {'M': M, 'indexThreadQty': num_threads, 'efConstruction': efC}\n",
    "index.createIndex(index_time_params)"
   ]
  },
  {
   "cell_type": "code",
   "execution_count": 128,
   "metadata": {},
   "outputs": [
    {
     "data": {
      "text/plain": [
       "(756562, 35)"
      ]
     },
     "execution_count": 128,
     "metadata": {},
     "output_type": "execute_result"
    }
   ],
   "source": [
    "length, dim_size = augmented_item_embeddings.shape\n",
    "augmented_user_embeddings.shape"
   ]
  },
  {
   "cell_type": "code",
   "execution_count": 168,
   "metadata": {},
   "outputs": [
    {
     "data": {
      "text/plain": [
       "[43, 32, 62, 19, 8, 36, 347, 69, 528, 305]"
      ]
     },
     "execution_count": 168,
     "metadata": {},
     "output_type": "execute_result"
    }
   ],
   "source": [
    "params = {\n",
    "    'space_type': 'l2',\n",
    "    'M': 48,\n",
    "    'efConstruction': 60,   \n",
    "}\n",
    "hnsw = HNSWrapper(dim_size, n_neighbours=10, **params)\n",
    "hnsw.fit(augmented_item_embeddings)\n",
    "hnsw.predict(augmented_user_embeddings[0])"
   ]
  },
  {
   "cell_type": "code",
   "execution_count": 169,
   "metadata": {},
   "outputs": [
    {
     "data": {
      "text/plain": [
       "[43, 32, 62, 19, 8, 347, 188, 206, 112, 100]"
      ]
     },
     "execution_count": 169,
     "metadata": {},
     "output_type": "execute_result"
    }
   ],
   "source": [
    "params = {\n",
    "    'metric': 'angular',\n",
    "    'n_trees': 10 \n",
    "}\n",
    "\n",
    "ann = AnnoyWrapper(dim_size, n_neighbours=10, **params)\n",
    "ann.fit(augmented_item_embeddings)\n",
    "ann.predict(augmented_user_embeddings[0])"
   ]
  },
  {
   "cell_type": "code",
   "execution_count": 170,
   "metadata": {},
   "outputs": [
    {
     "data": {
      "text/plain": [
       "[43, 32, 62, 19, 8, 36, 347, 69, 528, 305]"
      ]
     },
     "execution_count": 170,
     "metadata": {},
     "output_type": "execute_result"
    }
   ],
   "source": [
    "params = {\n",
    "    'M':48,\n",
    "    'efConstruction':60\n",
    "}\n",
    "\n",
    "nms = NMSLIBWrapper(dim_size, n_neighbours=10, **params)\n",
    "nms.fit(augmented_item_embeddings)\n",
    "nms.predict(augmented_user_embeddings[0])"
   ]
  }
 ],
 "metadata": {
  "kernelspec": {
   "display_name": ".venv",
   "language": "python",
   "name": "python3"
  },
  "language_info": {
   "codemirror_mode": {
    "name": "ipython",
    "version": 3
   },
   "file_extension": ".py",
   "mimetype": "text/x-python",
   "name": "python",
   "nbconvert_exporter": "python",
   "pygments_lexer": "ipython3",
   "version": "3.10.12"
  },
  "widgets": {
   "application/vnd.jupyter.widget-state+json": {
    "state": {},
    "version_major": 2,
    "version_minor": 0
   }
  }
 },
 "nbformat": 4,
 "nbformat_minor": 4
}
