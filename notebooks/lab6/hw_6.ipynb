{
  "cells": [
    {
      "cell_type": "code",
      "execution_count": 1,
      "metadata": {},
      "outputs": [],
      "source": [
        "!pip install lightgbm"
      ]
    },
    {
      "cell_type": "code",
      "execution_count": 2,
      "metadata": {},
      "outputs": [],
      "source": [
        "import pickle\n",
        "from typing import Any, Dict, Tuple\n",
        "\n",
        "import pandas as pd\n",
        "import numpy as np\n",
        "\n",
        "from tqdm.auto import tqdm\n",
        "\n",
        "from rectools.models import LightFMWrapperModel\n",
        "from lightfm import LightFM\n",
        "\n",
        "from sklearn.model_selection import train_test_split\n",
        "from sklearn.metrics import roc_auc_score\n",
        "\n",
        "from lightgbm import LGBMRanker\n",
        "from rectools import Columns\n",
        "from lightfm.data import Dataset\n",
        "from rectools.dataset import Interactions\n",
        "from rectools.model_selection import TimeRangeSplitter\n",
        "from rectools.metrics import MAP, NDCG, Precision, Recall, MeanInvUserFreq, Serendipity, calc_metrics\n",
        "from rectools.tools.ann import UserToItemAnnRecommender\n",
        "\n",
        "RANDOM_STATE = 1337"
      ]
    },
    {
      "cell_type": "markdown",
      "metadata": {
        "id": "n-ltq4PaFbKL"
      },
      "source": [
        "Загрузка данных"
      ]
    },
    {
      "cell_type": "code",
      "execution_count": 3,
      "metadata": {
        "id": "dUxX69HafiXV"
      },
      "outputs": [],
      "source": [
        "DATA_DIR_PATH = '/mnt/88fdd009-dda3-49d8-9888-cfd9d9d5910a/ITMO/RecomendationsService/DATA'\n",
        "\n",
        "interactions = pd.read_csv(f'{DATA_DIR_PATH}/interactions.csv')\n",
        "\n",
        "# interactions = pd.read_csv('data_original/interactions.csv')\n",
        "users = pd.read_csv(f'{DATA_DIR_PATH}/users.csv')\n",
        "items = pd.read_csv(f'{DATA_DIR_PATH}/items.csv')"
      ]
    },
    {
      "cell_type": "code",
      "execution_count": 4,
      "metadata": {
        "colab": {
          "base_uri": "https://localhost:8080/",
          "height": 400
        },
        "id": "1djf5zkw15zK",
        "outputId": "3012af54-241b-46f1-d7d4-e46bbbbcaf0a"
      },
      "outputs": [
        {
          "name": "stderr",
          "output_type": "stream",
          "text": [
            "/tmp/ipykernel_7275/1052631975.py:18: DeprecationWarning: In a future version, `df.iloc[:, i] = newvals` will attempt to set the values inplace instead of always setting a new array. To retain the old behavior, use either `df[df.columns[i]] = newvals` or, if columns are non-unique, `df.isetitem(i, newvals)`\n",
            "  interactions.fillna(interactions_default_values, inplace=True)\n"
          ]
        },
        {
          "data": {
            "text/html": [
              "<div>\n",
              "<style scoped>\n",
              "    .dataframe tbody tr th:only-of-type {\n",
              "        vertical-align: middle;\n",
              "    }\n",
              "\n",
              "    .dataframe tbody tr th {\n",
              "        vertical-align: top;\n",
              "    }\n",
              "\n",
              "    .dataframe thead th {\n",
              "        text-align: right;\n",
              "    }\n",
              "</style>\n",
              "<table border=\"1\" class=\"dataframe\">\n",
              "  <thead>\n",
              "    <tr style=\"text-align: right;\">\n",
              "      <th></th>\n",
              "      <th>user_id</th>\n",
              "      <th>item_id</th>\n",
              "      <th>datetime</th>\n",
              "      <th>total_dur</th>\n",
              "      <th>weight</th>\n",
              "    </tr>\n",
              "  </thead>\n",
              "  <tbody>\n",
              "    <tr>\n",
              "      <th>0</th>\n",
              "      <td>176549</td>\n",
              "      <td>9506</td>\n",
              "      <td>2021-05-11</td>\n",
              "      <td>4250</td>\n",
              "      <td>72.0</td>\n",
              "    </tr>\n",
              "    <tr>\n",
              "      <th>1</th>\n",
              "      <td>699317</td>\n",
              "      <td>1659</td>\n",
              "      <td>2021-05-29</td>\n",
              "      <td>8317</td>\n",
              "      <td>100.0</td>\n",
              "    </tr>\n",
              "    <tr>\n",
              "      <th>2</th>\n",
              "      <td>656683</td>\n",
              "      <td>7107</td>\n",
              "      <td>2021-05-09</td>\n",
              "      <td>10</td>\n",
              "      <td>0.0</td>\n",
              "    </tr>\n",
              "    <tr>\n",
              "      <th>3</th>\n",
              "      <td>864613</td>\n",
              "      <td>7638</td>\n",
              "      <td>2021-07-05</td>\n",
              "      <td>14483</td>\n",
              "      <td>100.0</td>\n",
              "    </tr>\n",
              "    <tr>\n",
              "      <th>4</th>\n",
              "      <td>964868</td>\n",
              "      <td>9506</td>\n",
              "      <td>2021-04-30</td>\n",
              "      <td>6725</td>\n",
              "      <td>100.0</td>\n",
              "    </tr>\n",
              "    <tr>\n",
              "      <th>5</th>\n",
              "      <td>1032142</td>\n",
              "      <td>6686</td>\n",
              "      <td>2021-05-13</td>\n",
              "      <td>11286</td>\n",
              "      <td>100.0</td>\n",
              "    </tr>\n",
              "    <tr>\n",
              "      <th>6</th>\n",
              "      <td>1016458</td>\n",
              "      <td>354</td>\n",
              "      <td>2021-08-14</td>\n",
              "      <td>1672</td>\n",
              "      <td>25.0</td>\n",
              "    </tr>\n",
              "    <tr>\n",
              "      <th>7</th>\n",
              "      <td>884009</td>\n",
              "      <td>693</td>\n",
              "      <td>2021-08-04</td>\n",
              "      <td>703</td>\n",
              "      <td>14.0</td>\n",
              "    </tr>\n",
              "    <tr>\n",
              "      <th>8</th>\n",
              "      <td>648682</td>\n",
              "      <td>1449</td>\n",
              "      <td>2021-06-13</td>\n",
              "      <td>26246</td>\n",
              "      <td>75.0</td>\n",
              "    </tr>\n",
              "    <tr>\n",
              "      <th>9</th>\n",
              "      <td>203219</td>\n",
              "      <td>13582</td>\n",
              "      <td>2021-08-22</td>\n",
              "      <td>6975</td>\n",
              "      <td>100.0</td>\n",
              "    </tr>\n",
              "  </tbody>\n",
              "</table>\n",
              "</div>"
            ],
            "text/plain": [
              "   user_id  item_id   datetime  total_dur  weight\n",
              "0   176549     9506 2021-05-11       4250    72.0\n",
              "1   699317     1659 2021-05-29       8317   100.0\n",
              "2   656683     7107 2021-05-09         10     0.0\n",
              "3   864613     7638 2021-07-05      14483   100.0\n",
              "4   964868     9506 2021-04-30       6725   100.0\n",
              "5  1032142     6686 2021-05-13      11286   100.0\n",
              "6  1016458      354 2021-08-14       1672    25.0\n",
              "7   884009      693 2021-08-04        703    14.0\n",
              "8   648682     1449 2021-06-13      26246    75.0\n",
              "9   203219    13582 2021-08-22       6975   100.0"
            ]
          },
          "execution_count": 4,
          "metadata": {},
          "output_type": "execute_result"
        }
      ],
      "source": [
        "# Меняем названия колонок для использования rectools\n",
        "interactions.rename(\n",
        "    columns={\n",
        "        'last_watch_dt': Columns.Datetime,\n",
        "        'watched_pct': Columns.Weight,\n",
        "    },\n",
        "    inplace=True,\n",
        ")\n",
        "# Меняем тип данных\n",
        "interactions['datetime'] = interactions['datetime'].astype(np.datetime64)\n",
        "\n",
        "# Заполняем пропуски\n",
        "interactions_default_values: Dict[str, Any] = {\n",
        "   Columns.Datetime: interactions[Columns.Datetime].median(),\n",
        "    Columns.Weight: 0.,\n",
        "    'total_dur': 0,\n",
        "}\n",
        "interactions.fillna(interactions_default_values, inplace=True)\n",
        "\n",
        "# Смотрим что получилось\n",
        "interactions.head(10)"
      ]
    },
    {
      "cell_type": "code",
      "execution_count": 5,
      "metadata": {
        "colab": {
          "base_uri": "https://localhost:8080/"
        },
        "id": "f4QolCdP1jDe",
        "outputId": "a06c8a5a-824d-4f85-ecba-ddd24c78d7c2"
      },
      "outputs": [
        {
          "name": "stdout",
          "output_type": "stream",
          "text": [
            "min дата в interactions: 2021-03-13 00:00:00\n",
            "max дата в interactions: 2021-08-22 00:00:00\n",
            "Продолжительность: 162 days 00:00:00\n"
          ]
        }
      ],
      "source": [
        "max_date = interactions[Columns.Datetime].max()\n",
        "min_date = interactions[Columns.Datetime].min()\n",
        "\n",
        "print(f'min дата в interactions: {min_date}')\n",
        "print(f'max дата в interactions: {max_date}')\n",
        "print(f'Продолжительность: {max_date - min_date}')"
      ]
    },
    {
      "cell_type": "markdown",
      "metadata": {
        "id": "CkZY1UcKFgUa"
      },
      "source": [
        "Разобьем данные на трейн, тест и валидацию"
      ]
    },
    {
      "cell_type": "code",
      "execution_count": 6,
      "metadata": {
        "id": "NXmU_feBGmt2"
      },
      "outputs": [],
      "source": [
        "ranker_days_count = 30\n",
        "\n",
        "ranker_data = interactions[\n",
        "    (interactions[Columns.Datetime] >= max_date - pd.Timedelta(days=7))\n",
        "]\n",
        "\n",
        "train_size = 0.7\n",
        "val_size = 0.15\n",
        "test_size = 0.15\n",
        "\n",
        "\n",
        "train_val_users, test_users = train_test_split(\n",
        "    ranker_data['user_id'].unique(), random_state=RANDOM_STATE, test_size=test_size\n",
        ")\n",
        "\n",
        "train_users, val_users = train_test_split(\n",
        "    train_val_users, random_state=RANDOM_STATE, test_size=val_size / (train_size + val_size)  # 15% от общего размера\n",
        ")"
      ]
    },
    {
      "cell_type": "code",
      "execution_count": 7,
      "metadata": {
        "colab": {
          "base_uri": "https://localhost:8080/"
        },
        "id": "VR1nzIAbGIcP",
        "outputId": "92ad7ad0-ec4d-41ea-84d8-9b0169adaae9"
      },
      "outputs": [
        {
          "data": {
            "text/plain": [
              "(Index(['income_0_20', 'income_150_inf', 'income_20_40', 'income_40_60',\n",
              "        'income_60_90', 'income_90_150'],\n",
              "       dtype='object'),\n",
              " [4, 2, 3, 0, -1, 5, 1]\n",
              " Categories (7, int64): [-1, 0, 1, 2, 3, 4, 5])"
            ]
          },
          "execution_count": 7,
          "metadata": {},
          "output_type": "execute_result"
        }
      ],
      "source": [
        "def encode_cat_cols(df: pd.DataFrame, cat_cols) -> Tuple[pd.DataFrame, Dict]:\n",
        "    cat_col_encoding = {}  # словарь с категориями\n",
        "\n",
        "    for col in cat_cols:\n",
        "        cat_col = df[col].astype('category').cat\n",
        "        cat_col_encoding[col] = cat_col.categories\n",
        "        df[col] = cat_col.codes.astype('category')\n",
        "    return df, cat_col_encoding\n",
        "\n",
        "users_cat_cols = [\n",
        "    # 'user_id',\n",
        "     'age', 'income', 'sex', 'kids_flg'\n",
        "]\n",
        "users, users_cat_col_encoding = encode_cat_cols(users, users_cat_cols)\n",
        "\n",
        "# None уже кодируется как -1\n",
        "users_cat_col_encoding['income'], users['income'].unique()"
      ]
    },
    {
      "cell_type": "code",
      "execution_count": 8,
      "metadata": {
        "id": "edysB7YBGn5w"
      },
      "outputs": [],
      "source": [
        "base_models_data = interactions[\n",
        "    (interactions[Columns.Datetime] < max_date - pd.Timedelta(days=ranker_days_count))\n",
        "]"
      ]
    },
    {
      "cell_type": "code",
      "execution_count": 9,
      "metadata": {
        "id": "ZjGU7bsudAlV"
      },
      "outputs": [],
      "source": [
        "base_users = base_models_data[Columns.User].unique()\n",
        "base_items = base_models_data[Columns.Item].unique()"
      ]
    },
    {
      "cell_type": "code",
      "execution_count": 10,
      "metadata": {
        "id": "TYaY8b5O90I1"
      },
      "outputs": [],
      "source": [
        "lightfm_dataset = Dataset()\n",
        "lightfm_user_ids = base_models_data['user_id'].unique()\n",
        "lightfm_item_ids = base_models_data['item_id'].unique()\n",
        "lightfm_dataset.fit(lightfm_user_ids, lightfm_item_ids)"
      ]
    },
    {
      "cell_type": "code",
      "execution_count": null,
      "metadata": {
        "id": "5dmEwyipeusZ"
      },
      "outputs": [],
      "source": [
        "# так как обучаем модель первого уровнять, то пока без фичей\n",
        "dataset = Dataset.construct(\n",
        "    interactions_df=base_models_data,\n",
        "    user_features_df=None,\n",
        "    item_features_df=None,\n",
        ")"
      ]
    },
    {
      "cell_type": "code",
      "execution_count": 13,
      "metadata": {
        "id": "qbtrcGdK92wY"
      },
      "outputs": [],
      "source": [
        "interactions_matrix, weights_matrix = lightfm_dataset.build_interactions(\n",
        "    zip(*base_models_data[['user_id', 'item_id', Columns.Weight]].values.T)\n",
        ")\n",
        "weights_matrix = weights_matrix.tocsr()"
      ]
    },
    {
      "cell_type": "markdown",
      "metadata": {
        "id": "qwIyMjFwGu91"
      },
      "source": [
        "Теперь обучим модель первого уровня"
      ]
    },
    {
      "cell_type": "code",
      "execution_count": 14,
      "metadata": {
        "id": "UFEPsMLcGpO5"
      },
      "outputs": [],
      "source": [
        "K_RECOS = 10\n",
        "RANDOM_STATE = 1337\n",
        "NUM_THREADS = 16\n",
        "N_FACTORS = 32\n",
        "N_EPOCHS = 20\n",
        "USER_ALPHA = 0\n",
        "ITEM_ALPHA = 0\n",
        "LEARNING_RATE = 0.05"
      ]
    },
    {
      "cell_type": "code",
      "execution_count": 15,
      "metadata": {
        "colab": {
          "base_uri": "https://localhost:8080/"
        },
        "id": "v7wKqDnn2i86",
        "outputId": "8e5451e7-5642-47e9-ea94-3b2b7bf2192e"
      },
      "outputs": [
        {
          "data": {
            "text/plain": [
              "<rectools.models.lightfm.LightFMWrapperModel at 0x7f7b5d1446d0>"
            ]
          },
          "execution_count": 15,
          "metadata": {},
          "output_type": "execute_result"
        }
      ],
      "source": [
        "# обучим модель и сохраним её\n",
        "inner_model = LightFM(\n",
        "    no_components=N_FACTORS,\n",
        "    loss='warp',\n",
        "    random_state=RANDOM_STATE,\n",
        "    learning_rate=0.055\n",
        ")\n",
        "\n",
        "lightFM_model = LightFMWrapperModel(\n",
        "    inner_model,\n",
        "    epochs=N_EPOCHS,\n",
        "    num_threads=NUM_THREADS,\n",
        ")\n",
        "\n",
        "lightFM_model.fit(dataset)\n",
        "\n",
        "with open(\"lightFM_model.pkl\", \"wb\") as file:\n",
        "    pickle.dump(lightFM_model, file)"
      ]
    },
    {
      "cell_type": "code",
      "execution_count": 17,
      "metadata": {
        "id": "r8xz27C4P5-6"
      },
      "outputs": [],
      "source": [
        "# генерируем кандидатов для модели второго уровня\n",
        "candidates = lightFM_model.recommend(users=base_users, dataset=dataset, k=100, filter_viewed=False)\n",
        "candidates.to_csv('candidates.csv', index=False)"
      ]
    },
    {
      "cell_type": "code",
      "execution_count": 3,
      "metadata": {
        "colab": {
          "base_uri": "https://localhost:8080/",
          "height": 363
        },
        "id": "CYdb9y1tXJAS",
        "outputId": "ecc3fee7-7a9e-46ca-d65d-9f6eb652684f"
      },
      "outputs": [
        {
          "data": {
            "text/html": [
              "<div>\n",
              "<style scoped>\n",
              "    .dataframe tbody tr th:only-of-type {\n",
              "        vertical-align: middle;\n",
              "    }\n",
              "\n",
              "    .dataframe tbody tr th {\n",
              "        vertical-align: top;\n",
              "    }\n",
              "\n",
              "    .dataframe thead th {\n",
              "        text-align: right;\n",
              "    }\n",
              "</style>\n",
              "<table border=\"1\" class=\"dataframe\">\n",
              "  <thead>\n",
              "    <tr style=\"text-align: right;\">\n",
              "      <th></th>\n",
              "      <th>user_id</th>\n",
              "      <th>item_id</th>\n",
              "      <th>score</th>\n",
              "      <th>rank</th>\n",
              "    </tr>\n",
              "  </thead>\n",
              "  <tbody>\n",
              "    <tr>\n",
              "      <th>0</th>\n",
              "      <td>176549</td>\n",
              "      <td>13018</td>\n",
              "      <td>3.455198</td>\n",
              "      <td>1</td>\n",
              "    </tr>\n",
              "    <tr>\n",
              "      <th>1</th>\n",
              "      <td>176549</td>\n",
              "      <td>5693</td>\n",
              "      <td>3.211725</td>\n",
              "      <td>2</td>\n",
              "    </tr>\n",
              "    <tr>\n",
              "      <th>2</th>\n",
              "      <td>176549</td>\n",
              "      <td>7571</td>\n",
              "      <td>3.162938</td>\n",
              "      <td>3</td>\n",
              "    </tr>\n",
              "    <tr>\n",
              "      <th>3</th>\n",
              "      <td>176549</td>\n",
              "      <td>9728</td>\n",
              "      <td>3.113396</td>\n",
              "      <td>4</td>\n",
              "    </tr>\n",
              "    <tr>\n",
              "      <th>4</th>\n",
              "      <td>176549</td>\n",
              "      <td>1785</td>\n",
              "      <td>3.091236</td>\n",
              "      <td>5</td>\n",
              "    </tr>\n",
              "    <tr>\n",
              "      <th>5</th>\n",
              "      <td>176549</td>\n",
              "      <td>16166</td>\n",
              "      <td>3.073796</td>\n",
              "      <td>6</td>\n",
              "    </tr>\n",
              "    <tr>\n",
              "      <th>6</th>\n",
              "      <td>176549</td>\n",
              "      <td>11310</td>\n",
              "      <td>3.025889</td>\n",
              "      <td>7</td>\n",
              "    </tr>\n",
              "    <tr>\n",
              "      <th>7</th>\n",
              "      <td>176549</td>\n",
              "      <td>7626</td>\n",
              "      <td>3.023241</td>\n",
              "      <td>8</td>\n",
              "    </tr>\n",
              "    <tr>\n",
              "      <th>8</th>\n",
              "      <td>176549</td>\n",
              "      <td>14317</td>\n",
              "      <td>3.005028</td>\n",
              "      <td>9</td>\n",
              "    </tr>\n",
              "    <tr>\n",
              "      <th>9</th>\n",
              "      <td>176549</td>\n",
              "      <td>101</td>\n",
              "      <td>2.958446</td>\n",
              "      <td>10</td>\n",
              "    </tr>\n",
              "  </tbody>\n",
              "</table>\n",
              "</div>"
            ],
            "text/plain": [
              "   user_id  item_id     score  rank\n",
              "0   176549    13018  3.455198     1\n",
              "1   176549     5693  3.211725     2\n",
              "2   176549     7571  3.162938     3\n",
              "3   176549     9728  3.113396     4\n",
              "4   176549     1785  3.091236     5\n",
              "5   176549    16166  3.073796     6\n",
              "6   176549    11310  3.025889     7\n",
              "7   176549     7626  3.023241     8\n",
              "8   176549    14317  3.005028     9\n",
              "9   176549      101  2.958446    10"
            ]
          },
          "execution_count": 3,
          "metadata": {},
          "output_type": "execute_result"
        }
      ],
      "source": [
        "candidates.head(10)"
      ]
    },
    {
      "cell_type": "markdown",
      "metadata": {
        "id": "VVRB9DC26XUr"
      },
      "source": [
        "Раcчёт метрик"
      ]
    },
    {
      "cell_type": "code",
      "execution_count": 15,
      "metadata": {
        "colab": {
          "base_uri": "https://localhost:8080/"
        },
        "id": "KLosEPY64-Om",
        "outputId": "aa3875ca-97f7-4edc-d2df-ff7ea789a097"
      },
      "outputs": [
        {
          "data": {
            "text/plain": [
              "{'Precision@10': 0.010847348226772332,\n",
              " 'recall@10': 0.05638727084314944,\n",
              " 'ndcg@10': 0.0128050773985203,\n",
              " 'map@10': 0.023853619465689823,\n",
              " 'novelty@10': 3.546669798241356}"
            ]
          },
          "execution_count": 15,
          "metadata": {},
          "output_type": "execute_result"
        }
      ],
      "source": [
        "# Считаем метрики\n",
        "def calc_metrics_(candidates_df, rank_col: str) -> Dict[str, float]:\n",
        "    metrics = {\n",
        "        'ndcg@10': NDCG(k = 10),\n",
        "        'map@10': MAP(k = 10),\n",
        "        'Precision@10': Precision(k = 10),\n",
        "        'recall@10': Recall(k = 10),\n",
        "        'novelty@10': MeanInvUserFreq(k = 10),\n",
        "    }\n",
        "    return calc_metrics(\n",
        "        metrics=metrics,\n",
        "        reco=(\n",
        "            candidates_df\n",
        "            .rename(columns={rank_col: Columns.Rank})\n",
        "            [[Columns.User, Columns.Item, Columns.Rank]]\n",
        "            [candidates_df[Columns.User].isin(test_users)]\n",
        "        ),\n",
        "        interactions=(\n",
        "            ranker_data\n",
        "            [[Columns.User, Columns.Item, Columns.Datetime, Columns.Weight]]\n",
        "            [ranker_data[Columns.User].isin(test_users)]\n",
        "        ),\n",
        "        prev_interactions=(\n",
        "            base_models_data\n",
        "            [[Columns.User, Columns.Item, Columns.Datetime, Columns.Weight]]\n",
        "            [base_models_data[Columns.User].isin(test_users)]\n",
        "        ),\n",
        "        catalog=items['item_id'].unique()\n",
        "    )\n",
        "\n",
        "models_metrics: Dict[str, Dict[str, float]] = dict()\n",
        "models_metrics['lfm'] = calc_metrics_(candidates, 'rank')\n",
        "models_metrics['lfm']"
      ]
    },
    {
      "cell_type": "code",
      "execution_count": 29,
      "metadata": {
        "colab": {
          "base_uri": "https://localhost:8080/",
          "height": 215
        },
        "id": "HOA3eqQ_ZY6_",
        "outputId": "c5250b71-e6a7-4e74-99f1-10dfcf0ed8b7"
      },
      "outputs": [
        {
          "name": "stderr",
          "output_type": "stream",
          "text": [
            "/tmp/ipykernel_1189739/1450462766.py:27: DeprecationWarning: In a future version, `df.iloc[:, i] = newvals` will attempt to set the values inplace instead of always setting a new array. To retain the old behavior, use either `df[df.columns[i]] = newvals` or, if columns are non-unique, `df.isetitem(i, newvals)`\n",
            "  df.fillna(default_values, inplace=True)\n",
            "/tmp/ipykernel_1189739/1450462766.py:27: DeprecationWarning: In a future version, `df.iloc[:, i] = newvals` will attempt to set the values inplace instead of always setting a new array. To retain the old behavior, use either `df[df.columns[i]] = newvals` or, if columns are non-unique, `df.isetitem(i, newvals)`\n",
            "  df.fillna(default_values, inplace=True)\n",
            "/tmp/ipykernel_1189739/1450462766.py:27: DeprecationWarning: In a future version, `df.iloc[:, i] = newvals` will attempt to set the values inplace instead of always setting a new array. To retain the old behavior, use either `df[df.columns[i]] = newvals` or, if columns are non-unique, `df.isetitem(i, newvals)`\n",
            "  df.fillna(default_values, inplace=True)\n"
          ]
        },
        {
          "data": {
            "text/html": [
              "<div>\n",
              "<style scoped>\n",
              "    .dataframe tbody tr th:only-of-type {\n",
              "        vertical-align: middle;\n",
              "    }\n",
              "\n",
              "    .dataframe tbody tr th {\n",
              "        vertical-align: top;\n",
              "    }\n",
              "\n",
              "    .dataframe thead th {\n",
              "        text-align: right;\n",
              "    }\n",
              "</style>\n",
              "<table border=\"1\" class=\"dataframe\">\n",
              "  <thead>\n",
              "    <tr style=\"text-align: right;\">\n",
              "      <th></th>\n",
              "      <th>user_id</th>\n",
              "      <th>item_id</th>\n",
              "      <th>datetime</th>\n",
              "      <th>total_dur</th>\n",
              "      <th>weight</th>\n",
              "      <th>score</th>\n",
              "      <th>rank</th>\n",
              "    </tr>\n",
              "  </thead>\n",
              "  <tbody>\n",
              "    <tr>\n",
              "      <th>2847010</th>\n",
              "      <td>21</td>\n",
              "      <td>24</td>\n",
              "      <td>2021-07-01</td>\n",
              "      <td>0.0</td>\n",
              "      <td>0.0</td>\n",
              "      <td>1.818225</td>\n",
              "      <td>99.0</td>\n",
              "    </tr>\n",
              "    <tr>\n",
              "      <th>2846970</th>\n",
              "      <td>21</td>\n",
              "      <td>101</td>\n",
              "      <td>2021-07-01</td>\n",
              "      <td>0.0</td>\n",
              "      <td>0.0</td>\n",
              "      <td>2.106124</td>\n",
              "      <td>58.0</td>\n",
              "    </tr>\n",
              "    <tr>\n",
              "      <th>2846931</th>\n",
              "      <td>21</td>\n",
              "      <td>142</td>\n",
              "      <td>2021-07-01</td>\n",
              "      <td>0.0</td>\n",
              "      <td>0.0</td>\n",
              "      <td>2.710972</td>\n",
              "      <td>14.0</td>\n",
              "    </tr>\n",
              "    <tr>\n",
              "      <th>2846994</th>\n",
              "      <td>21</td>\n",
              "      <td>366</td>\n",
              "      <td>2021-07-01</td>\n",
              "      <td>0.0</td>\n",
              "      <td>0.0</td>\n",
              "      <td>1.916106</td>\n",
              "      <td>83.0</td>\n",
              "    </tr>\n",
              "    <tr>\n",
              "      <th>2847000</th>\n",
              "      <td>21</td>\n",
              "      <td>416</td>\n",
              "      <td>2021-07-01</td>\n",
              "      <td>0.0</td>\n",
              "      <td>0.0</td>\n",
              "      <td>1.872532</td>\n",
              "      <td>89.0</td>\n",
              "    </tr>\n",
              "  </tbody>\n",
              "</table>\n",
              "</div>"
            ],
            "text/plain": [
              "         user_id  item_id   datetime  total_dur  weight     score  rank\n",
              "2847010       21       24 2021-07-01        0.0     0.0  1.818225  99.0\n",
              "2846970       21      101 2021-07-01        0.0     0.0  2.106124  58.0\n",
              "2846931       21      142 2021-07-01        0.0     0.0  2.710972  14.0\n",
              "2846994       21      366 2021-07-01        0.0     0.0  1.916106  83.0\n",
              "2847000       21      416 2021-07-01        0.0     0.0  1.872532  89.0"
            ]
          },
          "execution_count": 29,
          "metadata": {},
          "output_type": "execute_result"
        }
      ],
      "source": [
        "# Вспоминаем про наши выборки интеракций для ранкера.\n",
        "# Мы отобрали юзеров для обучения, валидации и теста.\n",
        "# Оставляем среди них только тех, для кого есть и рекомы и таргеты\n",
        "\n",
        "def users_filter(\n",
        "    user_list: np.ndarray,\n",
        "    candidates_df: pd.DataFrame,\n",
        "    df: pd.DataFrame,\n",
        ") -> pd.DataFrame:\n",
        "    # Джойним интеракции на наших кандидатов для юзеров из трейна, вал и теста\n",
        "    df = pd.merge(\n",
        "        df[df['user_id'].isin(user_list)],\n",
        "        candidates_df[candidates_df['user_id'].isin(user_list)],\n",
        "        how='outer',  # right ?\n",
        "        on=['user_id', 'item_id']\n",
        "    )\n",
        "    # Проставляем дефолтные значения интеракций\n",
        "    min_score: float =  df['score'].min() - 0.01\n",
        "    max_rank: int = df['rank'].max() + 1  # 101\n",
        "\n",
        "    default_values = {\n",
        "        'lfm_score': min_score, 'rank': max_rank,\n",
        "        # Важно использовате те же дефолтные значения для интеракций,\n",
        "        # чтобы не сделать утечку\n",
        "        **interactions_default_values,\n",
        "    }\n",
        "    df.fillna(default_values, inplace=True)\n",
        "\n",
        "    # Сортируем по user_id - это пригодится для вычисления рангов и групп для ранжирования\n",
        "    df.sort_values(\n",
        "        by=['user_id', 'item_id'],\n",
        "        inplace=True,\n",
        "    )\n",
        "    return df\n",
        "\n",
        "ranker_train = users_filter(train_users, candidates, base_models_data)\n",
        "ranker_val = users_filter(val_users, candidates, base_models_data)\n",
        "ranker_test = users_filter(test_users, candidates, base_models_data)\n",
        "\n",
        "ranker_train.head()"
      ]
    },
    {
      "cell_type": "code",
      "execution_count": 18,
      "metadata": {
        "colab": {
          "base_uri": "https://localhost:8080/",
          "height": 241
        },
        "id": "M2fBXDpj6q50",
        "outputId": "d37becde-a2ac-4a7d-f3e0-89bc0c73a89b"
      },
      "outputs": [
        {
          "name": "stderr",
          "output_type": "stream",
          "text": [
            "/mnt/88fdd009-dda3-49d8-9888-cfd9d9d5910a/ITMO/RecomendationsService/.venv/lib/python3.10/site-packages/rectools/metrics/base.py:58: UserWarning: Expected integer dtype of 'rank' column in 'reco' dataframe.\n",
            "  warnings.warn(f\"Expected integer dtype of '{Columns.Rank}' column in 'reco' dataframe.\")\n",
            "/mnt/88fdd009-dda3-49d8-9888-cfd9d9d5910a/ITMO/RecomendationsService/.venv/lib/python3.10/site-packages/rectools/metrics/base.py:58: UserWarning: Expected integer dtype of 'rank' column in 'reco' dataframe.\n",
            "  warnings.warn(f\"Expected integer dtype of '{Columns.Rank}' column in 'reco' dataframe.\")\n"
          ]
        },
        {
          "data": {
            "text/html": [
              "<div>\n",
              "<style scoped>\n",
              "    .dataframe tbody tr th:only-of-type {\n",
              "        vertical-align: middle;\n",
              "    }\n",
              "\n",
              "    .dataframe tbody tr th {\n",
              "        vertical-align: top;\n",
              "    }\n",
              "\n",
              "    .dataframe thead th {\n",
              "        text-align: right;\n",
              "    }\n",
              "</style>\n",
              "<table border=\"1\" class=\"dataframe\">\n",
              "  <thead>\n",
              "    <tr style=\"text-align: right;\">\n",
              "      <th></th>\n",
              "      <th>listwise</th>\n",
              "      <th>listwise_hybrid</th>\n",
              "    </tr>\n",
              "  </thead>\n",
              "  <tbody>\n",
              "    <tr>\n",
              "      <th>Precision@10</th>\n",
              "      <td>0.010847</td>\n",
              "      <td>0.010847</td>\n",
              "    </tr>\n",
              "    <tr>\n",
              "      <th>recall@10</th>\n",
              "      <td>0.056387</td>\n",
              "      <td>0.056387</td>\n",
              "    </tr>\n",
              "    <tr>\n",
              "      <th>ndcg@10</th>\n",
              "      <td>0.012805</td>\n",
              "      <td>0.012805</td>\n",
              "    </tr>\n",
              "    <tr>\n",
              "      <th>map@10</th>\n",
              "      <td>0.023854</td>\n",
              "      <td>0.023854</td>\n",
              "    </tr>\n",
              "    <tr>\n",
              "      <th>novelty@10</th>\n",
              "      <td>3.546670</td>\n",
              "      <td>3.546670</td>\n",
              "    </tr>\n",
              "  </tbody>\n",
              "</table>\n",
              "</div>"
            ],
            "text/plain": [
              "              listwise  listwise_hybrid\n",
              "Precision@10  0.010847         0.010847\n",
              "recall@10     0.056387         0.056387\n",
              "ndcg@10       0.012805         0.012805\n",
              "map@10        0.023854         0.023854\n",
              "novelty@10    3.546670         3.546670"
            ]
          },
          "execution_count": 18,
          "metadata": {},
          "output_type": "execute_result"
        }
      ],
      "source": [
        "models_metrics['listwise'] = calc_metrics_(ranker_test, 'listwise_rank')\n",
        "models_metrics['listwise_hybrid'] = calc_metrics_(ranker_test, 'listwise_hybrid_rank')\n",
        "pd.DataFrame(models_metrics)[['listwise', 'listwise_hybrid']]"
      ]
    },
    {
      "cell_type": "code",
      "execution_count": 19,
      "metadata": {
        "colab": {
          "base_uri": "https://localhost:8080/",
          "height": 223
        },
        "id": "35mBfXq26bbS",
        "outputId": "5e41678e-0d55-42a4-cfbd-614948818727"
      },
      "outputs": [
        {
          "name": "stderr",
          "output_type": "stream",
          "text": [
            "/mnt/88fdd009-dda3-49d8-9888-cfd9d9d5910a/ITMO/RecomendationsService/.venv/lib/python3.10/site-packages/rectools/metrics/base.py:58: UserWarning: Expected integer dtype of 'rank' column in 'reco' dataframe.\n",
            "  warnings.warn(f\"Expected integer dtype of '{Columns.Rank}' column in 'reco' dataframe.\")\n"
          ]
        },
        {
          "data": {
            "text/html": [
              "<div>\n",
              "<style scoped>\n",
              "    .dataframe tbody tr th:only-of-type {\n",
              "        vertical-align: middle;\n",
              "    }\n",
              "\n",
              "    .dataframe tbody tr th {\n",
              "        vertical-align: top;\n",
              "    }\n",
              "\n",
              "    .dataframe thead th {\n",
              "        text-align: right;\n",
              "    }\n",
              "</style>\n",
              "<table border=\"1\" class=\"dataframe\">\n",
              "  <thead>\n",
              "    <tr style=\"text-align: right;\">\n",
              "      <th></th>\n",
              "      <th>lfm</th>\n",
              "      <th>listwise</th>\n",
              "      <th>listwise_hybrid</th>\n",
              "    </tr>\n",
              "  </thead>\n",
              "  <tbody>\n",
              "    <tr>\n",
              "      <th>Precision@10</th>\n",
              "      <td>0.010847</td>\n",
              "      <td>0.010847</td>\n",
              "      <td>0.010847</td>\n",
              "    </tr>\n",
              "    <tr>\n",
              "      <th>recall@10</th>\n",
              "      <td>0.056387</td>\n",
              "      <td>0.056387</td>\n",
              "      <td>0.056387</td>\n",
              "    </tr>\n",
              "    <tr>\n",
              "      <th>ndcg@10</th>\n",
              "      <td>0.012805</td>\n",
              "      <td>0.012805</td>\n",
              "      <td>0.012805</td>\n",
              "    </tr>\n",
              "    <tr>\n",
              "      <th>map@10</th>\n",
              "      <td>0.023854</td>\n",
              "      <td>0.023854</td>\n",
              "      <td>0.023854</td>\n",
              "    </tr>\n",
              "    <tr>\n",
              "      <th>novelty@10</th>\n",
              "      <td>3.546670</td>\n",
              "      <td>3.546670</td>\n",
              "      <td>3.546670</td>\n",
              "    </tr>\n",
              "  </tbody>\n",
              "</table>\n",
              "</div>"
            ],
            "text/plain": [
              "                   lfm  listwise  listwise_hybrid\n",
              "Precision@10  0.010847  0.010847         0.010847\n",
              "recall@10     0.056387  0.056387         0.056387\n",
              "ndcg@10       0.012805  0.012805         0.012805\n",
              "map@10        0.023854  0.023854         0.023854\n",
              "novelty@10    3.546670  3.546670         3.546670"
            ]
          },
          "execution_count": 19,
          "metadata": {},
          "output_type": "execute_result"
        }
      ],
      "source": [
        "models_metrics['listwise'] = calc_metrics_(ranker_test, 'listwise_rank')\n",
        "pd.DataFrame(models_metrics)"
      ]
    },
    {
      "cell_type": "markdown",
      "metadata": {
        "id": "x4yd9KG1aE21"
      },
      "source": [
        "Теперь возмем модель второго уровня"
      ]
    },
    {
      "cell_type": "code",
      "execution_count": 20,
      "metadata": {
        "id": "KQWTYSIJbF2s"
      },
      "outputs": [],
      "source": [
        "def get_group(df: pd.DataFrame) -> np.ndarray:\n",
        "    return np.array(\n",
        "        df[['user_id', 'item_id']]\n",
        "        .groupby(by=['user_id']).count()\n",
        "        ['item_id']\n",
        "    )"
      ]
    },
    {
      "cell_type": "code",
      "execution_count": 35,
      "metadata": {
        "colab": {
          "base_uri": "https://localhost:8080/",
          "height": 143
        },
        "id": "z0d43CbgbJ9g",
        "outputId": "5bae0897-3ecb-4943-9f27-da1e1fbcb6a1"
      },
      "outputs": [
        {
          "data": {
            "text/html": [
              "<div>\n",
              "<style scoped>\n",
              "    .dataframe tbody tr th:only-of-type {\n",
              "        vertical-align: middle;\n",
              "    }\n",
              "\n",
              "    .dataframe tbody tr th {\n",
              "        vertical-align: top;\n",
              "    }\n",
              "\n",
              "    .dataframe thead th {\n",
              "        text-align: right;\n",
              "    }\n",
              "</style>\n",
              "<table border=\"1\" class=\"dataframe\">\n",
              "  <thead>\n",
              "    <tr style=\"text-align: right;\">\n",
              "      <th></th>\n",
              "      <th>user_id</th>\n",
              "      <th>item_id</th>\n",
              "      <th>datetime</th>\n",
              "      <th>total_dur</th>\n",
              "      <th>weight</th>\n",
              "      <th>score</th>\n",
              "      <th>rank</th>\n",
              "      <th>target_ranker</th>\n",
              "    </tr>\n",
              "  </thead>\n",
              "  <tbody>\n",
              "    <tr>\n",
              "      <th>2847010</th>\n",
              "      <td>21</td>\n",
              "      <td>24</td>\n",
              "      <td>2021-07-01</td>\n",
              "      <td>0.0</td>\n",
              "      <td>0.0</td>\n",
              "      <td>1.818225</td>\n",
              "      <td>99.0</td>\n",
              "      <td>0</td>\n",
              "    </tr>\n",
              "    <tr>\n",
              "      <th>2846970</th>\n",
              "      <td>21</td>\n",
              "      <td>101</td>\n",
              "      <td>2021-07-01</td>\n",
              "      <td>0.0</td>\n",
              "      <td>0.0</td>\n",
              "      <td>2.106124</td>\n",
              "      <td>58.0</td>\n",
              "      <td>0</td>\n",
              "    </tr>\n",
              "    <tr>\n",
              "      <th>2846931</th>\n",
              "      <td>21</td>\n",
              "      <td>142</td>\n",
              "      <td>2021-07-01</td>\n",
              "      <td>0.0</td>\n",
              "      <td>0.0</td>\n",
              "      <td>2.710972</td>\n",
              "      <td>14.0</td>\n",
              "      <td>0</td>\n",
              "    </tr>\n",
              "    <tr>\n",
              "      <th>2846994</th>\n",
              "      <td>21</td>\n",
              "      <td>366</td>\n",
              "      <td>2021-07-01</td>\n",
              "      <td>0.0</td>\n",
              "      <td>0.0</td>\n",
              "      <td>1.916106</td>\n",
              "      <td>83.0</td>\n",
              "      <td>0</td>\n",
              "    </tr>\n",
              "    <tr>\n",
              "      <th>2847000</th>\n",
              "      <td>21</td>\n",
              "      <td>416</td>\n",
              "      <td>2021-07-01</td>\n",
              "      <td>0.0</td>\n",
              "      <td>0.0</td>\n",
              "      <td>1.872532</td>\n",
              "      <td>89.0</td>\n",
              "      <td>0</td>\n",
              "    </tr>\n",
              "  </tbody>\n",
              "</table>\n",
              "</div>"
            ],
            "text/plain": [
              "         user_id  item_id   datetime  total_dur  weight     score  rank  \\\n",
              "2847010       21       24 2021-07-01        0.0     0.0  1.818225  99.0   \n",
              "2846970       21      101 2021-07-01        0.0     0.0  2.106124  58.0   \n",
              "2846931       21      142 2021-07-01        0.0     0.0  2.710972  14.0   \n",
              "2846994       21      366 2021-07-01        0.0     0.0  1.916106  83.0   \n",
              "2847000       21      416 2021-07-01        0.0     0.0  1.872532  89.0   \n",
              "\n",
              "         target_ranker  \n",
              "2847010              0  \n",
              "2846970              0  \n",
              "2846931              0  \n",
              "2846994              0  \n",
              "2847000              0  "
            ]
          },
          "execution_count": 35,
          "metadata": {},
          "output_type": "execute_result"
        }
      ],
      "source": [
        "# Добавим таргет посложнее\n",
        "\n",
        "def add_target(df: pd.DataFrame) -> pd.DataFrame:\n",
        "    \"\"\"\n",
        "    0 - доля досмотра < 0.15\n",
        "    1 - 0.15 <= доля досмотра < 0.75\n",
        "    2 - 0.75 <= доля досмотра\n",
        "    \"\"\"\n",
        "    df['target_ranker'] = (df[Columns.Weight] >= 15).astype(int)\n",
        "    df['target_ranker'] += (df[Columns.Weight] >= 75).astype(int)\n",
        "    return df\n",
        "\n",
        "ranker_train = add_target(ranker_train)\n",
        "ranker_val = add_target(ranker_val)\n",
        "ranker_test = add_target(ranker_test)\n",
        "\n",
        "ranker_train.head()\n",
        "# ranker_train.iloc[[0,1,2,4,5]]"
      ]
    },
    {
      "cell_type": "code",
      "execution_count": 36,
      "metadata": {
        "colab": {
          "base_uri": "https://localhost:8080/"
        },
        "id": "hEeHlPDjb2RG",
        "outputId": "a2f6777d-0c45-4fb2-e19d-5dc043691469"
      },
      "outputs": [
        {
          "data": {
            "text/plain": [
              "Index(['user_id', 'item_id', 'datetime', 'total_dur', 'weight', 'score',\n",
              "       'rank', 'target_ranker'],\n",
              "      dtype='object')"
            ]
          },
          "execution_count": 36,
          "metadata": {},
          "output_type": "execute_result"
        }
      ],
      "source": [
        "ranker_train.columns"
      ]
    },
    {
      "cell_type": "code",
      "execution_count": null,
      "metadata": {
        "colab": {
          "base_uri": "https://localhost:8080/",
          "height": 1000
        },
        "id": "d6vLHInRbNmu",
        "outputId": "a43ac25a-4a61-4349-d415-0a09be5f0413"
      },
      "outputs": [
        {
          "name": "stdout",
          "output_type": "stream",
          "text": [
            "[LightGBM] [Warning] early_stopping_round is set=32, early_stopping_rounds=32 will be ignored. Current value: early_stopping_round=32\n",
            "[LightGBM] [Debug] Dataset::GetMultiBinFromAllFeatures: sparse rate 0.308813\n",
            "[LightGBM] [Debug] init for col-wise cost 0.000022 seconds, init for row-wise cost 0.242445 seconds\n",
            "[LightGBM] [Info] Auto-choosing row-wise multi-threading, the overhead of testing was 0.085335 seconds.\n",
            "You can set `force_row_wise=true` to remove the overhead.\n",
            "And if memory is not enough, you can set `force_col_wise=true`.\n",
            "[LightGBM] [Debug] Using Sparse Multi-Val Bin\n",
            "[LightGBM] [Info] Total Bins 360\n",
            "[LightGBM] [Info] Number of data points in the train set: 5824630, number of used features: 3\n",
            "[LightGBM] [Warning] early_stopping_round is set=32, early_stopping_rounds=32 will be ignored. Current value: early_stopping_round=32\n",
            "[LightGBM] [Warning] No further splits with positive gain, best gain: -inf\n",
            "[LightGBM] [Debug] Trained a tree with leaves = 5 and depth = 4\n",
            "Training until validation scores don't improve for 32 rounds\n",
            "[LightGBM] [Warning] No further splits with positive gain, best gain: -inf\n",
            "[LightGBM] [Debug] Trained a tree with leaves = 8 and depth = 4\n",
            "[LightGBM] [Warning] No further splits with positive gain, best gain: -inf\n",
            "[LightGBM] [Debug] Trained a tree with leaves = 7 and depth = 4\n",
            "[LightGBM] [Warning] No further splits with positive gain, best gain: -inf\n",
            "[LightGBM] [Debug] Trained a tree with leaves = 7 and depth = 4\n",
            "[LightGBM] [Warning] No further splits with positive gain, best gain: -inf\n",
            "[LightGBM] [Debug] Trained a tree with leaves = 8 and depth = 4\n",
            "[LightGBM] [Warning] No further splits with positive gain, best gain: -inf\n",
            "[LightGBM] [Debug] Trained a tree with leaves = 8 and depth = 4\n",
            "[LightGBM] [Warning] No further splits with positive gain, best gain: -inf\n",
            "[LightGBM] [Debug] Trained a tree with leaves = 7 and depth = 4\n",
            "[LightGBM] [Warning] No further splits with positive gain, best gain: -inf\n",
            "[LightGBM] [Debug] Trained a tree with leaves = 7 and depth = 4\n",
            "[LightGBM] [Warning] No further splits with positive gain, best gain: -inf\n",
            "[LightGBM] [Debug] Trained a tree with leaves = 7 and depth = 4\n",
            "[LightGBM] [Warning] No further splits with positive gain, best gain: -inf\n",
            "[LightGBM] [Debug] Trained a tree with leaves = 6 and depth = 4\n",
            "[LightGBM] [Warning] No further splits with positive gain, best gain: -inf\n",
            "[LightGBM] [Debug] Trained a tree with leaves = 6 and depth = 4\n",
            "[LightGBM] [Warning] No further splits with positive gain, best gain: -inf\n",
            "[LightGBM] [Debug] Trained a tree with leaves = 6 and depth = 4\n",
            "[LightGBM] [Warning] No further splits with positive gain, best gain: -inf\n",
            "[LightGBM] [Debug] Trained a tree with leaves = 6 and depth = 4\n",
            "[LightGBM] [Warning] No further splits with positive gain, best gain: -inf\n",
            "[LightGBM] [Debug] Trained a tree with leaves = 6 and depth = 4\n",
            "[LightGBM] [Warning] No further splits with positive gain, best gain: -inf\n",
            "[LightGBM] [Debug] Trained a tree with leaves = 6 and depth = 4\n",
            "[LightGBM] [Warning] No further splits with positive gain, best gain: -inf\n",
            "[LightGBM] [Debug] Trained a tree with leaves = 6 and depth = 4\n",
            "[LightGBM] [Warning] No further splits with positive gain, best gain: -inf\n",
            "[LightGBM] [Debug] Trained a tree with leaves = 6 and depth = 4\n",
            "[LightGBM] [Warning] No further splits with positive gain, best gain: -inf\n",
            "[LightGBM] [Debug] Trained a tree with leaves = 6 and depth = 4\n",
            "[LightGBM] [Warning] No further splits with positive gain, best gain: -inf\n",
            "[LightGBM] [Debug] Trained a tree with leaves = 6 and depth = 4\n",
            "[LightGBM] [Warning] No further splits with positive gain, best gain: -inf\n",
            "[LightGBM] [Debug] Trained a tree with leaves = 6 and depth = 4\n",
            "[LightGBM] [Warning] No further splits with positive gain, best gain: -inf\n",
            "[LightGBM] [Debug] Trained a tree with leaves = 6 and depth = 4\n",
            "[LightGBM] [Warning] No further splits with positive gain, best gain: -inf\n",
            "[LightGBM] [Debug] Trained a tree with leaves = 6 and depth = 4\n",
            "[LightGBM] [Warning] No further splits with positive gain, best gain: -inf\n",
            "[LightGBM] [Debug] Trained a tree with leaves = 6 and depth = 4\n",
            "[LightGBM] [Warning] No further splits with positive gain, best gain: -inf\n",
            "[LightGBM] [Debug] Trained a tree with leaves = 6 and depth = 4\n",
            "[LightGBM] [Warning] No further splits with positive gain, best gain: -inf\n",
            "[LightGBM] [Debug] Trained a tree with leaves = 6 and depth = 4\n",
            "[LightGBM] [Warning] No further splits with positive gain, best gain: -inf\n",
            "[LightGBM] [Debug] Trained a tree with leaves = 6 and depth = 4\n",
            "[LightGBM] [Warning] No further splits with positive gain, best gain: -inf\n",
            "[LightGBM] [Debug] Trained a tree with leaves = 6 and depth = 4\n",
            "[LightGBM] [Warning] No further splits with positive gain, best gain: -inf\n",
            "[LightGBM] [Debug] Trained a tree with leaves = 6 and depth = 4\n",
            "[LightGBM] [Warning] No further splits with positive gain, best gain: -inf\n",
            "[LightGBM] [Debug] Trained a tree with leaves = 6 and depth = 4\n",
            "[LightGBM] [Warning] No further splits with positive gain, best gain: -inf\n",
            "[LightGBM] [Debug] Trained a tree with leaves = 6 and depth = 4\n",
            "[LightGBM] [Warning] No further splits with positive gain, best gain: -inf\n",
            "[LightGBM] [Debug] Trained a tree with leaves = 6 and depth = 4\n",
            "[LightGBM] [Warning] No further splits with positive gain, best gain: -inf\n",
            "[LightGBM] [Debug] Trained a tree with leaves = 6 and depth = 4\n",
            "[LightGBM] [Warning] No further splits with positive gain, best gain: -inf\n",
            "[LightGBM] [Debug] Trained a tree with leaves = 6 and depth = 4\n",
            "Early stopping, best iteration is:\n",
            "[1]\tvalid_0's ndcg@3: 1\tvalid_0's ndcg@5: 1\tvalid_0's ndcg@10: 1\n"
          ]
        },
        {
          "data": {
            "text/html": [
              "<style>#sk-container-id-1 {color: black;background-color: white;}#sk-container-id-1 pre{padding: 0;}#sk-container-id-1 div.sk-toggleable {background-color: white;}#sk-container-id-1 label.sk-toggleable__label {cursor: pointer;display: block;width: 100%;margin-bottom: 0;padding: 0.3em;box-sizing: border-box;text-align: center;}#sk-container-id-1 label.sk-toggleable__label-arrow:before {content: \"▸\";float: left;margin-right: 0.25em;color: #696969;}#sk-container-id-1 label.sk-toggleable__label-arrow:hover:before {color: black;}#sk-container-id-1 div.sk-estimator:hover label.sk-toggleable__label-arrow:before {color: black;}#sk-container-id-1 div.sk-toggleable__content {max-height: 0;max-width: 0;overflow: hidden;text-align: left;background-color: #f0f8ff;}#sk-container-id-1 div.sk-toggleable__content pre {margin: 0.2em;color: black;border-radius: 0.25em;background-color: #f0f8ff;}#sk-container-id-1 input.sk-toggleable__control:checked~div.sk-toggleable__content {max-height: 200px;max-width: 100%;overflow: auto;}#sk-container-id-1 input.sk-toggleable__control:checked~label.sk-toggleable__label-arrow:before {content: \"▾\";}#sk-container-id-1 div.sk-estimator input.sk-toggleable__control:checked~label.sk-toggleable__label {background-color: #d4ebff;}#sk-container-id-1 div.sk-label input.sk-toggleable__control:checked~label.sk-toggleable__label {background-color: #d4ebff;}#sk-container-id-1 input.sk-hidden--visually {border: 0;clip: rect(1px 1px 1px 1px);clip: rect(1px, 1px, 1px, 1px);height: 1px;margin: -1px;overflow: hidden;padding: 0;position: absolute;width: 1px;}#sk-container-id-1 div.sk-estimator {font-family: monospace;background-color: #f0f8ff;border: 1px dotted black;border-radius: 0.25em;box-sizing: border-box;margin-bottom: 0.5em;}#sk-container-id-1 div.sk-estimator:hover {background-color: #d4ebff;}#sk-container-id-1 div.sk-parallel-item::after {content: \"\";width: 100%;border-bottom: 1px solid gray;flex-grow: 1;}#sk-container-id-1 div.sk-label:hover label.sk-toggleable__label {background-color: #d4ebff;}#sk-container-id-1 div.sk-serial::before {content: \"\";position: absolute;border-left: 1px solid gray;box-sizing: border-box;top: 0;bottom: 0;left: 50%;z-index: 0;}#sk-container-id-1 div.sk-serial {display: flex;flex-direction: column;align-items: center;background-color: white;padding-right: 0.2em;padding-left: 0.2em;position: relative;}#sk-container-id-1 div.sk-item {position: relative;z-index: 1;}#sk-container-id-1 div.sk-parallel {display: flex;align-items: stretch;justify-content: center;background-color: white;position: relative;}#sk-container-id-1 div.sk-item::before, #sk-container-id-1 div.sk-parallel-item::before {content: \"\";position: absolute;border-left: 1px solid gray;box-sizing: border-box;top: 0;bottom: 0;left: 50%;z-index: -1;}#sk-container-id-1 div.sk-parallel-item {display: flex;flex-direction: column;z-index: 1;position: relative;background-color: white;}#sk-container-id-1 div.sk-parallel-item:first-child::after {align-self: flex-end;width: 50%;}#sk-container-id-1 div.sk-parallel-item:last-child::after {align-self: flex-start;width: 50%;}#sk-container-id-1 div.sk-parallel-item:only-child::after {width: 0;}#sk-container-id-1 div.sk-dashed-wrapped {border: 1px dashed gray;margin: 0 0.4em 0.5em 0.4em;box-sizing: border-box;padding-bottom: 0.4em;background-color: white;}#sk-container-id-1 div.sk-label label {font-family: monospace;font-weight: bold;display: inline-block;line-height: 1.2em;}#sk-container-id-1 div.sk-label-container {text-align: center;}#sk-container-id-1 div.sk-container {/* jupyter's `normalize.less` sets `[hidden] { display: none; }` but bootstrap.min.css set `[hidden] { display: none !important; }` so we also need the `!important` here to be able to override the default hidden behavior on the sphinx rendered scikit-learn.org. See: https://github.com/scikit-learn/scikit-learn/issues/21755 */display: inline-block !important;position: relative;}#sk-container-id-1 div.sk-text-repr-fallback {display: none;}</style><div id=\"sk-container-id-1\" class=\"sk-top-container\"><div class=\"sk-text-repr-fallback\"><pre>LGBMRanker(colsample_bytree=0.9, early_stopping_rounds=32, learning_rate=0.25,\n",
              "           max_depth=4, min_child_samples=100, n_estimators=10000,\n",
              "           num_leaves=10, objective=&#x27;lambdarank&#x27;, random_state=42, reg_lambda=1,\n",
              "           verbose=4)</pre><b>In a Jupyter environment, please rerun this cell to show the HTML representation or trust the notebook. <br />On GitHub, the HTML representation is unable to render, please try loading this page with nbviewer.org.</b></div><div class=\"sk-container\" hidden><div class=\"sk-item\"><div class=\"sk-estimator sk-toggleable\"><input class=\"sk-toggleable__control sk-hidden--visually\" id=\"sk-estimator-id-1\" type=\"checkbox\" checked><label for=\"sk-estimator-id-1\" class=\"sk-toggleable__label sk-toggleable__label-arrow\">LGBMRanker</label><div class=\"sk-toggleable__content\"><pre>LGBMRanker(colsample_bytree=0.9, early_stopping_rounds=32, learning_rate=0.25,\n",
              "           max_depth=4, min_child_samples=100, n_estimators=10000,\n",
              "           num_leaves=10, objective=&#x27;lambdarank&#x27;, random_state=42, reg_lambda=1,\n",
              "           verbose=4)</pre></div></div></div></div></div>"
            ],
            "text/plain": [
              "LGBMRanker(colsample_bytree=0.9, early_stopping_rounds=32, learning_rate=0.25,\n",
              "           max_depth=4, min_child_samples=100, n_estimators=10000,\n",
              "           num_leaves=10, objective='lambdarank', random_state=42, reg_lambda=1,\n",
              "           verbose=4)"
            ]
          },
          "execution_count": 51,
          "metadata": {},
          "output_type": "execute_result"
        }
      ],
      "source": [
        "# Для обучения модели второго уровня используются только следующие фичи:\n",
        "train_features = [\n",
        "    'score', 'rank', 'target_ranker'\n",
        "]\n",
        "\n",
        "early_stopping_rounds = 32\n",
        "params = {\n",
        "    'objective': 'lambdarank',  # lambdarank, оптимизирующий ndcg\n",
        "    'n_estimators': 10000,  # максимальное число деревьев\n",
        "    'max_depth': 5,  # максимальная глубина дерева\n",
        "    'num_leaves': 10,  # число листьев << 2^max_depth\n",
        "    'min_child_samples': 100,  # число примеров в листе\n",
        "    'learning_rate': 0.25,  # шаг обучения\n",
        "    'reg_lambda': 1,  # L2 регуляризация\n",
        "    'colsample_bytree': 0.9,  # доля колонок, которая используется в каждом дереве\n",
        "    'early_stopping_rounds': early_stopping_rounds,  # число итераций, в течение которых нет улучшения метрик\n",
        "    'verbose': early_stopping_rounds // 8,  # период вывода метрик\n",
        "    'random_state': RANDOM_STATE,\n",
        "}\n",
        "fit_params = {\n",
        "    'X': ranker_train[train_features],\n",
        "    'y': ranker_train['target_ranker'],\n",
        "    'group': get_group(ranker_train),\n",
        "    'eval_set': [(ranker_val[train_features], ranker_val['target_ranker'])],\n",
        "    'eval_group': [get_group(ranker_val)],\n",
        "    'eval_metric': 'ndcg',\n",
        "    'eval_at': (3, 5, 10),\n",
        "    'feature_name': train_features,\n",
        "}\n",
        "second_model = LGBMRanker(**params)\n",
        "second_model.fit(**fit_params)"
      ]
    },
    {
      "cell_type": "code",
      "execution_count": 47,
      "metadata": {},
      "outputs": [
        {
          "name": "stdout",
          "output_type": "stream",
          "text": [
            "[LightGBM] [Warning] early_stopping_round is set=32, early_stopping_rounds=32 will be ignored. Current value: early_stopping_round=32\n",
            "[LightGBM] [Debug] Dataset::GetMultiBinFromAllFeatures: sparse rate 0.308572\n",
            "[LightGBM] [Debug] init for col-wise cost 0.000010 seconds, init for row-wise cost 0.158552 seconds\n",
            "[LightGBM] [Info] Auto-choosing row-wise multi-threading, the overhead of testing was 0.026249 seconds.\n",
            "You can set `force_row_wise=true` to remove the overhead.\n",
            "And if memory is not enough, you can set `force_col_wise=true`.\n",
            "[LightGBM] [Debug] Using Sparse Multi-Val Bin\n",
            "[LightGBM] [Info] Total Bins 360\n",
            "[LightGBM] [Info] Number of data points in the train set: 5797004, number of used features: 3\n",
            "[LightGBM] [Warning] early_stopping_round is set=32, early_stopping_rounds=32 will be ignored. Current value: early_stopping_round=32\n",
            "[LightGBM] [Warning] No further splits with positive gain, best gain: -inf\n",
            "[LightGBM] [Debug] Trained a tree with leaves = 7 and depth = 5\n",
            "Training until validation scores don't improve for 32 rounds\n",
            "[LightGBM] [Debug] Trained a tree with leaves = 10 and depth = 5\n",
            "[LightGBM] [Debug] Trained a tree with leaves = 10 and depth = 5\n",
            "[LightGBM] [Debug] Trained a tree with leaves = 10 and depth = 5\n",
            "[LightGBM] [Debug] Trained a tree with leaves = 10 and depth = 5\n",
            "[LightGBM] [Debug] Trained a tree with leaves = 10 and depth = 5\n",
            "[LightGBM] [Debug] Trained a tree with leaves = 10 and depth = 5\n",
            "[LightGBM] [Debug] Trained a tree with leaves = 10 and depth = 5\n",
            "[LightGBM] [Debug] Trained a tree with leaves = 10 and depth = 5\n",
            "[LightGBM] [Debug] Trained a tree with leaves = 10 and depth = 5\n",
            "[LightGBM] [Debug] Trained a tree with leaves = 10 and depth = 5\n",
            "[LightGBM] [Debug] Trained a tree with leaves = 10 and depth = 5\n",
            "[LightGBM] [Warning] No further splits with positive gain, best gain: -inf\n",
            "[LightGBM] [Debug] Trained a tree with leaves = 9 and depth = 5\n",
            "[LightGBM] [Debug] Trained a tree with leaves = 10 and depth = 5\n",
            "[LightGBM] [Warning] No further splits with positive gain, best gain: -inf\n",
            "[LightGBM] [Debug] Trained a tree with leaves = 9 and depth = 5\n",
            "[LightGBM] [Debug] Trained a tree with leaves = 10 and depth = 5\n",
            "[LightGBM] [Debug] Trained a tree with leaves = 10 and depth = 5\n",
            "[LightGBM] [Debug] Trained a tree with leaves = 10 and depth = 5\n",
            "[LightGBM] [Debug] Trained a tree with leaves = 10 and depth = 5\n",
            "[LightGBM] [Warning] No further splits with positive gain, best gain: -inf\n",
            "[LightGBM] [Debug] Trained a tree with leaves = 9 and depth = 5\n",
            "[LightGBM] [Debug] Trained a tree with leaves = 10 and depth = 5\n",
            "[LightGBM] [Warning] No further splits with positive gain, best gain: -inf\n",
            "[LightGBM] [Debug] Trained a tree with leaves = 8 and depth = 5\n",
            "[LightGBM] [Warning] No further splits with positive gain, best gain: -inf\n",
            "[LightGBM] [Debug] Trained a tree with leaves = 9 and depth = 5\n",
            "[LightGBM] [Debug] Trained a tree with leaves = 10 and depth = 5\n",
            "[LightGBM] [Debug] Trained a tree with leaves = 10 and depth = 5\n",
            "[LightGBM] [Warning] No further splits with positive gain, best gain: -inf\n",
            "[LightGBM] [Debug] Trained a tree with leaves = 9 and depth = 5\n",
            "[LightGBM] [Debug] Trained a tree with leaves = 10 and depth = 5\n",
            "[LightGBM] [Debug] Trained a tree with leaves = 10 and depth = 5\n",
            "[LightGBM] [Warning] No further splits with positive gain, best gain: -inf\n",
            "[LightGBM] [Debug] Trained a tree with leaves = 8 and depth = 5\n",
            "[LightGBM] [Warning] No further splits with positive gain, best gain: -inf\n",
            "[LightGBM] [Debug] Trained a tree with leaves = 9 and depth = 5\n",
            "[LightGBM] [Warning] No further splits with positive gain, best gain: -inf\n",
            "[LightGBM] [Debug] Trained a tree with leaves = 6 and depth = 4\n",
            "[LightGBM] [Warning] No further splits with positive gain, best gain: -inf\n",
            "[LightGBM] [Debug] Trained a tree with leaves = 9 and depth = 5\n",
            "[LightGBM] [Warning] No further splits with positive gain, best gain: -inf\n",
            "[LightGBM] [Debug] Trained a tree with leaves = 6 and depth = 5\n",
            "Early stopping, best iteration is:\n",
            "[1]\tvalid_0's ndcg@3: 1\tvalid_0's ndcg@5: 1\tvalid_0's ndcg@10: 1\n"
          ]
        },
        {
          "data": {
            "text/html": [
              "<style>#sk-container-id-2 {color: black;}#sk-container-id-2 pre{padding: 0;}#sk-container-id-2 div.sk-toggleable {background-color: white;}#sk-container-id-2 label.sk-toggleable__label {cursor: pointer;display: block;width: 100%;margin-bottom: 0;padding: 0.3em;box-sizing: border-box;text-align: center;}#sk-container-id-2 label.sk-toggleable__label-arrow:before {content: \"▸\";float: left;margin-right: 0.25em;color: #696969;}#sk-container-id-2 label.sk-toggleable__label-arrow:hover:before {color: black;}#sk-container-id-2 div.sk-estimator:hover label.sk-toggleable__label-arrow:before {color: black;}#sk-container-id-2 div.sk-toggleable__content {max-height: 0;max-width: 0;overflow: hidden;text-align: left;background-color: #f0f8ff;}#sk-container-id-2 div.sk-toggleable__content pre {margin: 0.2em;color: black;border-radius: 0.25em;background-color: #f0f8ff;}#sk-container-id-2 input.sk-toggleable__control:checked~div.sk-toggleable__content {max-height: 200px;max-width: 100%;overflow: auto;}#sk-container-id-2 input.sk-toggleable__control:checked~label.sk-toggleable__label-arrow:before {content: \"▾\";}#sk-container-id-2 div.sk-estimator input.sk-toggleable__control:checked~label.sk-toggleable__label {background-color: #d4ebff;}#sk-container-id-2 div.sk-label input.sk-toggleable__control:checked~label.sk-toggleable__label {background-color: #d4ebff;}#sk-container-id-2 input.sk-hidden--visually {border: 0;clip: rect(1px 1px 1px 1px);clip: rect(1px, 1px, 1px, 1px);height: 1px;margin: -1px;overflow: hidden;padding: 0;position: absolute;width: 1px;}#sk-container-id-2 div.sk-estimator {font-family: monospace;background-color: #f0f8ff;border: 1px dotted black;border-radius: 0.25em;box-sizing: border-box;margin-bottom: 0.5em;}#sk-container-id-2 div.sk-estimator:hover {background-color: #d4ebff;}#sk-container-id-2 div.sk-parallel-item::after {content: \"\";width: 100%;border-bottom: 1px solid gray;flex-grow: 1;}#sk-container-id-2 div.sk-label:hover label.sk-toggleable__label {background-color: #d4ebff;}#sk-container-id-2 div.sk-serial::before {content: \"\";position: absolute;border-left: 1px solid gray;box-sizing: border-box;top: 0;bottom: 0;left: 50%;z-index: 0;}#sk-container-id-2 div.sk-serial {display: flex;flex-direction: column;align-items: center;background-color: white;padding-right: 0.2em;padding-left: 0.2em;position: relative;}#sk-container-id-2 div.sk-item {position: relative;z-index: 1;}#sk-container-id-2 div.sk-parallel {display: flex;align-items: stretch;justify-content: center;background-color: white;position: relative;}#sk-container-id-2 div.sk-item::before, #sk-container-id-2 div.sk-parallel-item::before {content: \"\";position: absolute;border-left: 1px solid gray;box-sizing: border-box;top: 0;bottom: 0;left: 50%;z-index: -1;}#sk-container-id-2 div.sk-parallel-item {display: flex;flex-direction: column;z-index: 1;position: relative;background-color: white;}#sk-container-id-2 div.sk-parallel-item:first-child::after {align-self: flex-end;width: 50%;}#sk-container-id-2 div.sk-parallel-item:last-child::after {align-self: flex-start;width: 50%;}#sk-container-id-2 div.sk-parallel-item:only-child::after {width: 0;}#sk-container-id-2 div.sk-dashed-wrapped {border: 1px dashed gray;margin: 0 0.4em 0.5em 0.4em;box-sizing: border-box;padding-bottom: 0.4em;background-color: white;}#sk-container-id-2 div.sk-label label {font-family: monospace;font-weight: bold;display: inline-block;line-height: 1.2em;}#sk-container-id-2 div.sk-label-container {text-align: center;}#sk-container-id-2 div.sk-container {/* jupyter's `normalize.less` sets `[hidden] { display: none; }` but bootstrap.min.css set `[hidden] { display: none !important; }` so we also need the `!important` here to be able to override the default hidden behavior on the sphinx rendered scikit-learn.org. See: https://github.com/scikit-learn/scikit-learn/issues/21755 */display: inline-block !important;position: relative;}#sk-container-id-2 div.sk-text-repr-fallback {display: none;}</style><div id=\"sk-container-id-2\" class=\"sk-top-container\"><div class=\"sk-text-repr-fallback\"><pre>LGBMRanker(colsample_bytree=0.9, early_stopping_rounds=32, learning_rate=0.25,\n",
              "           max_depth=5, min_child_samples=100, n_estimators=10000,\n",
              "           num_leaves=10, objective=&#x27;lambdarank&#x27;, random_state=1337,\n",
              "           reg_lambda=1, verbose=4)</pre><b>In a Jupyter environment, please rerun this cell to show the HTML representation or trust the notebook. <br />On GitHub, the HTML representation is unable to render, please try loading this page with nbviewer.org.</b></div><div class=\"sk-container\" hidden><div class=\"sk-item\"><div class=\"sk-estimator sk-toggleable\"><input class=\"sk-toggleable__control sk-hidden--visually\" id=\"sk-estimator-id-2\" type=\"checkbox\" checked><label for=\"sk-estimator-id-2\" class=\"sk-toggleable__label sk-toggleable__label-arrow\">LGBMRanker</label><div class=\"sk-toggleable__content\"><pre>LGBMRanker(colsample_bytree=0.9, early_stopping_rounds=32, learning_rate=0.25,\n",
              "           max_depth=5, min_child_samples=100, n_estimators=10000,\n",
              "           num_leaves=10, objective=&#x27;lambdarank&#x27;, random_state=1337,\n",
              "           reg_lambda=1, verbose=4)</pre></div></div></div></div></div>"
            ],
            "text/plain": [
              "LGBMRanker(colsample_bytree=0.9, early_stopping_rounds=32, learning_rate=0.25,\n",
              "           max_depth=5, min_child_samples=100, n_estimators=10000,\n",
              "           num_leaves=10, objective='lambdarank', random_state=1337,\n",
              "           reg_lambda=1, verbose=4)"
            ]
          },
          "execution_count": 47,
          "metadata": {},
          "output_type": "execute_result"
        }
      ],
      "source": [
        "# Для обучения модели второго уровня используются только следующие фичи:\n",
        "train_features = [\n",
        "    'score', 'rank', 'target_ranker'\n",
        "]\n",
        "\n",
        "early_stopping_rounds = 32\n",
        "params = {\n",
        "    'objective': 'lambdarank',  # lambdarank, оптимизирующий ndcg\n",
        "    'n_estimators': 10000,  # максимальное число деревьев\n",
        "    'max_depth': 5,  # максимальная глубина дерева\n",
        "    'num_leaves': 10,  # число листьев << 2^max_depth\n",
        "    'min_child_samples': 100,  # число примеров в листе\n",
        "    'learning_rate': 0.25,  # шаг обучения\n",
        "    'reg_lambda': 1,  # L2 регуляризация\n",
        "    'colsample_bytree': 0.9,  # доля колонок, которая используется в каждом дереве\n",
        "    'early_stopping_rounds': early_stopping_rounds,  # число итераций, в течение которых нет улучшения метрик\n",
        "    'verbose': early_stopping_rounds // 8,  # период вывода метрик\n",
        "    'random_state': RANDOM_STATE,\n",
        "}\n",
        "fit_params = {\n",
        "    'X': ranker_train[train_features],\n",
        "    'y': ranker_train['target_ranker'],\n",
        "    'group': get_group(ranker_train),\n",
        "    'eval_set': [(ranker_val[train_features], ranker_val['target_ranker'])],\n",
        "    'eval_group': [get_group(ranker_val)],\n",
        "    'eval_metric': 'ndcg',\n",
        "    'eval_at': (3, 5, 10),\n",
        "    'feature_name': train_features,\n",
        "}\n",
        "second_model = LGBMRanker(**params)\n",
        "second_model.fit(**fit_params)\n",
        "\n",
        "with open('second_model.pkl', 'wb') as f:\n",
        "    pickle.dump(second_model, f)"
      ]
    },
    {
      "cell_type": "code",
      "execution_count": 37,
      "metadata": {
        "id": "QEtEyXttnEz-"
      },
      "outputs": [],
      "source": [
        "def add_score_and_rank(df: pd.DataFrame, y_pred_scores: np.ndarray, name: str) -> pd.DataFrame:\n",
        "    # Добавляем скор модели второго уровня\n",
        "    df[f'{name}_score'] = y_pred_scores\n",
        "    # Добавляем ранг модели второго уровня\n",
        "    df.sort_values(\n",
        "        by=['user_id', f'{name}_score'],\n",
        "        ascending=[True, False],\n",
        "        inplace=True,\n",
        "    )\n",
        "    df[f'{name}_rank'] = df.groupby('user_id').cumcount() + 1\n",
        "\n",
        "    return df"
      ]
    },
    {
      "cell_type": "markdown",
      "metadata": {},
      "source": [
        "Получим ранжирование от модели второго уровня и посчитаем метрики"
      ]
    },
    {
      "cell_type": "code",
      "execution_count": 43,
      "metadata": {
        "colab": {
          "base_uri": "https://localhost:8080/",
          "height": 215
        },
        "id": "YUNY3UO-m9E1",
        "outputId": "6cb44fb1-e24a-47e5-9263-3d3f9b11ba88"
      },
      "outputs": [
        {
          "data": {
            "text/html": [
              "<div>\n",
              "<style scoped>\n",
              "    .dataframe tbody tr th:only-of-type {\n",
              "        vertical-align: middle;\n",
              "    }\n",
              "\n",
              "    .dataframe tbody tr th {\n",
              "        vertical-align: top;\n",
              "    }\n",
              "\n",
              "    .dataframe thead th {\n",
              "        text-align: right;\n",
              "    }\n",
              "</style>\n",
              "<table border=\"1\" class=\"dataframe\">\n",
              "  <thead>\n",
              "    <tr style=\"text-align: right;\">\n",
              "      <th></th>\n",
              "      <th>user_id</th>\n",
              "      <th>item_id</th>\n",
              "      <th>datetime</th>\n",
              "      <th>total_dur</th>\n",
              "      <th>weight</th>\n",
              "      <th>score</th>\n",
              "      <th>rank</th>\n",
              "      <th>target_ranker</th>\n",
              "      <th>target_score</th>\n",
              "      <th>target_rank</th>\n",
              "    </tr>\n",
              "  </thead>\n",
              "  <tbody>\n",
              "    <tr>\n",
              "      <th>72130</th>\n",
              "      <td>3</td>\n",
              "      <td>3734</td>\n",
              "      <td>2021-07-22</td>\n",
              "      <td>5377.0</td>\n",
              "      <td>99.0</td>\n",
              "      <td>3.268239</td>\n",
              "      <td>6.0</td>\n",
              "      <td>2</td>\n",
              "      <td>0.499984</td>\n",
              "      <td>1</td>\n",
              "    </tr>\n",
              "    <tr>\n",
              "      <th>1098162</th>\n",
              "      <td>3</td>\n",
              "      <td>14</td>\n",
              "      <td>2021-07-01</td>\n",
              "      <td>0.0</td>\n",
              "      <td>0.0</td>\n",
              "      <td>1.832561</td>\n",
              "      <td>60.0</td>\n",
              "      <td>0</td>\n",
              "      <td>-0.499987</td>\n",
              "      <td>2</td>\n",
              "    </tr>\n",
              "    <tr>\n",
              "      <th>1098193</th>\n",
              "      <td>3</td>\n",
              "      <td>24</td>\n",
              "      <td>2021-07-01</td>\n",
              "      <td>0.0</td>\n",
              "      <td>0.0</td>\n",
              "      <td>1.597180</td>\n",
              "      <td>91.0</td>\n",
              "      <td>0</td>\n",
              "      <td>-0.499987</td>\n",
              "      <td>3</td>\n",
              "    </tr>\n",
              "    <tr>\n",
              "      <th>1098150</th>\n",
              "      <td>3</td>\n",
              "      <td>101</td>\n",
              "      <td>2021-07-01</td>\n",
              "      <td>0.0</td>\n",
              "      <td>0.0</td>\n",
              "      <td>1.949663</td>\n",
              "      <td>48.0</td>\n",
              "      <td>0</td>\n",
              "      <td>-0.499987</td>\n",
              "      <td>4</td>\n",
              "    </tr>\n",
              "    <tr>\n",
              "      <th>1098111</th>\n",
              "      <td>3</td>\n",
              "      <td>142</td>\n",
              "      <td>2021-07-01</td>\n",
              "      <td>0.0</td>\n",
              "      <td>0.0</td>\n",
              "      <td>2.940772</td>\n",
              "      <td>9.0</td>\n",
              "      <td>0</td>\n",
              "      <td>-0.499987</td>\n",
              "      <td>5</td>\n",
              "    </tr>\n",
              "  </tbody>\n",
              "</table>\n",
              "</div>"
            ],
            "text/plain": [
              "         user_id  item_id   datetime  total_dur  weight     score  rank  \\\n",
              "72130          3     3734 2021-07-22     5377.0    99.0  3.268239   6.0   \n",
              "1098162        3       14 2021-07-01        0.0     0.0  1.832561  60.0   \n",
              "1098193        3       24 2021-07-01        0.0     0.0  1.597180  91.0   \n",
              "1098150        3      101 2021-07-01        0.0     0.0  1.949663  48.0   \n",
              "1098111        3      142 2021-07-01        0.0     0.0  2.940772   9.0   \n",
              "\n",
              "         target_ranker  target_score  target_rank  \n",
              "72130                2      0.499984            1  \n",
              "1098162              0     -0.499987            2  \n",
              "1098193              0     -0.499987            3  \n",
              "1098150              0     -0.499987            4  \n",
              "1098111              0     -0.499987            5  "
            ]
          },
          "execution_count": 43,
          "metadata": {},
          "output_type": "execute_result"
        }
      ],
      "source": [
        "y_pred = second_model.predict(ranker_test[train_features])\n",
        "ranker_test = add_score_and_rank(ranker_test, y_pred, 'target')\n",
        "ranker_test.head()"
      ]
    },
    {
      "cell_type": "code",
      "execution_count": 44,
      "metadata": {},
      "outputs": [
        {
          "name": "stderr",
          "output_type": "stream",
          "text": [
            "/mnt/88fdd009-dda3-49d8-9888-cfd9d9d5910a/ITMO/RecomendationsService/.venv/lib/python3.10/site-packages/rectools/metrics/base.py:58: UserWarning: Expected integer dtype of 'rank' column in 'reco' dataframe.\n",
            "  warnings.warn(f\"Expected integer dtype of '{Columns.Rank}' column in 'reco' dataframe.\")\n"
          ]
        },
        {
          "data": {
            "text/html": [
              "<div>\n",
              "<style scoped>\n",
              "    .dataframe tbody tr th:only-of-type {\n",
              "        vertical-align: middle;\n",
              "    }\n",
              "\n",
              "    .dataframe tbody tr th {\n",
              "        vertical-align: top;\n",
              "    }\n",
              "\n",
              "    .dataframe thead th {\n",
              "        text-align: right;\n",
              "    }\n",
              "</style>\n",
              "<table border=\"1\" class=\"dataframe\">\n",
              "  <thead>\n",
              "    <tr style=\"text-align: right;\">\n",
              "      <th></th>\n",
              "      <th>lfm</th>\n",
              "      <th>listwise</th>\n",
              "      <th>listwise_hybrid</th>\n",
              "      <th>target</th>\n",
              "    </tr>\n",
              "  </thead>\n",
              "  <tbody>\n",
              "    <tr>\n",
              "      <th>Precision@10</th>\n",
              "      <td>0.010847</td>\n",
              "      <td>0.010847</td>\n",
              "      <td>0.010847</td>\n",
              "      <td>0.010847</td>\n",
              "    </tr>\n",
              "    <tr>\n",
              "      <th>recall@10</th>\n",
              "      <td>0.056387</td>\n",
              "      <td>0.056387</td>\n",
              "      <td>0.056387</td>\n",
              "      <td>0.056387</td>\n",
              "    </tr>\n",
              "    <tr>\n",
              "      <th>ndcg@10</th>\n",
              "      <td>0.012805</td>\n",
              "      <td>0.012805</td>\n",
              "      <td>0.012805</td>\n",
              "      <td>0.012805</td>\n",
              "    </tr>\n",
              "    <tr>\n",
              "      <th>map@10</th>\n",
              "      <td>0.023854</td>\n",
              "      <td>0.023854</td>\n",
              "      <td>0.023854</td>\n",
              "      <td>0.023854</td>\n",
              "    </tr>\n",
              "    <tr>\n",
              "      <th>novelty@10</th>\n",
              "      <td>3.546670</td>\n",
              "      <td>3.546670</td>\n",
              "      <td>3.546670</td>\n",
              "      <td>3.546670</td>\n",
              "    </tr>\n",
              "  </tbody>\n",
              "</table>\n",
              "</div>"
            ],
            "text/plain": [
              "                   lfm  listwise  listwise_hybrid    target\n",
              "Precision@10  0.010847  0.010847         0.010847  0.010847\n",
              "recall@10     0.056387  0.056387         0.056387  0.056387\n",
              "ndcg@10       0.012805  0.012805         0.012805  0.012805\n",
              "map@10        0.023854  0.023854         0.023854  0.023854\n",
              "novelty@10    3.546670  3.546670         3.546670  3.546670"
            ]
          },
          "execution_count": 44,
          "metadata": {},
          "output_type": "execute_result"
        }
      ],
      "source": [
        "models_metrics['target'] = calc_metrics_(ranker_test, 'target')\n",
        "pd.DataFrame(models_metrics)"
      ]
    },
    {
      "cell_type": "markdown",
      "metadata": {},
      "source": [
        "Получим рекомендации для всех юзеров для прогона через сервис"
      ]
    },
    {
      "cell_type": "code",
      "execution_count": null,
      "metadata": {},
      "outputs": [],
      "source": [
        "all_results = {}\n",
        "\n",
        "for data_part in [ranker_train, ranker_val, ranker_test]:\n",
        "    y_pred = second_model.predict(ranker_train[train_features])\n",
        "    data = add_score_and_rank(ranker_train, y_pred, 'target')\n",
        "    data.head()\n",
        "    \n",
        "    data_group = data.groupby('user_id').agg(list)\n",
        "    data_group['item_id'] = data.apply(lambda row: [x for _, x in sorted(zip(row['target_rank'], row['item_id']))], axis=1)\n",
        "    results_dict = data_group['item_id'].to_dict()\n",
        "    all_results.update(results_dict)\n",
        "\n",
        "with open('results_6.pkl', 'wb') as f:\n",
        "    pickle.dump(all_results, f)"
      ]
    }
  ],
  "metadata": {
    "colab": {
      "provenance": []
    },
    "kernelspec": {
      "display_name": "Python 3",
      "name": "python3"
    },
    "language_info": {
      "codemirror_mode": {
        "name": "ipython",
        "version": 3
      },
      "file_extension": ".py",
      "mimetype": "text/x-python",
      "name": "python",
      "nbconvert_exporter": "python",
      "pygments_lexer": "ipython3",
      "version": "3.10.12"
    },
    "widgets": {
      "application/vnd.jupyter.widget-state+json": {
        "006764e558c14871ab60618c1e217ffc": {
          "model_module": "@jupyter-widgets/base",
          "model_module_version": "1.2.0",
          "model_name": "LayoutModel",
          "state": {
            "_model_module": "@jupyter-widgets/base",
            "_model_module_version": "1.2.0",
            "_model_name": "LayoutModel",
            "_view_count": null,
            "_view_module": "@jupyter-widgets/base",
            "_view_module_version": "1.2.0",
            "_view_name": "LayoutView",
            "align_content": null,
            "align_items": null,
            "align_self": null,
            "border": null,
            "bottom": null,
            "display": null,
            "flex": null,
            "flex_flow": null,
            "grid_area": null,
            "grid_auto_columns": null,
            "grid_auto_flow": null,
            "grid_auto_rows": null,
            "grid_column": null,
            "grid_gap": null,
            "grid_row": null,
            "grid_template_areas": null,
            "grid_template_columns": null,
            "grid_template_rows": null,
            "height": null,
            "justify_content": null,
            "justify_items": null,
            "left": null,
            "margin": null,
            "max_height": null,
            "max_width": null,
            "min_height": null,
            "min_width": null,
            "object_fit": null,
            "object_position": null,
            "order": null,
            "overflow": null,
            "overflow_x": null,
            "overflow_y": null,
            "padding": null,
            "right": null,
            "top": null,
            "visibility": null,
            "width": null
          }
        },
        "01285e4b421a42a09f37b7e7f8821e0d": {
          "model_module": "@jupyter-widgets/base",
          "model_module_version": "1.2.0",
          "model_name": "LayoutModel",
          "state": {
            "_model_module": "@jupyter-widgets/base",
            "_model_module_version": "1.2.0",
            "_model_name": "LayoutModel",
            "_view_count": null,
            "_view_module": "@jupyter-widgets/base",
            "_view_module_version": "1.2.0",
            "_view_name": "LayoutView",
            "align_content": null,
            "align_items": null,
            "align_self": null,
            "border": null,
            "bottom": null,
            "display": null,
            "flex": null,
            "flex_flow": null,
            "grid_area": null,
            "grid_auto_columns": null,
            "grid_auto_flow": null,
            "grid_auto_rows": null,
            "grid_column": null,
            "grid_gap": null,
            "grid_row": null,
            "grid_template_areas": null,
            "grid_template_columns": null,
            "grid_template_rows": null,
            "height": null,
            "justify_content": null,
            "justify_items": null,
            "left": null,
            "margin": null,
            "max_height": null,
            "max_width": null,
            "min_height": null,
            "min_width": null,
            "object_fit": null,
            "object_position": null,
            "order": null,
            "overflow": null,
            "overflow_x": null,
            "overflow_y": null,
            "padding": null,
            "right": null,
            "top": null,
            "visibility": null,
            "width": null
          }
        },
        "0f679e08cbad484aa2f42cec41aaa82b": {
          "model_module": "@jupyter-widgets/controls",
          "model_module_version": "1.5.0",
          "model_name": "DescriptionStyleModel",
          "state": {
            "_model_module": "@jupyter-widgets/controls",
            "_model_module_version": "1.5.0",
            "_model_name": "DescriptionStyleModel",
            "_view_count": null,
            "_view_module": "@jupyter-widgets/base",
            "_view_module_version": "1.2.0",
            "_view_name": "StyleView",
            "description_width": ""
          }
        },
        "229c5a50fe3b4d62ad59bcda3ce264dd": {
          "model_module": "@jupyter-widgets/controls",
          "model_module_version": "1.5.0",
          "model_name": "HBoxModel",
          "state": {
            "_dom_classes": [],
            "_model_module": "@jupyter-widgets/controls",
            "_model_module_version": "1.5.0",
            "_model_name": "HBoxModel",
            "_view_count": null,
            "_view_module": "@jupyter-widgets/controls",
            "_view_module_version": "1.5.0",
            "_view_name": "HBoxView",
            "box_style": "",
            "children": [
              "IPY_MODEL_3c4dc8f66dda408abf2dbceabd80fa0b",
              "IPY_MODEL_f5413f2d2f9c40bcb4144c00e80f3ebe",
              "IPY_MODEL_8b54a09f39cd4d82bdcd49cc88d7c15b"
            ],
            "layout": "IPY_MODEL_01285e4b421a42a09f37b7e7f8821e0d"
          }
        },
        "3c4dc8f66dda408abf2dbceabd80fa0b": {
          "model_module": "@jupyter-widgets/controls",
          "model_module_version": "1.5.0",
          "model_name": "HTMLModel",
          "state": {
            "_dom_classes": [],
            "_model_module": "@jupyter-widgets/controls",
            "_model_module_version": "1.5.0",
            "_model_name": "HTMLModel",
            "_view_count": null,
            "_view_module": "@jupyter-widgets/controls",
            "_view_module_version": "1.5.0",
            "_view_name": "HTMLView",
            "description": "",
            "description_tooltip": null,
            "layout": "IPY_MODEL_006764e558c14871ab60618c1e217ffc",
            "placeholder": "​",
            "style": "IPY_MODEL_c4a993dbe9924aa7847f6218f797dee8",
            "value": "kion dataset download: 100%"
          }
        },
        "7a6e6de4a14d4352a1d858bcd7417189": {
          "model_module": "@jupyter-widgets/base",
          "model_module_version": "1.2.0",
          "model_name": "LayoutModel",
          "state": {
            "_model_module": "@jupyter-widgets/base",
            "_model_module_version": "1.2.0",
            "_model_name": "LayoutModel",
            "_view_count": null,
            "_view_module": "@jupyter-widgets/base",
            "_view_module_version": "1.2.0",
            "_view_name": "LayoutView",
            "align_content": null,
            "align_items": null,
            "align_self": null,
            "border": null,
            "bottom": null,
            "display": null,
            "flex": null,
            "flex_flow": null,
            "grid_area": null,
            "grid_auto_columns": null,
            "grid_auto_flow": null,
            "grid_auto_rows": null,
            "grid_column": null,
            "grid_gap": null,
            "grid_row": null,
            "grid_template_areas": null,
            "grid_template_columns": null,
            "grid_template_rows": null,
            "height": null,
            "justify_content": null,
            "justify_items": null,
            "left": null,
            "margin": null,
            "max_height": null,
            "max_width": null,
            "min_height": null,
            "min_width": null,
            "object_fit": null,
            "object_position": null,
            "order": null,
            "overflow": null,
            "overflow_x": null,
            "overflow_y": null,
            "padding": null,
            "right": null,
            "top": null,
            "visibility": null,
            "width": null
          }
        },
        "8b54a09f39cd4d82bdcd49cc88d7c15b": {
          "model_module": "@jupyter-widgets/controls",
          "model_module_version": "1.5.0",
          "model_name": "HTMLModel",
          "state": {
            "_dom_classes": [],
            "_model_module": "@jupyter-widgets/controls",
            "_model_module_version": "1.5.0",
            "_model_name": "HTMLModel",
            "_view_count": null,
            "_view_module": "@jupyter-widgets/controls",
            "_view_module_version": "1.5.0",
            "_view_name": "HTMLView",
            "description": "",
            "description_tooltip": null,
            "layout": "IPY_MODEL_c84fc143f98f4a05a24e6d8ed2b7ff52",
            "placeholder": "​",
            "style": "IPY_MODEL_0f679e08cbad484aa2f42cec41aaa82b",
            "value": " 78.8M/78.8M [00:17&lt;00:00, 155MiB/s]"
          }
        },
        "c4a993dbe9924aa7847f6218f797dee8": {
          "model_module": "@jupyter-widgets/controls",
          "model_module_version": "1.5.0",
          "model_name": "DescriptionStyleModel",
          "state": {
            "_model_module": "@jupyter-widgets/controls",
            "_model_module_version": "1.5.0",
            "_model_name": "DescriptionStyleModel",
            "_view_count": null,
            "_view_module": "@jupyter-widgets/base",
            "_view_module_version": "1.2.0",
            "_view_name": "StyleView",
            "description_width": ""
          }
        },
        "c84fc143f98f4a05a24e6d8ed2b7ff52": {
          "model_module": "@jupyter-widgets/base",
          "model_module_version": "1.2.0",
          "model_name": "LayoutModel",
          "state": {
            "_model_module": "@jupyter-widgets/base",
            "_model_module_version": "1.2.0",
            "_model_name": "LayoutModel",
            "_view_count": null,
            "_view_module": "@jupyter-widgets/base",
            "_view_module_version": "1.2.0",
            "_view_name": "LayoutView",
            "align_content": null,
            "align_items": null,
            "align_self": null,
            "border": null,
            "bottom": null,
            "display": null,
            "flex": null,
            "flex_flow": null,
            "grid_area": null,
            "grid_auto_columns": null,
            "grid_auto_flow": null,
            "grid_auto_rows": null,
            "grid_column": null,
            "grid_gap": null,
            "grid_row": null,
            "grid_template_areas": null,
            "grid_template_columns": null,
            "grid_template_rows": null,
            "height": null,
            "justify_content": null,
            "justify_items": null,
            "left": null,
            "margin": null,
            "max_height": null,
            "max_width": null,
            "min_height": null,
            "min_width": null,
            "object_fit": null,
            "object_position": null,
            "order": null,
            "overflow": null,
            "overflow_x": null,
            "overflow_y": null,
            "padding": null,
            "right": null,
            "top": null,
            "visibility": null,
            "width": null
          }
        },
        "da8aee603f2e4f719b9cbc367cc4e697": {
          "model_module": "@jupyter-widgets/controls",
          "model_module_version": "1.5.0",
          "model_name": "ProgressStyleModel",
          "state": {
            "_model_module": "@jupyter-widgets/controls",
            "_model_module_version": "1.5.0",
            "_model_name": "ProgressStyleModel",
            "_view_count": null,
            "_view_module": "@jupyter-widgets/base",
            "_view_module_version": "1.2.0",
            "_view_name": "StyleView",
            "bar_color": null,
            "description_width": ""
          }
        },
        "f5413f2d2f9c40bcb4144c00e80f3ebe": {
          "model_module": "@jupyter-widgets/controls",
          "model_module_version": "1.5.0",
          "model_name": "FloatProgressModel",
          "state": {
            "_dom_classes": [],
            "_model_module": "@jupyter-widgets/controls",
            "_model_module_version": "1.5.0",
            "_model_name": "FloatProgressModel",
            "_view_count": null,
            "_view_module": "@jupyter-widgets/controls",
            "_view_module_version": "1.5.0",
            "_view_name": "ProgressView",
            "bar_style": "",
            "description": "",
            "description_tooltip": null,
            "layout": "IPY_MODEL_7a6e6de4a14d4352a1d858bcd7417189",
            "max": 78795295,
            "min": 0,
            "orientation": "horizontal",
            "style": "IPY_MODEL_da8aee603f2e4f719b9cbc367cc4e697",
            "value": 78795295
          }
        }
      }
    }
  },
  "nbformat": 4,
  "nbformat_minor": 0
}
